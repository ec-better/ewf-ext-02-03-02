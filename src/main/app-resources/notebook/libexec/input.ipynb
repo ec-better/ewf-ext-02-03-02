{
 "cells": [
  {
   "cell_type": "markdown",
   "metadata": {
    "slideshow": {
     "slide_type": "skip"
    }
   },
   "source": [
    "## ewf-ext-02-03-02 - NDVI growing season statistics time series per pixel"
   ]
  },
  {
   "cell_type": "markdown",
   "metadata": {},
   "source": [
    "NDVI growing season statistics time series per pixel"
   ]
  },
  {
   "cell_type": "markdown",
   "metadata": {},
   "source": [
    "---"
   ]
  },
  {
   "cell_type": "markdown",
   "metadata": {},
   "source": [
    "### <a name=\"service\">Service definition"
   ]
  },
  {
   "cell_type": "code",
   "execution_count": 52,
   "metadata": {
    "collapsed": true
   },
   "outputs": [],
   "source": [
    "service = dict([('title', 'NDVI growing season statistics time series per pixel'),\n",
    "                ('abstract', 'NDVI growing season statistics time series per pixel'),\n",
    "                ('id', 'ewf-ext-02-03-02')])"
   ]
  },
  {
   "cell_type": "markdown",
   "metadata": {},
   "source": [
    "### <a name=\"parameter\">Parameter Definition "
   ]
  },
  {
   "cell_type": "code",
   "execution_count": 53,
   "metadata": {},
   "outputs": [],
   "source": [
    "regionOfInterest = dict([('id', 'regionOfInterest'),\n",
    "                         ('value', 'POLYGON ((-8.864205 38.88616500000001, -8.864205 38.986165, -8.964205000000002 38.986165, -8.964205000000002 38.88616500000001, -8.864205 38.88616500000001))'),\n",
    "                         ('title', 'WKT Polygon for the Region of Interest'),\n",
    "                         ('abstract', 'Set the value of WKT Polygon')])"
   ]
  },
  {
   "cell_type": "code",
   "execution_count": 54,
   "metadata": {},
   "outputs": [],
   "source": [
    "nameOfRegion = dict([('id', 'nameOfRegion'),\n",
    "                     ('value', 'P001'),\n",
    "                     ('title', 'Name of Region'),\n",
    "                     ('abstract', 'Name of the region of interest'),\n",
    "                     ('minOccurs', '1')])"
   ]
  },
  {
   "cell_type": "code",
   "execution_count": 55,
   "metadata": {},
   "outputs": [],
   "source": [
    "ndviIndex = dict([('id', 'ndviIndex'),\n",
    "             ('value', 'better-ext-02-03-01'),\n",
    "             ('title', 'ndvi catalog index'),\n",
    "             ('abstract', 'index to access ndvi catalog'),\n",
    "             ('minOccurs', '1')])"
   ]
  },
  {
   "cell_type": "code",
   "execution_count": 56,
   "metadata": {},
   "outputs": [],
   "source": [
    "ndviApikey = dict([('id', 'ndviApikey'),\n",
    "                ('value', ''),\n",
    "                ('title', 'ndvi catalog apikey'),\n",
    "                ('abstract', 'apikey to access ndvi catalog'),\n",
    "                ('minOccurs', '1')])"
   ]
  },
  {
   "cell_type": "markdown",
   "metadata": {},
   "source": [
    "### <a name=\"runtime\">Runtime parameter definition"
   ]
  },
  {
   "cell_type": "markdown",
   "metadata": {},
   "source": [
    "**Input identifiers**\n",
    "\n",
    "This is the NDVI stack of products' identifiers"
   ]
  },
  {
   "cell_type": "code",
   "execution_count": 57,
   "metadata": {
    "collapsed": true
   },
   "outputs": [],
   "source": [
    "# 2014, 2015, 2016, 2017\n",
    "#input_identifiers = ('LE07_L1TP_204033_20140311_20161117_01_T1_sr_NDVI.tif','LE07_L1TP_204033_20140428_20161116_01_T1_sr_NDVI.tif','LE07_L1TP_204033_20140514_20161115_01_T1_sr_NDVI.tif','LE07_L1TP_204033_20140530_20161115_01_T1_sr_NDVI.tif','LE07_L1TP_204033_20140615_20161113_01_T1_sr_NDVI.tif','LE07_L1TP_204033_20140701_20161112_01_T1_sr_NDVI.tif','LE07_L1TP_204033_20140717_20161112_01_T1_sr_NDVI.tif','LE07_L1TP_204033_20140818_20161111_01_T1_sr_NDVI.tif','LE07_L1TP_204033_20141208_20161030_01_T1_sr_NDVI.tif','LE07_L1TP_204033_20141224_20161030_01_T1_sr_NDVI.tif','LE07_L1TP_204033_20150109_20161030_01_T1_sr_NDVI.tif','LE07_L1TP_204033_20150125_20161029_01_T1_sr_NDVI.tif','LE07_L1TP_204033_20150314_20161028_01_T1_sr_NDVI.tif','LE07_L1TP_204033_20150330_20161028_01_T1_sr_NDVI.tif','LE07_L1TP_204033_20150517_20161026_01_T1_sr_NDVI.tif','LE07_L1TP_204033_20150602_20161025_01_T1_sr_NDVI.tif','LE07_L1TP_204033_20150618_20161025_01_T1_sr_NDVI.tif','LE07_L1TP_204033_20150704_20161024_01_T1_sr_NDVI.tif','LE07_L1TP_204033_20150720_20161027_01_T1_sr_NDVI.tif','LE07_L1TP_204033_20150805_20161023_01_T1_sr_NDVI.tif','LE07_L1TP_204033_20150821_20161022_01_T1_sr_NDVI.tif','LE07_L1TP_204033_20150922_20161019_01_T1_sr_NDVI.tif','LE07_L1TP_204033_20151008_20161018_01_T1_sr_NDVI.tif','LE07_L1TP_204033_20151109_20161017_01_T1_sr_NDVI.tif','LE07_L1TP_204033_20151227_20161016_01_T1_sr_NDVI.tif','LE07_L1TP_204033_20160112_20161015_01_T1_sr_NDVI.tif','LE07_L1TP_204033_20160229_20161014_01_T1_sr_NDVI.tif','LE07_L1TP_204033_20160401_20161013_01_T1_sr_NDVI.tif','LE07_L1TP_204033_20160503_20161011_01_T1_sr_NDVI.tif','LE07_L1TP_204033_20160519_20161010_01_T1_sr_NDVI.tif','LE07_L1TP_204033_20160620_20161209_01_T1_sr_NDVI.tif','LE07_L1TP_204033_20160706_20161009_01_T1_sr_NDVI.tif','LE07_L1TP_204033_20160722_20161010_01_T1_sr_NDVI.tif','LE07_L1TP_204033_20160807_20161008_01_T1_sr_NDVI.tif','LE07_L1TP_204033_20160823_20161007_01_T1_sr_NDVI.tif','LE07_L1TP_204033_20160908_20161006_01_T1_sr_NDVI.tif','LE07_L1TP_204033_20160924_20161023_01_T1_sr_NDVI.tif','LE07_L1TP_204033_20161026_20161121_01_T1_sr_NDVI.tif','LE07_L1TP_204033_20161127_20170118_01_T1_sr_NDVI.tif','LE07_L1TP_204033_20161229_20170219_01_T1_sr_NDVI.tif','LE07_L1TP_204033_20170114_20170209_01_T1_sr_NDVI.tif','LE07_L1TP_204033_20170319_20170414_01_T1_sr_NDVI.tif','LE07_L1TP_204033_20170404_20170430_01_T1_sr_NDVI.tif','LE07_L1TP_204033_20170420_20170516_01_T1_sr_NDVI.tif','LE07_L1TP_204033_20170506_20170601_01_T1_sr_NDVI.tif','LE07_L1TP_204033_20170522_20170617_01_T1_sr_NDVI.tif','LE07_L1TP_204033_20170607_20170703_01_T1_sr_NDVI.tif','LE07_L1TP_204033_20170623_20170719_01_T1_sr_NDVI.tif','LE07_L1TP_204033_20170709_20170804_01_T1_sr_NDVI.tif','LE07_L1TP_204033_20170725_20170820_01_T1_sr_NDVI.tif','LE07_L1TP_204033_20170810_20170905_01_T1_sr_NDVI.tif','LE07_L1TP_204033_20170826_20170921_01_T1_sr_NDVI.tif','LE07_L1TP_204033_20170911_20171007_01_T1_sr_NDVI.tif','LE07_L1TP_204033_20170927_20171023_01_T1_sr_NDVI.tif','LE07_L1TP_204033_20171013_20171110_01_T1_sr_NDVI.tif','LE07_L1TP_204033_20171029_20171124_01_T1_sr_NDVI.tif','LE07_L1TP_204033_20171114_20171210_01_T1_sr_NDVI.tif','LE07_L1TP_204033_20171130_20171226_01_T1_sr_NDVI.tif','LE07_L1TP_204033_20171216_20180111_01_T1_sr_NDVI.tif')\n",
    "\n",
    "# 2014\n",
    "#input_identifiers = ('LE07_L1TP_204033_20140311_20161117_01_T1_sr_NDVI.tif','LE07_L1TP_204033_20140428_20161116_01_T1_sr_NDVI.tif','LE07_L1TP_204033_20140514_20161115_01_T1_sr_NDVI.tif','LE07_L1TP_204033_20140530_20161115_01_T1_sr_NDVI.tif','LE07_L1TP_204033_20140615_20161113_01_T1_sr_NDVI.tif','LE07_L1TP_204033_20140701_20161112_01_T1_sr_NDVI.tif','LE07_L1TP_204033_20140717_20161112_01_T1_sr_NDVI.tif','LE07_L1TP_204033_20140818_20161111_01_T1_sr_NDVI.tif','LE07_L1TP_204033_20141208_20161030_01_T1_sr_NDVI.tif','LE07_L1TP_204033_20141224_20161030_01_T1_sr_NDVI.tif')\n",
    "\n",
    "# 2015\n",
    "#input_identifiers = ('LE07_L1TP_204033_20150109_20161030_01_T1_sr_NDVI.tif','LE07_L1TP_204033_20150125_20161029_01_T1_sr_NDVI.tif','LE07_L1TP_204033_20150314_20161028_01_T1_sr_NDVI.tif','LE07_L1TP_204033_20150330_20161028_01_T1_sr_NDVI.tif','LE07_L1TP_204033_20150517_20161026_01_T1_sr_NDVI.tif','LE07_L1TP_204033_20150602_20161025_01_T1_sr_NDVI.tif','LE07_L1TP_204033_20150618_20161025_01_T1_sr_NDVI.tif','LE07_L1TP_204033_20150704_20161024_01_T1_sr_NDVI.tif','LE07_L1TP_204033_20150720_20161027_01_T1_sr_NDVI.tif','LE07_L1TP_204033_20150805_20161023_01_T1_sr_NDVI.tif','LE07_L1TP_204033_20150821_20161022_01_T1_sr_NDVI.tif','LE07_L1TP_204033_20150922_20161019_01_T1_sr_NDVI.tif','LE07_L1TP_204033_20151008_20161018_01_T1_sr_NDVI.tif','LE07_L1TP_204033_20151109_20161017_01_T1_sr_NDVI.tif','LE07_L1TP_204033_20151227_20161016_01_T1_sr_NDVI.tif')\n",
    "\n",
    "# 2016\n",
    "#input_identifiers = ('LE07_L1TP_204033_20160112_20161015_01_T1_sr_NDVI.tif','LE07_L1TP_204033_20160229_20161014_01_T1_sr_NDVI.tif','LE07_L1TP_204033_20160401_20161013_01_T1_sr_NDVI.tif','LE07_L1TP_204033_20160503_20161011_01_T1_sr_NDVI.tif','LE07_L1TP_204033_20160519_20161010_01_T1_sr_NDVI.tif','LE07_L1TP_204033_20160620_20161209_01_T1_sr_NDVI.tif','LE07_L1TP_204033_20160706_20161009_01_T1_sr_NDVI.tif','LE07_L1TP_204033_20160722_20161010_01_T1_sr_NDVI.tif','LE07_L1TP_204033_20160807_20161008_01_T1_sr_NDVI.tif','LE07_L1TP_204033_20160823_20161007_01_T1_sr_NDVI.tif','LE07_L1TP_204033_20160908_20161006_01_T1_sr_NDVI.tif','LE07_L1TP_204033_20160924_20161023_01_T1_sr_NDVI.tif','LE07_L1TP_204033_20161026_20161121_01_T1_sr_NDVI.tif','LE07_L1TP_204033_20161127_20170118_01_T1_sr_NDVI.tif','LE07_L1TP_204033_20161229_20170219_01_T1_sr_NDVI.tif')\n",
    "\n",
    "# 2017\n",
    "#input_identifiers = ('LE07_L1TP_204033_20170114_20170209_01_T1_sr_NDVI.tif','LE07_L1TP_204033_20170319_20170414_01_T1_sr_NDVI.tif','LE07_L1TP_204033_20170404_20170430_01_T1_sr_NDVI.tif','LE07_L1TP_204033_20170420_20170516_01_T1_sr_NDVI.tif','LE07_L1TP_204033_20170506_20170601_01_T1_sr_NDVI.tif','LE07_L1TP_204033_20170522_20170617_01_T1_sr_NDVI.tif','LE07_L1TP_204033_20170607_20170703_01_T1_sr_NDVI.tif','LE07_L1TP_204033_20170623_20170719_01_T1_sr_NDVI.tif','LE07_L1TP_204033_20170709_20170804_01_T1_sr_NDVI.tif','LE07_L1TP_204033_20170725_20170820_01_T1_sr_NDVI.tif','LE07_L1TP_204033_20170810_20170905_01_T1_sr_NDVI.tif','LE07_L1TP_204033_20170826_20170921_01_T1_sr_NDVI.tif','LE07_L1TP_204033_20170911_20171007_01_T1_sr_NDVI.tif','LE07_L1TP_204033_20170927_20171023_01_T1_sr_NDVI.tif','LE07_L1TP_204033_20171013_20171110_01_T1_sr_NDVI.tif','LE07_L1TP_204033_20171029_20171124_01_T1_sr_NDVI.tif','LE07_L1TP_204033_20171114_20171210_01_T1_sr_NDVI.tif','LE07_L1TP_204033_20171130_20171226_01_T1_sr_NDVI.tif','LE07_L1TP_204033_20171216_20180111_01_T1_sr_NDVI.tif')\n",
    "\n",
    "\n",
    "#input_identifiers = ('LE07_L1TP_204033_20140311_20161117_01_T1_sr_P001_NDVI.tif','LE07_L1TP_204033_20140428_20161116_01_T1_sr_P001_NDVI.tif','LE07_L1TP_204033_20140514_20161115_01_T1_sr_P001_NDVI.tif','LE07_L1TP_204033_20140530_20161115_01_T1_sr_P001_NDVI.tif','LE07_L1TP_204033_20140615_20161113_01_T1_sr_P001_NDVI.tif','LE07_L1TP_204033_20140701_20161112_01_T1_sr_P001_NDVI.tif','LE07_L1TP_204033_20140717_20161112_01_T1_sr_P001_NDVI.tif','LE07_L1TP_204033_20140818_20161111_01_T1_sr_P001_NDVI.tif','LE07_L1TP_204033_20141208_20161030_01_T1_sr_P001_NDVI.tif','LE07_L1TP_204033_20141224_20161030_01_T1_sr_P001_NDVI.tif','LE07_L1TP_204033_20150109_20161030_01_T1_sr_P001_NDVI.tif','LE07_L1TP_204033_20150125_20161029_01_T1_sr_P001_NDVI.tif','LE07_L1TP_204033_20150314_20161028_01_T1_sr_P001_NDVI.tif','LE07_L1TP_204033_20150330_20161028_01_T1_sr_P001_NDVI.tif','LE07_L1TP_204033_20150517_20161026_01_T1_sr_P001_NDVI.tif','LE07_L1TP_204033_20150602_20161025_01_T1_sr_P001_NDVI.tif','LE07_L1TP_204033_20150618_20161025_01_T1_sr_P001_NDVI.tif','LE07_L1TP_204033_20150704_20161024_01_T1_sr_P001_NDVI.tif','LE07_L1TP_204033_20150720_20161027_01_T1_sr_P001_NDVI.tif','LE07_L1TP_204033_20150805_20161023_01_T1_sr_P001_NDVI.tif','LE07_L1TP_204033_20150821_20161022_01_T1_sr_P001_NDVI.tif','LE07_L1TP_204033_20150922_20161019_01_T1_sr_P001_NDVI.tif','LE07_L1TP_204033_20151008_20161018_01_T1_sr_P001_NDVI.tif','LE07_L1TP_204033_20151109_20161017_01_T1_sr_P001_NDVI.tif','LE07_L1TP_204033_20151227_20161016_01_T1_sr_P001_NDVI.tif','LE07_L1TP_204033_20160112_20161015_01_T1_sr_P001_NDVI.tif','LE07_L1TP_204033_20160229_20161014_01_T1_sr_P001_NDVI.tif','LE07_L1TP_204033_20160401_20161013_01_T1_sr_P001_NDVI.tif','LE07_L1TP_204033_20160503_20161011_01_T1_sr_P001_NDVI.tif','LE07_L1TP_204033_20160519_20161010_01_T1_sr_P001_NDVI.tif','LE07_L1TP_204033_20160620_20161209_01_T1_sr_P001_NDVI.tif','LE07_L1TP_204033_20160706_20161009_01_T1_sr_P001_NDVI.tif','LE07_L1TP_204033_20160722_20161010_01_T1_sr_P001_NDVI.tif','LE07_L1TP_204033_20160807_20161008_01_T1_sr_P001_NDVI.tif','LE07_L1TP_204033_20160823_20161007_01_T1_sr_P001_NDVI.tif','LE07_L1TP_204033_20160908_20161006_01_T1_sr_P001_NDVI.tif','LE07_L1TP_204033_20160924_20161023_01_T1_sr_P001_NDVI.tif','LE07_L1TP_204033_20161026_20161121_01_T1_sr_P001_NDVI.tif','LE07_L1TP_204033_20161127_20170118_01_T1_sr_P001_NDVI.tif','LE07_L1TP_204033_20161229_20170219_01_T1_sr_P001_NDVI.tif','LE07_L1TP_204033_20170114_20170209_01_T1_sr_P001_NDVI.tif','LE07_L1TP_204033_20170319_20170414_01_T1_sr_P001_NDVI.tif','LE07_L1TP_204033_20170404_20170430_01_T1_sr_P001_NDVI.tif','LE07_L1TP_204033_20170420_20170516_01_T1_sr_P001_NDVI.tif','LE07_L1TP_204033_20170506_20170601_01_T1_sr_P001_NDVI.tif','LE07_L1TP_204033_20170522_20170617_01_T1_sr_P001_NDVI.tif','LE07_L1TP_204033_20170607_20170703_01_T1_sr_P001_NDVI.tif','LE07_L1TP_204033_20170623_20170719_01_T1_sr_P001_NDVI.tif','LE07_L1TP_204033_20170709_20170804_01_T1_sr_P001_NDVI.tif','LE07_L1TP_204033_20170725_20170820_01_T1_sr_P001_NDVI.tif','LE07_L1TP_204033_20170810_20170905_01_T1_sr_P001_NDVI.tif','LE07_L1TP_204033_20170826_20170921_01_T1_sr_P001_NDVI.tif','LE07_L1TP_204033_20170911_20171007_01_T1_sr_P001_NDVI.tif','LE07_L1TP_204033_20170927_20171023_01_T1_sr_P001_NDVI.tif','LE07_L1TP_204033_20171013_20171110_01_T1_sr_P001_NDVI.tif','LE07_L1TP_204033_20171029_20171124_01_T1_sr_P001_NDVI.tif','LE07_L1TP_204033_20171114_20171210_01_T1_sr_P001_NDVI.tif','LE07_L1TP_204033_20171130_20171226_01_T1_sr_P001_NDVI.tif','LE07_L1TP_204033_20171216_20180111_01_T1_sr_P001_NDVI.tif')\n",
    "\n",
    "\n",
    "\n",
    "\n",
    "# 2014\n",
    "#input_identifiers = ('LE07_L1TP_204033_20140311_20161117_01_T1_sr_P001_NDVI.tif','LE07_L1TP_204033_20140428_20161116_01_T1_sr_P001_NDVI.tif','LE07_L1TP_204033_20140514_20161115_01_T1_sr_P001_NDVI.tif','LE07_L1TP_204033_20140530_20161115_01_T1_sr_P001_NDVI.tif','LE07_L1TP_204033_20140615_20161113_01_T1_sr_P001_NDVI.tif','LE07_L1TP_204033_20140701_20161112_01_T1_sr_P001_NDVI.tif','LE07_L1TP_204033_20140717_20161112_01_T1_sr_P001_NDVI.tif','LE07_L1TP_204033_20140818_20161111_01_T1_sr_P001_NDVI.tif','LE07_L1TP_204033_20141208_20161030_01_T1_sr_P001_NDVI.tif','LE07_L1TP_204033_20141224_20161030_01_T1_sr_P001_NDVI.tif')\n",
    "\n",
    "# 2015\n",
    "#input_identifiers = ('LE07_L1TP_204033_20150109_20161030_01_T1_sr_P001_NDVI.tif','LE07_L1TP_204033_20150125_20161029_01_T1_sr_P001_NDVI.tif','LE07_L1TP_204033_20150314_20161028_01_T1_sr_P001_NDVI.tif','LE07_L1TP_204033_20150330_20161028_01_T1_sr_P001_NDVI.tif','LE07_L1TP_204033_20150517_20161026_01_T1_sr_P001_NDVI.tif','LE07_L1TP_204033_20150602_20161025_01_T1_sr_P001_NDVI.tif','LE07_L1TP_204033_20150618_20161025_01_T1_sr_P001_NDVI.tif','LE07_L1TP_204033_20150704_20161024_01_T1_sr_P001_NDVI.tif','LE07_L1TP_204033_20150720_20161027_01_T1_sr_P001_NDVI.tif','LE07_L1TP_204033_20150805_20161023_01_T1_sr_P001_NDVI.tif','LE07_L1TP_204033_20150821_20161022_01_T1_sr_P001_NDVI.tif','LE07_L1TP_204033_20150922_20161019_01_T1_sr_P001_NDVI.tif','LE07_L1TP_204033_20151008_20161018_01_T1_sr_P001_NDVI.tif','LE07_L1TP_204033_20151109_20161017_01_T1_sr_P001_NDVI.tif','LE07_L1TP_204033_20151227_20161016_01_T1_sr_P001_NDVI.tif')\n",
    "\n",
    "#input_identifiers = ('0CFC36158132DA794782B428E6DF76E7DC4C07CD', '4F49AF0E4B772965258B1AD001423D60228BB49A', '82A433CFFE0F4115F8A4BBFFDCB1C3D6A5709427', '487C80B2EF22D66AB8F10F65A7CBD6BAFB3E3939', '87E43FB9A02BE617A7A731DDD668B661B6EBCE07', '03F1348D9DCDC9A1E1A2B544E76C92420E70A31A', 'C72F7439E9A8853E8D64B44E52A0D24CF797F6E6', '164BB5EE04E403530B3C87F0ECDF4E95C54188B8', '1E44F63186475D883CDB9FED5E2ACB8CA992A9DF', '01D316DE31BAD714AF0F9B0CFCEED5E7697BC09F', '0E314958DD97CF88FF11F81147CE52AF3FD13B4A', 'C812DC63D58400C16515C79F8C4BCA32332B2724', 'B8EF89460AF0FE1344881FBEF5E533371BD6C404', 'A27CAA804DDA8A3B9256D1E4B9E080031E6BEBCD', '2DA8C200ABE9599DD7D5BDB155B0BE1922E2F139')\n",
    "\n",
    "# 2016\n",
    "##input_identifiers = ('LE07_L1TP_204033_20160112_20161015_01_T1_sr_P001_NDVI.tif','LE07_L1TP_204033_20160229_20161014_01_T1_sr_P001_NDVI.tif','LE07_L1TP_204033_20160401_20161013_01_T1_sr_P001_NDVI.tif','LE07_L1TP_204033_20160503_20161011_01_T1_sr_P001_NDVI.tif','LE07_L1TP_204033_20160519_20161010_01_T1_sr_P001_NDVI.tif','LE07_L1TP_204033_20160620_20161209_01_T1_sr_P001_NDVI.tif','LE07_L1TP_204033_20160706_20161009_01_T1_sr_P001_NDVI.tif','LE07_L1TP_204033_20160722_20161010_01_T1_sr_P001_NDVI.tif','LE07_L1TP_204033_20160807_20161008_01_T1_sr_P001_NDVI.tif','LE07_L1TP_204033_20160823_20161007_01_T1_sr_P001_NDVI.tif','LE07_L1TP_204033_20160908_20161006_01_T1_sr_P001_NDVI.tif','LE07_L1TP_204033_20160924_20161023_01_T1_sr_P001_NDVI.tif','LE07_L1TP_204033_20161026_20161121_01_T1_sr_P001_NDVI.tif','LE07_L1TP_204033_20161127_20170118_01_T1_sr_P001_NDVI.tif','LE07_L1TP_204033_20161229_20170219_01_T1_sr_P001_NDVI.tif')\n",
    "\n",
    "input_identifiers = ('496D00DB33D88356DAE2C344516FD5D699C1F5DE', 'B073C856BA5FD6453B08C04527FFB95DA622FFC1', '1067AFC0B24F69C2050F093DE7F110E4419174F4', 'C438B6CB4131CEBFF6741926B03B7E137641AF4C', '9C2C13C121F71803FC1E697C306C9603B6680303', 'E74B265D5CF4626BF6F360B6379D409AA5D3B8A8', '83F48D641924F90544ED66C701B36BF0E65153C8', 'F3FD3FF45ECC114A665F6C239F6812DE7786A98F', '952AC4BFAB859E9F68762A61D206D690726AF431', 'B726A411FF02675367B07D82059B2E0945C1F3DA', 'D4DFDC63732D33DB14B9E7B3D34D5BF732547F6F', '8F51A4ED9AB3DB6DC5920B06382817C28C2D1A3B', 'E21111899ECFAF1AA5A991D625B2F00BE68024E3', '944CC689671685BC84E5DBBF95A12E0825B85C81', 'A1A83855BF03D91480273FE5C32D1AA33BB77715')\n",
    "\n",
    "# 2017\n",
    "##input_identifiers = ('LE07_L1TP_204033_20170114_20170209_01_T1_sr_P001_NDVI.tif','LE07_L1TP_204033_20170319_20170414_01_T1_sr_P001_NDVI.tif','LE07_L1TP_204033_20170404_20170430_01_T1_sr_P001_NDVI.tif','LE07_L1TP_204033_20170420_20170516_01_T1_sr_P001_NDVI.tif','LE07_L1TP_204033_20170506_20170601_01_T1_sr_P001_NDVI.tif','LE07_L1TP_204033_20170522_20170617_01_T1_sr_P001_NDVI.tif','LE07_L1TP_204033_20170607_20170703_01_T1_sr_P001_NDVI.tif','LE07_L1TP_204033_20170623_20170719_01_T1_sr_P001_NDVI.tif','LE07_L1TP_204033_20170709_20170804_01_T1_sr_P001_NDVI.tif','LE07_L1TP_204033_20170725_20170820_01_T1_sr_P001_NDVI.tif','LE07_L1TP_204033_20170810_20170905_01_T1_sr_P001_NDVI.tif','LE07_L1TP_204033_20170826_20170921_01_T1_sr_P001_NDVI.tif','LE07_L1TP_204033_20170911_20171007_01_T1_sr_P001_NDVI.tif','LE07_L1TP_204033_20170927_20171023_01_T1_sr_P001_NDVI.tif','LE07_L1TP_204033_20171013_20171110_01_T1_sr_P001_NDVI.tif','LE07_L1TP_204033_20171029_20171124_01_T1_sr_P001_NDVI.tif','LE07_L1TP_204033_20171114_20171210_01_T1_sr_P001_NDVI.tif','LE07_L1TP_204033_20171130_20171226_01_T1_sr_P001_NDVI.tif','LE07_L1TP_204033_20171216_20180111_01_T1_sr_P001_NDVI.tif')\n",
    "\n",
    "#input_identifiers = ('23CFAEB3EABC76DEB761059E5358AAAA7E6B73C0', '8413BCE5866586CFA8C228F42F4A0857689C20CF', '1559F9C271D8D9133AED47EFB4F253B3E8214701', 'C8D85D9F1D4BFCBC2132F878802D28400E42D35D', 'E8EA192CE196DA08137D8C3D99D5613F51DBB4F6', 'CDED3F2A35002477AC57692830E1D68D066ED4D2', '272816AC6E6E655F0F7247C7C9DA7608B2408893', 'C4F69F8C3AEA1C2C958AB0F97A4D85DCF9CB96CB', 'FED212ED127A33D5B06F95ABD582DAB981C82772', '945E4464682095D6DB964AF430BD53357D54E140', 'FC482A14CE3A63BBDF1CBF591AD9F9E2ECFF58E7', '6B5834E426558BF0F5D167D164C6F1F5EE1D0FFD', '73288D3159115BF7AAEAA049F023340691C0E121', 'D6D4200A3247562D2EA893F23E6B9DB36FA87687', 'A391B46EAEA2CC4E32207B8909B5E991EBFD96E0', 'F3FDC848CD9781ADCF2D85A611ED40CE7E23F454', '6D5DED33A75AF7793F2D62E15692962085730DD9', '62499DA2F0E79F68B86692B468503FD8D9FFDBA2', '07CE2DB5EEE4121950D91543518D4C9A69ED504E')\n"
   ]
  },
  {
   "cell_type": "markdown",
   "metadata": {},
   "source": [
    "**Input references**\n",
    "\n",
    "This is the NDVI stack catalogue references"
   ]
  },
  {
   "cell_type": "code",
   "execution_count": 58,
   "metadata": {
    "collapsed": false,
    "slideshow": {
     "slide_type": "subslide"
    }
   },
   "outputs": [],
   "source": [
    "input_references = tuple(['https://catalog.terradue.com/better-ext-02-03-01/search?format=atom&uid={0}'.format(pid) for pid in input_identifiers])"
   ]
  },
  {
   "cell_type": "markdown",
   "metadata": {
    "slideshow": {
     "slide_type": "slide"
    }
   },
   "source": [
    "**Data path**\n",
    "\n",
    "This path defines where the data is staged-in. "
   ]
  },
  {
   "cell_type": "code",
   "execution_count": 59,
   "metadata": {
    "collapsed": true
   },
   "outputs": [],
   "source": [
    "data_path = \"/workspace/dev/ewf-ext-02-03-01/src/main/app-resources/notebook/libexec\"\n",
    "data_path = \"/workspace/dev/ewf-ext-02-03-01/src/main/app-resources/notebook/libexec/parcel\""
   ]
  },
  {
   "cell_type": "markdown",
   "metadata": {},
   "source": [
    "**Aux folders**"
   ]
  },
  {
   "cell_type": "code",
   "execution_count": 60,
   "metadata": {},
   "outputs": [],
   "source": [
    "output_folder = ''"
   ]
  },
  {
   "cell_type": "code",
   "execution_count": 61,
   "metadata": {},
   "outputs": [],
   "source": [
    "temp_folder = 'temp'"
   ]
  },
  {
   "cell_type": "markdown",
   "metadata": {},
   "source": [
    "#### Import Modules"
   ]
  },
  {
   "cell_type": "code",
   "execution_count": 62,
   "metadata": {},
   "outputs": [],
   "source": [
    "import os\n",
    "import shutil\n",
    "\n",
    "import sys\n",
    "import string\n",
    "import numpy as np\n",
    "import numpy.ma as ma\n",
    "from osgeo import gdal, ogr, osr\n",
    "from shapely.wkt import loads\n",
    "\n",
    "import matplotlib\n",
    "import matplotlib.pyplot as plt\n",
    "\n",
    "import scipy.signal\n",
    "\n",
    "import datetime\n",
    "\n",
    "import pdb\n",
    "\n",
    "\n",
    "sys.path.append(os.getcwd())\n",
    "sys.path.append('/application/notebook/libexec/')\n",
    "from s2_whittaker_helpers import *\n",
    "from whittaker import ws2d, ws2doptv, ws2doptvp\n",
    "import array\n",
    "\n",
    "import pandas as pd\n",
    "import geopandas as gpd\n",
    "\n",
    "import cioppy\n",
    "ciop = cioppy.Cioppy()"
   ]
  },
  {
   "cell_type": "markdown",
   "metadata": {},
   "source": [
    "#### Auxiliary vars"
   ]
  },
  {
   "cell_type": "code",
   "execution_count": 63,
   "metadata": {},
   "outputs": [],
   "source": [
    "check_results = True"
   ]
  },
  {
   "cell_type": "markdown",
   "metadata": {},
   "source": [
    "#### Auxiliary methods"
   ]
  },
  {
   "cell_type": "code",
   "execution_count": 64,
   "metadata": {},
   "outputs": [],
   "source": [
    "# remove contents of a given folder\n",
    "# used to clean a temporary folder\n",
    "def rm_cfolder(folder):\n",
    "    #folder = '/path/to/folder'\n",
    "    for the_file in os.listdir(folder):\n",
    "        file_path = os.path.join(folder, the_file)\n",
    "        try:\n",
    "            if os.path.isfile(file_path):\n",
    "                os.unlink(file_path)\n",
    "            elif os.path.isdir(file_path): shutil.rmtree(file_path)\n",
    "        except Exception as e:\n",
    "            print(e)\n",
    "            \n",
    "\n",
    "def get_input_metadata (input_refs):\n",
    "    \n",
    "    # for each product get metadata\n",
    "    Result_Prod = []\n",
    "    \n",
    "    for index,product_ref in enumerate(input_refs):\n",
    "        \n",
    "        # since the search is by identifier \n",
    "        Result_Prod.append(ciop.search(end_point = product_ref,params =[],output_fields='self,identifier,startdate,enclosure,startdate,enddate,wkt,title',creds='{}:{}'.format(ndviIndex['value'],ndviApikey['value']))[0] )\n",
    "    \n",
    "\n",
    "    input_metadata = gpd.GeoDataFrame.from_dict(Result_Prod)\n",
    "\n",
    "    input_metadata['startdate'] = pd.to_datetime(input_metadata['startdate'])\n",
    "    input_metadata['enddate'] = pd.to_datetime(input_metadata['enddate'])\n",
    "    \n",
    "    return input_metadata            \n",
    "\n",
    "            \n",
    "            \n",
    "def get_matrix_list(image_list, mask_value = None):\n",
    "    mat_list = []\n",
    "    for img in image_list:\n",
    "        dataset = gdal.Open(img)\n",
    "        product_array = dataset.GetRasterBand(1).ReadAsArray()\n",
    "        \n",
    "        if mask_value is not None:\n",
    "             product_array = ma.masked_values (product_array, mask_value)\n",
    "        \n",
    "        mat_list.append(product_array)\n",
    "        dataset = None\n",
    "    return mat_list\n",
    "\n",
    "\n",
    "\n",
    "def get_metadata(filepath):\n",
    "    ds = gdal.Open(filepath)\n",
    "    projection = ds.GetProjection()\n",
    "    geotransform = ds.GetGeoTransform()\n",
    "    no_data_value = ds.GetRasterBand(1).GetNoDataValue()\n",
    "    data_type = ds.GetRasterBand(1).DataType\n",
    "    return projection, geotransform, no_data_value, data_type\n",
    "\n",
    "def write_output_image(filepath, output_matrix, image_format, data_format, mask=None, output_projection=None, output_geotransform=None, no_data_value=None):\n",
    "    \n",
    "    driver = gdal.GetDriverByName(image_format)\n",
    "    out_rows = np.size(output_matrix, 0)\n",
    "    out_columns = np.size(output_matrix, 1)\n",
    "    \n",
    "    \n",
    "    if mask is not None and mask is not 0:\n",
    "        # TODO: check if output folder exists\n",
    "        output = driver.Create(filepath, out_columns, out_rows, 2, data_format)\n",
    "        mask_band = output.GetRasterBand(2)\n",
    "        mask_band.WriteArray(mask)\n",
    "        if no_data_value is not None:\n",
    "            output_matrix[mask > 0] = no_data_value\n",
    "    else:\n",
    "        output = driver.Create(filepath, out_columns, out_rows, 1, data_format)\n",
    "    \n",
    "    if output_projection is not None:\n",
    "        output.SetProjection(output_projection)\n",
    "    if output_geotransform is not None:\n",
    "        output.SetGeoTransform(output_geotransform)\n",
    "    \n",
    "    raster_band = output.GetRasterBand(1)\n",
    "    if no_data_value is not None:\n",
    "        raster_band.SetNoDataValue(no_data_value)\n",
    "    raster_band.WriteArray(output_matrix)\n",
    "    \n",
    "    gdal.Warp(filepath, output, format=\"GTiff\", outputBoundsSRS='EPSG:4326', xRes=output_geotransform[1], yRes=-output_geotransform[5], targetAlignedPixels=True)\n",
    "\n",
    "\n",
    "\n",
    "        \n",
    "        \n",
    "        \n",
    "def get_formatted_date(datetime_str):\n",
    "    date = datetime.datetime.strftime(datetime_str, '%Y-%m-%dT%H:%M:%SZ')\n",
    "    return date\n",
    "\n",
    "\n",
    "def write_properties_file(output_name, first_date, last_date, region_of_interest):\n",
    "    \n",
    "    title = 'Output %s' % output_name\n",
    "    \n",
    "    \n",
    "    first_date_str = datetime.datetime(year=first_date.year, month=first_date.month, day=first_date.day)\n",
    "    first_date_str = first_date_str + datetime.timedelta(days=0, hours=0, minutes=0, seconds=0)\n",
    "    first_date_str = get_formatted_date(first_date_str)\n",
    "    \n",
    "    last_date_str = datetime.datetime(year=last_date.year, month=last_date.month, day=last_date.day)\n",
    "    last_date_str = last_date_str + datetime.timedelta(days=0, hours=0, minutes=0, seconds=0)\n",
    "    last_date_str = get_formatted_date(last_date_str)\n",
    "    \n",
    "    if (first_date_str == last_date_str):\n",
    "        last_date_str = datetime.datetime(year=last_date.year, month=last_date.month, day=last_date.day)\n",
    "        last_date_str = last_date_str + datetime.timedelta(days=0, hours=23, minutes=59, seconds=59)\n",
    "        last_date_str = get_formatted_date(last_date_str)\n",
    "    \n",
    "    \n",
    "    with open(output_name + '.properties', 'wb') as file:\n",
    "        file.write('title=%s\\n' % title)\n",
    "        file.write('date=%s/%s\\n' % (first_date, last_date))\n",
    "        file.write('geometry=%s' % (region_of_interest))\n",
    "        \n",
    "        \n",
    "        \n",
    "def ndvi_filter (ts_ndvi_dates, ts_ndvi):\n",
    "    \n",
    "    \n",
    "    dates_a = np.array(ts_ndvi_dates)\n",
    "    ndvi_values_a = np.array(ts_ndvi, dtype='double')\n",
    "    \n",
    "    # remove no values\n",
    "    dates_a = dates_a[ndvi_values_a > -9998]\n",
    "    ndvi_values_a = ndvi_values_a[ndvi_values_a > -9998]\n",
    "    \n",
    "    \n",
    "    dates_jul = [d.strftime('%Y%j') for d in dates_a]\n",
    "\n",
    "    dates_jul2 = [str(a) for a in range(int(str(ts_ndvi_dates[0].year) + '001'), int(str(ts_ndvi_dates[0].year) + '001')+365)]\n",
    "\n",
    "    indate = dates_jul2[4]\n",
    "\n",
    "    ##### create weights\n",
    "    w = np.array((ndvi_values_a!=-9999)*1,dtype='double')\n",
    "\n",
    "    lrange = np.linspace(-1,1,11)\n",
    "\n",
    "    # apply whittaker filter with V-curve\n",
    "    z, lopt = ws2doptv(ndvi_values_a,w,array.array('d',lrange)) # In the original script the function is ws2d_vc, which is defined in modis.py.\n",
    "\n",
    "\n",
    "    ### Temporal interpolation\n",
    "\n",
    "    # little helper objects for managing dates (rtres = raw tem. resolution, stres = desired output temporal resolution)\n",
    "    #dhelper = DateHelper(rawdates=dates, rtres=8, stres=10)\n",
    "\n",
    "    dhelper = DateHelper(rawdates=dates_jul2, rtres=1, stres=15, start=indate)\n",
    "    # daily vector\n",
    "    dvec = dhelper.getDV(nd=-9999)\n",
    "\n",
    "    # target date index \n",
    "    dix = dhelper.getDIX()\n",
    "\n",
    "\n",
    "    # shift observations to midpoint of acquisition (these positions are set to 0 instead of nodata)\n",
    "    for d in dates_jul:\n",
    "        dvec[dhelper.daily.index((fromjulian(d) + datetime.timedelta(1)).strftime('%Y%j'))] = 0\n",
    "\n",
    "    dvec[ dvec != -9999 ] = z\n",
    "\n",
    "    w = np.array((dvec != -9999) * 1,dtype='double')\n",
    "\n",
    "    dvec =  ws2d(dvec,0.0001,w)\n",
    "\n",
    "    z_int = np.array(dvec)[dix]\n",
    "\n",
    "    # plot\n",
    "\n",
    "    xax1 = [fromjulian(x) for x in dates_jul]\n",
    "    xax2 = [fromjulian(x) for x in dhelper.target]\n",
    "\n",
    "    #plt.close()\n",
    "    #plt.figure(figsize=(15,8))\n",
    "    ##plt.ylim(0,1)\n",
    "    #plt.plot(xax1, ndvi_values_a, label='y')\n",
    "    #plt.plot(xax1, z, 'rs', label='z', alpha=0.7)\n",
    "    #plt.plot(xax2, z_int, 'go--', label='z_int', alpha=0.5)\n",
    "\n",
    "\n",
    "   \n",
    "    #plt.xlim((datetime.datetime(dates[0].year, 1, 1, 0, 0), datetime.datetime(dates[0].year, 12, 31, 0, 0)))\n",
    "    #plt.ylim((-1, 1))\n",
    "\n",
    "    #plt.legend()\n",
    "\n",
    "    #plt.savefig('ndvi_' + str(dates[0].year) + '.png', dpi=300)\n",
    "\n",
    "    #plt.show()\n",
    "    \n",
    "    return xax2, z_int\n",
    "\n",
    "\n",
    "\n",
    "def get_formatted_date(datetime_str):\n",
    "    date = datetime.datetime.strftime(datetime_str, '%Y-%m-%dT%H:%M:%SZ')\n",
    " \n",
    "    return date\n",
    "\n",
    "\n",
    "def write_properties_file(output_name, first_date, last_date, region_of_interest):\n",
    "    \n",
    "    title = 'Output %s' % output_name\n",
    "    \n",
    "    \n",
    "    first_date_str = datetime.datetime(year=first_date.year, month=first_date.month, day=first_date.day)\n",
    "    first_date_str = first_date_str + datetime.timedelta(days=0, hours=0, minutes=0, seconds=0)\n",
    "    first_date_str = get_formatted_date(first_date_str)\n",
    "    \n",
    "    last_date_str = datetime.datetime(year=last_date.year, month=last_date.month, day=last_date.day)\n",
    "    last_date_str = last_date_str + datetime.timedelta(days=0, hours=0, minutes=0, seconds=0)\n",
    "    last_date_str = get_formatted_date(last_date_str)\n",
    "    \n",
    "    if (first_date_str == last_date_str):\n",
    "        last_date_str = datetime.datetime(year=last_date.year, month=last_date.month, day=last_date.day)\n",
    "        last_date_str = last_date_str + datetime.timedelta(days=0, hours=23, minutes=59, seconds=59)\n",
    "        last_date_str = get_formatted_date(last_date_str)\n",
    "\n",
    "    \n",
    "    with open(output_name + '.properties', 'wb') as file:\n",
    "        file.write('title=%s\\n' % title)\n",
    "        file.write('date=%s/%s\\n' % (first_date_str, last_date_str))\n",
    "        file.write('geometry=%s' % (region_of_interest))"
   ]
  },
  {
   "cell_type": "markdown",
   "metadata": {},
   "source": [
    "#### Auxiliary folders"
   ]
  },
  {
   "cell_type": "code",
   "execution_count": 65,
   "metadata": {},
   "outputs": [],
   "source": [
    "#Create folders\n",
    "#if not os.path.isdir(data_path):\n",
    "#    os.mkdir(data_path)\n",
    "\n",
    "if len(output_folder) > 0:\n",
    "    if not os.path.isdir(output_folder):\n",
    "        os.mkdir(output_folder)\n",
    "\n",
    "if not os.path.isdir(temp_folder):\n",
    "    os.mkdir(temp_folder)"
   ]
  },
  {
   "cell_type": "markdown",
   "metadata": {},
   "source": [
    "### Workflow"
   ]
  },
  {
   "cell_type": "markdown",
   "metadata": {},
   "source": [
    "Load metadata from catalog"
   ]
  },
  {
   "cell_type": "code",
   "execution_count": 66,
   "metadata": {},
   "outputs": [
    {
     "name": "stderr",
     "output_type": "stream",
     "text": [
      "reporter:status:2019-10-30T17:48:56.852915 [INFO   ] [user process] Loading metadata from catalog\n",
      "2019-10-30T17:48:56.852915 [INFO   ] [user process] Loading metadata from catalog\n"
     ]
    }
   ],
   "source": [
    "message = 'Loading metadata from catalog' \n",
    "ciop.log('INFO', message)\n",
    "\n",
    "input_metadata = get_input_metadata (input_references)\n",
    "\n",
    "# order by startdate\n",
    "input_metadata = input_metadata.sort_values(by='startdate')\n"
   ]
  },
  {
   "cell_type": "code",
   "execution_count": 67,
   "metadata": {},
   "outputs": [
    {
     "data": {
      "text/html": [
       "<div>\n",
       "<style scoped>\n",
       "    .dataframe tbody tr th:only-of-type {\n",
       "        vertical-align: middle;\n",
       "    }\n",
       "\n",
       "    .dataframe tbody tr th {\n",
       "        vertical-align: top;\n",
       "    }\n",
       "\n",
       "    .dataframe thead th {\n",
       "        text-align: right;\n",
       "    }\n",
       "</style>\n",
       "<table border=\"1\" class=\"dataframe\">\n",
       "  <thead>\n",
       "    <tr style=\"text-align: right;\">\n",
       "      <th></th>\n",
       "      <th>enclosure</th>\n",
       "      <th>enddate</th>\n",
       "      <th>identifier</th>\n",
       "      <th>self</th>\n",
       "      <th>startdate</th>\n",
       "      <th>title</th>\n",
       "      <th>wkt</th>\n",
       "    </tr>\n",
       "  </thead>\n",
       "  <tbody>\n",
       "    <tr>\n",
       "      <th>0</th>\n",
       "      <td>https://store.terradue.com/better-ext-02-03-01...</td>\n",
       "      <td>2016-01-12 23:59:59</td>\n",
       "      <td>496D00DB33D88356DAE2C344516FD5D699C1F5DE</td>\n",
       "      <td>https://catalog.terradue.com/better-ext-02-03-...</td>\n",
       "      <td>2016-01-12</td>\n",
       "      <td>Output LE07_L1TP_204033_20160112_20161015_01_T...</td>\n",
       "      <td>POLYGON((-8.908553 38.860527,-8.90585 38.86340...</td>\n",
       "    </tr>\n",
       "    <tr>\n",
       "      <th>1</th>\n",
       "      <td>https://store.terradue.com/better-ext-02-03-01...</td>\n",
       "      <td>2016-02-29 23:59:59</td>\n",
       "      <td>B073C856BA5FD6453B08C04527FFB95DA622FFC1</td>\n",
       "      <td>https://catalog.terradue.com/better-ext-02-03-...</td>\n",
       "      <td>2016-02-29</td>\n",
       "      <td>Output LE07_L1TP_204033_20160229_20161014_01_T...</td>\n",
       "      <td>POLYGON((-8.908553 38.860527,-8.90585 38.86340...</td>\n",
       "    </tr>\n",
       "    <tr>\n",
       "      <th>2</th>\n",
       "      <td>https://store.terradue.com/better-ext-02-03-01...</td>\n",
       "      <td>2016-04-01 23:59:59</td>\n",
       "      <td>1067AFC0B24F69C2050F093DE7F110E4419174F4</td>\n",
       "      <td>https://catalog.terradue.com/better-ext-02-03-...</td>\n",
       "      <td>2016-04-01</td>\n",
       "      <td>Output LE07_L1TP_204033_20160401_20161013_01_T...</td>\n",
       "      <td>POLYGON((-8.908553 38.860527,-8.90585 38.86340...</td>\n",
       "    </tr>\n",
       "    <tr>\n",
       "      <th>3</th>\n",
       "      <td>https://store.terradue.com/better-ext-02-03-01...</td>\n",
       "      <td>2016-05-03 23:59:59</td>\n",
       "      <td>C438B6CB4131CEBFF6741926B03B7E137641AF4C</td>\n",
       "      <td>https://catalog.terradue.com/better-ext-02-03-...</td>\n",
       "      <td>2016-05-03</td>\n",
       "      <td>Output LE07_L1TP_204033_20160503_20161011_01_T...</td>\n",
       "      <td>POLYGON((-8.908553 38.860527,-8.90585 38.86340...</td>\n",
       "    </tr>\n",
       "    <tr>\n",
       "      <th>4</th>\n",
       "      <td>https://store.terradue.com/better-ext-02-03-01...</td>\n",
       "      <td>2016-05-19 23:59:59</td>\n",
       "      <td>9C2C13C121F71803FC1E697C306C9603B6680303</td>\n",
       "      <td>https://catalog.terradue.com/better-ext-02-03-...</td>\n",
       "      <td>2016-05-19</td>\n",
       "      <td>Output LE07_L1TP_204033_20160519_20161010_01_T...</td>\n",
       "      <td>POLYGON((-8.908553 38.860527,-8.90585 38.86340...</td>\n",
       "    </tr>\n",
       "    <tr>\n",
       "      <th>5</th>\n",
       "      <td>https://store.terradue.com/better-ext-02-03-01...</td>\n",
       "      <td>2016-06-20 23:59:59</td>\n",
       "      <td>E74B265D5CF4626BF6F360B6379D409AA5D3B8A8</td>\n",
       "      <td>https://catalog.terradue.com/better-ext-02-03-...</td>\n",
       "      <td>2016-06-20</td>\n",
       "      <td>Output LE07_L1TP_204033_20160620_20161209_01_T...</td>\n",
       "      <td>POLYGON((-8.908553 38.860527,-8.90585 38.86340...</td>\n",
       "    </tr>\n",
       "    <tr>\n",
       "      <th>6</th>\n",
       "      <td>https://store.terradue.com/better-ext-02-03-01...</td>\n",
       "      <td>2016-07-06 23:59:59</td>\n",
       "      <td>83F48D641924F90544ED66C701B36BF0E65153C8</td>\n",
       "      <td>https://catalog.terradue.com/better-ext-02-03-...</td>\n",
       "      <td>2016-07-06</td>\n",
       "      <td>Output LE07_L1TP_204033_20160706_20161009_01_T...</td>\n",
       "      <td>POLYGON((-8.908553 38.860527,-8.90585 38.86340...</td>\n",
       "    </tr>\n",
       "    <tr>\n",
       "      <th>7</th>\n",
       "      <td>https://store.terradue.com/better-ext-02-03-01...</td>\n",
       "      <td>2016-07-22 23:59:59</td>\n",
       "      <td>F3FD3FF45ECC114A665F6C239F6812DE7786A98F</td>\n",
       "      <td>https://catalog.terradue.com/better-ext-02-03-...</td>\n",
       "      <td>2016-07-22</td>\n",
       "      <td>Output LE07_L1TP_204033_20160722_20161010_01_T...</td>\n",
       "      <td>POLYGON((-8.908553 38.860527,-8.90585 38.86340...</td>\n",
       "    </tr>\n",
       "    <tr>\n",
       "      <th>8</th>\n",
       "      <td>https://store.terradue.com/better-ext-02-03-01...</td>\n",
       "      <td>2016-08-07 23:59:59</td>\n",
       "      <td>952AC4BFAB859E9F68762A61D206D690726AF431</td>\n",
       "      <td>https://catalog.terradue.com/better-ext-02-03-...</td>\n",
       "      <td>2016-08-07</td>\n",
       "      <td>Output LE07_L1TP_204033_20160807_20161008_01_T...</td>\n",
       "      <td>POLYGON((-8.908553 38.860527,-8.90585 38.86340...</td>\n",
       "    </tr>\n",
       "    <tr>\n",
       "      <th>9</th>\n",
       "      <td>https://store.terradue.com/better-ext-02-03-01...</td>\n",
       "      <td>2016-08-23 23:59:59</td>\n",
       "      <td>B726A411FF02675367B07D82059B2E0945C1F3DA</td>\n",
       "      <td>https://catalog.terradue.com/better-ext-02-03-...</td>\n",
       "      <td>2016-08-23</td>\n",
       "      <td>Output LE07_L1TP_204033_20160823_20161007_01_T...</td>\n",
       "      <td>POLYGON((-8.908553 38.860527,-8.90585 38.86340...</td>\n",
       "    </tr>\n",
       "    <tr>\n",
       "      <th>10</th>\n",
       "      <td>https://store.terradue.com/better-ext-02-03-01...</td>\n",
       "      <td>2016-09-08 23:59:59</td>\n",
       "      <td>D4DFDC63732D33DB14B9E7B3D34D5BF732547F6F</td>\n",
       "      <td>https://catalog.terradue.com/better-ext-02-03-...</td>\n",
       "      <td>2016-09-08</td>\n",
       "      <td>Output LE07_L1TP_204033_20160908_20161006_01_T...</td>\n",
       "      <td>POLYGON((-8.908553 38.860527,-8.90585 38.86340...</td>\n",
       "    </tr>\n",
       "    <tr>\n",
       "      <th>11</th>\n",
       "      <td>https://store.terradue.com/better-ext-02-03-01...</td>\n",
       "      <td>2016-09-24 23:59:59</td>\n",
       "      <td>8F51A4ED9AB3DB6DC5920B06382817C28C2D1A3B</td>\n",
       "      <td>https://catalog.terradue.com/better-ext-02-03-...</td>\n",
       "      <td>2016-09-24</td>\n",
       "      <td>Output LE07_L1TP_204033_20160924_20161023_01_T...</td>\n",
       "      <td>POLYGON((-8.908553 38.860527,-8.90585 38.86340...</td>\n",
       "    </tr>\n",
       "    <tr>\n",
       "      <th>12</th>\n",
       "      <td>https://store.terradue.com/better-ext-02-03-01...</td>\n",
       "      <td>2016-10-26 23:59:59</td>\n",
       "      <td>E21111899ECFAF1AA5A991D625B2F00BE68024E3</td>\n",
       "      <td>https://catalog.terradue.com/better-ext-02-03-...</td>\n",
       "      <td>2016-10-26</td>\n",
       "      <td>Output LE07_L1TP_204033_20161026_20161121_01_T...</td>\n",
       "      <td>POLYGON((-8.908553 38.860527,-8.90585 38.86340...</td>\n",
       "    </tr>\n",
       "    <tr>\n",
       "      <th>13</th>\n",
       "      <td>https://store.terradue.com/better-ext-02-03-01...</td>\n",
       "      <td>2016-11-27 23:59:59</td>\n",
       "      <td>944CC689671685BC84E5DBBF95A12E0825B85C81</td>\n",
       "      <td>https://catalog.terradue.com/better-ext-02-03-...</td>\n",
       "      <td>2016-11-27</td>\n",
       "      <td>Output LE07_L1TP_204033_20161127_20170118_01_T...</td>\n",
       "      <td>POLYGON((-8.908553 38.860527,-8.90585 38.86340...</td>\n",
       "    </tr>\n",
       "    <tr>\n",
       "      <th>14</th>\n",
       "      <td>https://store.terradue.com/better-ext-02-03-01...</td>\n",
       "      <td>2016-12-29 23:59:59</td>\n",
       "      <td>A1A83855BF03D91480273FE5C32D1AA33BB77715</td>\n",
       "      <td>https://catalog.terradue.com/better-ext-02-03-...</td>\n",
       "      <td>2016-12-29</td>\n",
       "      <td>Output LE07_L1TP_204033_20161229_20170219_01_T...</td>\n",
       "      <td>POLYGON((-8.908553 38.860527,-8.90585 38.86340...</td>\n",
       "    </tr>\n",
       "  </tbody>\n",
       "</table>\n",
       "</div>"
      ],
      "text/plain": [
       "                                            enclosure             enddate  \\\n",
       "0   https://store.terradue.com/better-ext-02-03-01... 2016-01-12 23:59:59   \n",
       "1   https://store.terradue.com/better-ext-02-03-01... 2016-02-29 23:59:59   \n",
       "2   https://store.terradue.com/better-ext-02-03-01... 2016-04-01 23:59:59   \n",
       "3   https://store.terradue.com/better-ext-02-03-01... 2016-05-03 23:59:59   \n",
       "4   https://store.terradue.com/better-ext-02-03-01... 2016-05-19 23:59:59   \n",
       "5   https://store.terradue.com/better-ext-02-03-01... 2016-06-20 23:59:59   \n",
       "6   https://store.terradue.com/better-ext-02-03-01... 2016-07-06 23:59:59   \n",
       "7   https://store.terradue.com/better-ext-02-03-01... 2016-07-22 23:59:59   \n",
       "8   https://store.terradue.com/better-ext-02-03-01... 2016-08-07 23:59:59   \n",
       "9   https://store.terradue.com/better-ext-02-03-01... 2016-08-23 23:59:59   \n",
       "10  https://store.terradue.com/better-ext-02-03-01... 2016-09-08 23:59:59   \n",
       "11  https://store.terradue.com/better-ext-02-03-01... 2016-09-24 23:59:59   \n",
       "12  https://store.terradue.com/better-ext-02-03-01... 2016-10-26 23:59:59   \n",
       "13  https://store.terradue.com/better-ext-02-03-01... 2016-11-27 23:59:59   \n",
       "14  https://store.terradue.com/better-ext-02-03-01... 2016-12-29 23:59:59   \n",
       "\n",
       "                                  identifier  \\\n",
       "0   496D00DB33D88356DAE2C344516FD5D699C1F5DE   \n",
       "1   B073C856BA5FD6453B08C04527FFB95DA622FFC1   \n",
       "2   1067AFC0B24F69C2050F093DE7F110E4419174F4   \n",
       "3   C438B6CB4131CEBFF6741926B03B7E137641AF4C   \n",
       "4   9C2C13C121F71803FC1E697C306C9603B6680303   \n",
       "5   E74B265D5CF4626BF6F360B6379D409AA5D3B8A8   \n",
       "6   83F48D641924F90544ED66C701B36BF0E65153C8   \n",
       "7   F3FD3FF45ECC114A665F6C239F6812DE7786A98F   \n",
       "8   952AC4BFAB859E9F68762A61D206D690726AF431   \n",
       "9   B726A411FF02675367B07D82059B2E0945C1F3DA   \n",
       "10  D4DFDC63732D33DB14B9E7B3D34D5BF732547F6F   \n",
       "11  8F51A4ED9AB3DB6DC5920B06382817C28C2D1A3B   \n",
       "12  E21111899ECFAF1AA5A991D625B2F00BE68024E3   \n",
       "13  944CC689671685BC84E5DBBF95A12E0825B85C81   \n",
       "14  A1A83855BF03D91480273FE5C32D1AA33BB77715   \n",
       "\n",
       "                                                 self  startdate  \\\n",
       "0   https://catalog.terradue.com/better-ext-02-03-... 2016-01-12   \n",
       "1   https://catalog.terradue.com/better-ext-02-03-... 2016-02-29   \n",
       "2   https://catalog.terradue.com/better-ext-02-03-... 2016-04-01   \n",
       "3   https://catalog.terradue.com/better-ext-02-03-... 2016-05-03   \n",
       "4   https://catalog.terradue.com/better-ext-02-03-... 2016-05-19   \n",
       "5   https://catalog.terradue.com/better-ext-02-03-... 2016-06-20   \n",
       "6   https://catalog.terradue.com/better-ext-02-03-... 2016-07-06   \n",
       "7   https://catalog.terradue.com/better-ext-02-03-... 2016-07-22   \n",
       "8   https://catalog.terradue.com/better-ext-02-03-... 2016-08-07   \n",
       "9   https://catalog.terradue.com/better-ext-02-03-... 2016-08-23   \n",
       "10  https://catalog.terradue.com/better-ext-02-03-... 2016-09-08   \n",
       "11  https://catalog.terradue.com/better-ext-02-03-... 2016-09-24   \n",
       "12  https://catalog.terradue.com/better-ext-02-03-... 2016-10-26   \n",
       "13  https://catalog.terradue.com/better-ext-02-03-... 2016-11-27   \n",
       "14  https://catalog.terradue.com/better-ext-02-03-... 2016-12-29   \n",
       "\n",
       "                                                title  \\\n",
       "0   Output LE07_L1TP_204033_20160112_20161015_01_T...   \n",
       "1   Output LE07_L1TP_204033_20160229_20161014_01_T...   \n",
       "2   Output LE07_L1TP_204033_20160401_20161013_01_T...   \n",
       "3   Output LE07_L1TP_204033_20160503_20161011_01_T...   \n",
       "4   Output LE07_L1TP_204033_20160519_20161010_01_T...   \n",
       "5   Output LE07_L1TP_204033_20160620_20161209_01_T...   \n",
       "6   Output LE07_L1TP_204033_20160706_20161009_01_T...   \n",
       "7   Output LE07_L1TP_204033_20160722_20161010_01_T...   \n",
       "8   Output LE07_L1TP_204033_20160807_20161008_01_T...   \n",
       "9   Output LE07_L1TP_204033_20160823_20161007_01_T...   \n",
       "10  Output LE07_L1TP_204033_20160908_20161006_01_T...   \n",
       "11  Output LE07_L1TP_204033_20160924_20161023_01_T...   \n",
       "12  Output LE07_L1TP_204033_20161026_20161121_01_T...   \n",
       "13  Output LE07_L1TP_204033_20161127_20170118_01_T...   \n",
       "14  Output LE07_L1TP_204033_20161229_20170219_01_T...   \n",
       "\n",
       "                                                  wkt  \n",
       "0   POLYGON((-8.908553 38.860527,-8.90585 38.86340...  \n",
       "1   POLYGON((-8.908553 38.860527,-8.90585 38.86340...  \n",
       "2   POLYGON((-8.908553 38.860527,-8.90585 38.86340...  \n",
       "3   POLYGON((-8.908553 38.860527,-8.90585 38.86340...  \n",
       "4   POLYGON((-8.908553 38.860527,-8.90585 38.86340...  \n",
       "5   POLYGON((-8.908553 38.860527,-8.90585 38.86340...  \n",
       "6   POLYGON((-8.908553 38.860527,-8.90585 38.86340...  \n",
       "7   POLYGON((-8.908553 38.860527,-8.90585 38.86340...  \n",
       "8   POLYGON((-8.908553 38.860527,-8.90585 38.86340...  \n",
       "9   POLYGON((-8.908553 38.860527,-8.90585 38.86340...  \n",
       "10  POLYGON((-8.908553 38.860527,-8.90585 38.86340...  \n",
       "11  POLYGON((-8.908553 38.860527,-8.90585 38.86340...  \n",
       "12  POLYGON((-8.908553 38.860527,-8.90585 38.86340...  \n",
       "13  POLYGON((-8.908553 38.860527,-8.90585 38.86340...  \n",
       "14  POLYGON((-8.908553 38.860527,-8.90585 38.86340...  "
      ]
     },
     "execution_count": 67,
     "metadata": {},
     "output_type": "execute_result"
    }
   ],
   "source": [
    "input_metadata"
   ]
  },
  {
   "cell_type": "markdown",
   "metadata": {},
   "source": [
    "#### Load NDVI images"
   ]
  },
  {
   "cell_type": "code",
   "execution_count": 68,
   "metadata": {},
   "outputs": [],
   "source": [
    "#file_list = [os.path.join(data_path, file_name.split('/')[-1]) for file_name in input_identifiers]\n",
    "file_list = [os.path.join(data_path, os.path.basename(enclosure).split('?')[0]) for enclosure in input_metadata['enclosure']]\n",
    "\n",
    "img_mat_list = get_matrix_list(file_list, -9999.0)"
   ]
  },
  {
   "cell_type": "markdown",
   "metadata": {},
   "source": [
    "#### Get image NDVI dates"
   ]
  },
  {
   "cell_type": "code",
   "execution_count": 69,
   "metadata": {},
   "outputs": [
    {
     "data": {
      "text/plain": [
       "[datetime.datetime(2016, 1, 12, 0, 0),\n",
       " datetime.datetime(2016, 2, 29, 0, 0),\n",
       " datetime.datetime(2016, 4, 1, 0, 0),\n",
       " datetime.datetime(2016, 5, 3, 0, 0),\n",
       " datetime.datetime(2016, 5, 19, 0, 0),\n",
       " datetime.datetime(2016, 6, 20, 0, 0),\n",
       " datetime.datetime(2016, 7, 6, 0, 0),\n",
       " datetime.datetime(2016, 7, 22, 0, 0),\n",
       " datetime.datetime(2016, 8, 7, 0, 0),\n",
       " datetime.datetime(2016, 8, 23, 0, 0),\n",
       " datetime.datetime(2016, 9, 8, 0, 0),\n",
       " datetime.datetime(2016, 9, 24, 0, 0),\n",
       " datetime.datetime(2016, 10, 26, 0, 0),\n",
       " datetime.datetime(2016, 11, 27, 0, 0),\n",
       " datetime.datetime(2016, 12, 29, 0, 0)]"
      ]
     },
     "execution_count": 69,
     "metadata": {},
     "output_type": "execute_result"
    }
   ],
   "source": [
    "#dt = datetime.strptime(ind[17:25], \"%Y%m%y\")\n",
    "\n",
    "#dates_str = [ind[17:25] for ind in input_identifiers]\n",
    "\n",
    "#dates = [datetime.datetime.strptime(ind[17:25], \"%Y%m%d\") for ind in input_identifiers]\n",
    "\n",
    "dates = input_metadata['startdate'].tolist()\n",
    "dates = [datetime.datetime.combine(d.date(), d.time()) for d in dates]\n",
    "\n",
    "dates\n",
    "\n"
   ]
  },
  {
   "cell_type": "markdown",
   "metadata": {},
   "source": [
    "#### Check a NDVI image and a pixel"
   ]
  },
  {
   "cell_type": "code",
   "execution_count": 70,
   "metadata": {},
   "outputs": [],
   "source": [
    "if check_results:\n",
    "    # image index\n",
    "    img_idx = -1\n",
    "    \n",
    "    # point of interest\n",
    "    point = [10, 10]\n",
    "    #point = [0,8]\n",
    "    #point = [0,0]\n",
    "    #point = [17, 13]\n",
    "    #point = [3, 8]\n",
    "    #point = [8, 17]"
   ]
  },
  {
   "cell_type": "code",
   "execution_count": 71,
   "metadata": {},
   "outputs": [
    {
     "data": {
      "image/png": "[encoded data removed]",
      "text/plain": [
       "<matplotlib.figure.Figure at 0x7fce3f0a3210>"
      ]
     },
     "metadata": {},
     "output_type": "display_data"
    }
   ],
   "source": [
    "# Image\n",
    "if check_results:\n",
    "\n",
    "    fig = plt.figure()\n",
    "    \n",
    "    plt.imshow(img_mat_list[img_idx], cmap='jet', vmin=-1, vmax=1)\n",
    "    \n",
    "    plt.title(dates[img_idx].strftime(\"%d/%m/%Y\"))\n",
    "    \n",
    "    plt.colorbar()\n",
    "    plt.scatter(point[1], point[0], s=100, c='black', marker='*')\n",
    "    \n",
    "    #plt.savefig('ndvi_plot.png', dpi=300)\n",
    "    \n",
    "    plt.show()"
   ]
  },
  {
   "cell_type": "code",
   "execution_count": 72,
   "metadata": {},
   "outputs": [
    {
     "data": {
      "image/png": "[encoded data removed]",
      "text/plain": [
       "<matplotlib.figure.Figure at 0x7fce3c610450>"
      ]
     },
     "metadata": {},
     "output_type": "display_data"
    }
   ],
   "source": [
    "# Pixel time series\n",
    "if check_results:\n",
    "    \n",
    "    ndvi_values = [ndvi_img[point[0], point[1]] for ndvi_img in img_mat_list]\n",
    "    \n",
    "    fig = plt.figure()\n",
    "    \n",
    "    plt.plot(dates, ndvi_values, '-')\n",
    "    plt.plot(dates, ndvi_values, 'o')\n",
    "    \n",
    "    #plt.vlines([datetime.datetime(2014, 1, 1, 0, 0), datetime.datetime(2015, 1, 1, 0, 0), datetime.datetime(2016, 1, 1, 0, 0), datetime.datetime(2017, 1, 1, 0, 0), datetime.datetime(2018, 1, 1, 0, 0)], -1, 1, colors='b', linestyle='--')\n",
    "    \n",
    "    #plt.vlines([datetime.datetime(2014, 4, 1, 0, 0), datetime.datetime(2015, 4, 1, 0, 0), datetime.datetime(2016, 4, 1, 0, 0), datetime.datetime(2017, 4, 1, 0, 0)], -1, 1, colors='g', linestyle='--')\n",
    "    #plt.vlines([datetime.datetime(2014, 9, 1, 0, 0), datetime.datetime(2015, 9, 1, 0, 0), datetime.datetime(2016, 9, 1, 0, 0), datetime.datetime(2017, 9, 1, 0, 0)], -1, 1, colors='r', linestyle='--')\n",
    "    \n",
    "    plt.ylim((-1, 1))\n",
    "    #plt.set_xlim([0, 5])\n",
    "\n",
    "    plt.xticks(rotation=45)\n",
    "    plt.xlabel('date')\n",
    "    plt.ylabel('ndvi')\n",
    "    #plt.rcParams[\"figure.figsize\"] = (12, 6) # (w, h)\n",
    "\n",
    "    #plt.savefig('ndvi_tm.png', dpi=300)\n",
    "    plt.show()\n",
    "\n"
   ]
  },
  {
   "cell_type": "markdown",
   "metadata": {},
   "source": [
    "#### Smooth and gap fill"
   ]
  },
  {
   "cell_type": "code",
   "execution_count": 73,
   "metadata": {},
   "outputs": [],
   "source": [
    "if check_results:\n",
    "    # filter ndvi TM of a pixel\n",
    "    dates_inter, ndvi_inter = ndvi_filter (dates, ndvi_values)\n",
    "    \n",
    "\n",
    "\n"
   ]
  },
  {
   "cell_type": "code",
   "execution_count": 74,
   "metadata": {},
   "outputs": [
    {
     "data": {
      "image/png": "[encoded data removed]",
      "text/plain": [
       "<matplotlib.figure.Figure at 0x7fce3caa4250>"
      ]
     },
     "metadata": {},
     "output_type": "display_data"
    },
    {
     "name": "stdout",
     "output_type": "stream",
     "text": [
      "0.628187\n",
      "-0.861286\n"
     ]
    }
   ],
   "source": [
    "if check_results:\n",
    "    \n",
    "    plt.figure(figsize=(15,8))\n",
    "    plt.ylim(0,1)\n",
    "    plt.plot(dates, ndvi_values, label='y')\n",
    "    #plt.plot(xax1, z, 'rs', label='z', alpha=0.7)\n",
    "    plt.plot(dates_inter, ndvi_inter, 'go--', label='z_int', alpha=0.5)\n",
    "\n",
    "    plt.xticks(rotation=45)\n",
    "    plt.xlabel('time')\n",
    "    plt.ylabel('ndvi')\n",
    "   \n",
    "    plt.xlim((datetime.datetime(dates[0].year, 1, 1, 0, 0), datetime.datetime(dates[0].year, 12, 31, 0, 0)))\n",
    "    plt.ylim((-1, 1))\n",
    "\n",
    "    plt.legend()\n",
    "\n",
    "    #plt.savefig('ndvi_' + str(dates[0].year) + '.png', dpi=300)\n",
    "\n",
    "    plt.show()\n",
    "    \n",
    "    print(max(ndvi_values))\n",
    "    print(min(ndvi_values))"
   ]
  },
  {
   "cell_type": "code",
   "execution_count": 75,
   "metadata": {},
   "outputs": [],
   "source": [
    "# create an empty list of images to store interpolated ndvi data\n",
    "\n",
    "ndvi_img_inter = []\n",
    "\n",
    "for i in range(25):\n",
    "    ndvi_img_inter.append(np.full_like(img_mat_list[0].data, -9999.0))\n"
   ]
  },
  {
   "cell_type": "code",
   "execution_count": 76,
   "metadata": {},
   "outputs": [
    {
     "name": "stdout",
     "output_type": "stream",
     "text": [
      "the following pixel will be ignored:\n",
      "(1, 7, 0.05547563)\n",
      "the following pixel will be ignored:\n",
      "(1, 8, 0.059590235)\n",
      "the following pixel will be ignored:\n",
      "(2, 7, 0.055251703)\n",
      "the following pixel will be ignored:\n",
      "(2, 8, 0.056330655)\n",
      "the following pixel will be ignored:\n",
      "(2, 9, 0.14638999)\n",
      "the following pixel will be ignored:\n",
      "(3, 7, 0.1351375)\n",
      "the following pixel will be ignored:\n",
      "(3, 8, 0.20131208)\n",
      "the following pixel will be ignored:\n",
      "(3, 10, 0.21134163)\n",
      "the following pixel will be ignored:\n",
      "(4, 5, 0.093986504)\n",
      "the following pixel will be ignored:\n",
      "(5, 4, 0.017053353)\n",
      "the following pixel will be ignored:\n",
      "(5, 5, 0.1001007)\n",
      "the following pixel will be ignored:\n",
      "(6, 4, 0.066997021)\n",
      "the following pixel will be ignored:\n",
      "(7, 3, 0.10481503)\n",
      "the following pixel will be ignored:\n",
      "(8, 2, 0.056358952)\n",
      "the following pixel will be ignored:\n",
      "(8, 3, 0.18728366)\n",
      "the following pixel will be ignored:\n",
      "(9, 2, 0.18839033)\n",
      "the following pixel will be ignored:\n",
      "(10, 1, 0.15640624)\n",
      "the following pixel will be ignored:\n",
      "(12, 7, 0.20131208)\n",
      "the following pixel will be ignored:\n",
      "(17, 11, 0.22458017)\n",
      "the following pixel will be ignored:\n",
      "(18, 11, 0.22449183)\n"
     ]
    }
   ],
   "source": [
    "# interpolate ndvi for each pixel\n",
    "dates_inter = []\n",
    "\n",
    "for i in range(img_mat_list[0].shape[0]):\n",
    "    for j in range(img_mat_list[0].shape[1]):\n",
    "        \n",
    "        #print(i,j)\n",
    "        \n",
    "        # get ndvi time series for position i,j\n",
    "        ndvi_tm = [img.data[i,j] for img in img_mat_list]\n",
    "        \n",
    "        # count number of no values\n",
    "        n_novalue = ndvi_tm.count(-9999)\n",
    "        \n",
    "        \n",
    "        if (n_novalue < len(img_mat_list)): # if it's not everything no value\n",
    "            \n",
    "            # swap no value for np.nan\n",
    "            ndvi_tm = [np.nan if x < -9998 else x for x in ndvi_tm]\n",
    "            \n",
    "            # smooth and gap fill\n",
    "            dates_inter, ndvi_inter = ndvi_filter (dates, ndvi_tm)\n",
    "\n",
    "            if max(ndvi_tm) < 0.25: # remove non cultivated pixels\n",
    "                print('the following pixel will be ignored:')\n",
    "                print(i,j, max(ndvi_tm))\n",
    "            \n",
    "            else:\n",
    "                # swap np.nan for -9999\n",
    "                ndvi_inter[np.isnan(ndvi_inter)] = -9999.0\n",
    "        \n",
    "                # save new time series in position i,j\n",
    "                for idx,ndvi_inter in enumerate(ndvi_inter):\n",
    "                    ndvi_img_inter[idx][i,j] = ndvi_inter\n",
    "\n",
    "\n",
    "\n",
    "# mask -9999 values\n",
    "for idx in range(len(ndvi_img_inter)):\n",
    "    \n",
    "    ndvi_img_inter[idx] = ma.masked_values (ndvi_img_inter[idx], -9999.0)\n",
    "        \n",
    "        #print(ndvi_inter)\n",
    "        \n"
   ]
  },
  {
   "cell_type": "code",
   "execution_count": 77,
   "metadata": {},
   "outputs": [
    {
     "data": {
      "image/png": "[encoded data removed]",
      "text/plain": [
       "<matplotlib.figure.Figure at 0x7fce3ed915d0>"
      ]
     },
     "metadata": {},
     "output_type": "display_data"
    },
    {
     "name": "stdout",
     "output_type": "stream",
     "text": [
      "-0.106431486548\n"
     ]
    }
   ],
   "source": [
    "if check_results:\n",
    "    \n",
    "    #point = [10, 10]\n",
    "    #point = [15, 10]\n",
    "\n",
    "\n",
    "    #fig = plt.figure()\n",
    "    #plt.imshow(img_mat_list[0])\n",
    "    #plt.show()\n",
    "    \n",
    "    fig = plt.figure()\n",
    "    \n",
    "    img_idx = -1\n",
    "    \n",
    "    plt.imshow(ndvi_img_inter[img_idx], cmap='jet', vmin=-1, vmax=1)\n",
    "    #plt.imshow(mx, cmap='jet', vmin=-1, vmax=1)\n",
    "    \n",
    "    plt.title(dates_inter[img_idx].strftime(\"%d/%m/%Y\"))\n",
    "    \n",
    "    plt.colorbar()\n",
    "    plt.scatter(point[1], point[0], s=100, c='black', marker='*')\n",
    "    \n",
    "    #plt.savefig('ndvi_plot.png', dpi=300)\n",
    "    \n",
    "    plt.show()\n",
    "    \n",
    "    print(ndvi_img_inter[img_idx].mean())"
   ]
  },
  {
   "cell_type": "code",
   "execution_count": 78,
   "metadata": {},
   "outputs": [],
   "source": [
    "\n",
    "#np.percentile(ndvi_img_inter[img_idx].data[ndvi_img_inter[img_idx].data > -9998.0], 50)\n"
   ]
  },
  {
   "cell_type": "code",
   "execution_count": 79,
   "metadata": {},
   "outputs": [],
   "source": [
    "#img_idx = -1\n",
    "\n",
    "#Q1 = np.percentile(ndvi_img_inter[img_idx].data[ndvi_img_inter[img_idx].data > -9998.0], 25)\n",
    "#Q3 = np.percentile(ndvi_img_inter[img_idx].data[ndvi_img_inter[img_idx].data > -9998.0], 75)\n",
    "\n",
    "#IQR = Q3-Q1\n",
    "\n",
    "#MinV = Q1 - 2.5 * IQR\n",
    "#MaxV = Q3 + 2.5 * IQR\n",
    "\n",
    "#print(Q1,Q3)\n",
    "\n",
    "#print(MinV,MaxV)"
   ]
  },
  {
   "cell_type": "code",
   "execution_count": 80,
   "metadata": {},
   "outputs": [],
   "source": [
    "#ndvi_img_inter[img_idx].data[ndvi_img_inter[img_idx].data > MaxV]\n"
   ]
  },
  {
   "cell_type": "code",
   "execution_count": 81,
   "metadata": {},
   "outputs": [],
   "source": [
    "#ndvi_img_inter[img_idx].data[np.logical_or(ndvi_img_inter[img_idx].data > MaxV, ndvi_img_inter[img_idx].data > MaxV)]"
   ]
  },
  {
   "cell_type": "code",
   "execution_count": 82,
   "metadata": {},
   "outputs": [
    {
     "data": {
      "text/plain": [
       "array([ 0.5179463 ,  0.54193956,  0.34502116,  0.55463785,  0.6815657 ,\n",
       "        0.50358367,  0.56359953,  0.76461977,  0.21897103,  0.52589959,\n",
       "       -0.18908548], dtype=float32)"
      ]
     },
     "execution_count": 82,
     "metadata": {},
     "output_type": "execute_result"
    }
   ],
   "source": [
    "\n",
    "# for each image find outliers based on IQR\n",
    "# only for values greater then\n",
    "\n",
    "mat_outliers = []\n",
    "for idx in range(len(ndvi_img_inter)):\n",
    "    \n",
    "    \n",
    "    Q1 = np.percentile(ndvi_img_inter[idx].data[ndvi_img_inter[idx].data > -9998.0], 25)\n",
    "    Q3 = np.percentile(ndvi_img_inter[idx].data[ndvi_img_inter[idx].data > -9998.0], 75)\n",
    "\n",
    "    IQR = Q3-Q1\n",
    "\n",
    "    MinV = Q1 - 2.5 * IQR\n",
    "    MaxV = Q3 + 2.5 * IQR\n",
    "    \n",
    "    if idx == 0:\n",
    "        mat_outliers = ndvi_img_inter[idx].data > MaxV\n",
    "        #mat_outliers = np.logical_or(ndvi_img_inter[idx].data > MaxV, ndvi_img_inter[idx].data < MinV)\n",
    "        \n",
    "    else:\n",
    "        mat_outliers = np.logical_or(mat_outliers, ndvi_img_inter[idx].data > MaxV)\n",
    "        #mat_outliers = np.logical_or(mat_outliers, np.logical_or(ndvi_img_inter[idx].data > MaxV, ndvi_img_inter[idx].data < MinV) )\n",
    "    \n",
    "    \n",
    "ndvi_img_inter[img_idx].data[mat_outliers]\n",
    "\n"
   ]
  },
  {
   "cell_type": "code",
   "execution_count": 83,
   "metadata": {},
   "outputs": [],
   "source": [
    "# remove outliers from data\n",
    "for idx in range(len(ndvi_img_inter)):\n",
    "    \n",
    "    ndvi_img_inter[idx] = ma.masked_array(ndvi_img_inter[idx], mask=mat_outliers)"
   ]
  },
  {
   "cell_type": "code",
   "execution_count": 84,
   "metadata": {},
   "outputs": [
    {
     "data": {
      "image/png": "[encoded data removed]",
      "text/plain": [
       "<matplotlib.figure.Figure at 0x7fce3c89bbd0>"
      ]
     },
     "metadata": {},
     "output_type": "display_data"
    },
    {
     "name": "stdout",
     "output_type": "stream",
     "text": [
      "-0.138387385103\n"
     ]
    }
   ],
   "source": [
    "if check_results:\n",
    "    \n",
    "    #point = [10, 10]\n",
    "    #point = [15, 10]\n",
    "\n",
    "\n",
    "    #fig = plt.figure()\n",
    "    #plt.imshow(img_mat_list[0])\n",
    "    #plt.show()\n",
    "    \n",
    "    fig = plt.figure()\n",
    "    \n",
    "    img_idx = -1\n",
    "    \n",
    "    plt.imshow(ndvi_img_inter[img_idx], cmap='jet', vmin=-1, vmax=1)\n",
    "    #plt.imshow(mx, cmap='jet', vmin=-1, vmax=1)\n",
    "    \n",
    "    plt.title(dates_inter[img_idx].strftime(\"%d/%m/%Y\"))\n",
    "    \n",
    "    plt.colorbar()\n",
    "    plt.scatter(point[1], point[0], s=100, c='black', marker='*')\n",
    "    \n",
    "    #plt.savefig('ndvi_plot.png', dpi=300)\n",
    "    \n",
    "    plt.show()\n",
    "    \n",
    "    print(ndvi_img_inter[img_idx].mean())"
   ]
  },
  {
   "cell_type": "markdown",
   "metadata": {},
   "source": [
    "#### Remove non cultivated pixels II"
   ]
  },
  {
   "cell_type": "code",
   "execution_count": 85,
   "metadata": {},
   "outputs": [
    {
     "name": "stdout",
     "output_type": "stream",
     "text": [
      "(0, 8)\n",
      "(1, 9)\n",
      "(2, 10)\n",
      "(3, 6)\n",
      "(6, 5)\n",
      "(7, 6)\n",
      "(8, 15)\n",
      "(9, 3)\n",
      "(9, 15)\n",
      "(10, 2)\n",
      "(10, 3)\n",
      "(10, 4)\n",
      "(11, 1)\n",
      "(11, 20)\n",
      "(12, 6)\n",
      "(12, 20)\n",
      "(13, 7)\n",
      "(13, 8)\n",
      "(13, 19)\n",
      "(13, 20)\n",
      "(14, 8)\n",
      "(14, 18)\n",
      "(14, 19)\n",
      "(15, 9)\n",
      "(15, 17)\n",
      "(15, 18)\n",
      "(16, 11)\n",
      "(16, 12)\n",
      "(17, 12)\n",
      "(20, 11)\n"
     ]
    }
   ],
   "source": [
    "\n",
    "mask_mat = np.full(img_mat_list[0].shape, False)\n",
    "\n",
    "for i in range(ndvi_img_inter[0].shape[0]):\n",
    "    for j in range(ndvi_img_inter[0].shape[1]):\n",
    "        \n",
    "        \n",
    "        c_no_values = 0\n",
    "        c_gt_v = 0\n",
    "        \n",
    "        for im in ndvi_img_inter:\n",
    "            #if i == 10 and j == 10:\n",
    "            \n",
    "            if im[i,j] > 0.20:\n",
    "                    \n",
    "                c_gt_v = c_gt_v + 1\n",
    "                    \n",
    "                #print(im[i,j])\n",
    "                \n",
    "            if im.data[i,j] < -9998:\n",
    "                \n",
    "                c_no_values = c_no_values + 1\n",
    "                    \n",
    "        if c_gt_v == 0 and c_no_values != len(ndvi_img_inter):\n",
    "            mask_mat[i,j] = True\n",
    "            print(i,j)\n",
    "        "
   ]
  },
  {
   "cell_type": "code",
   "execution_count": 86,
   "metadata": {},
   "outputs": [],
   "source": [
    "for idx in range(len(ndvi_img_inter)):\n",
    "    ndvi_img_inter[idx] = ma.masked_array(ndvi_img_inter[idx], mask=mask_mat)"
   ]
  },
  {
   "cell_type": "code",
   "execution_count": 87,
   "metadata": {},
   "outputs": [
    {
     "data": {
      "image/png": "[encoded data removed]",
      "text/plain": [
       "<matplotlib.figure.Figure at 0x7fce3cafab50>"
      ]
     },
     "metadata": {},
     "output_type": "display_data"
    },
    {
     "name": "stdout",
     "output_type": "stream",
     "text": [
      "-0.12747743879\n"
     ]
    }
   ],
   "source": [
    "if check_results:\n",
    "    \n",
    "    #point = [10, 10]\n",
    "    #point = [15, 10]\n",
    "\n",
    "\n",
    "    #fig = plt.figure()\n",
    "    #plt.imshow(img_mat_list[0])\n",
    "    #plt.show()\n",
    "    \n",
    "    fig = plt.figure()\n",
    "    \n",
    "    img_idx = -1\n",
    "    \n",
    "    plt.imshow(ndvi_img_inter[img_idx], cmap='jet', vmin=-1, vmax=1)\n",
    "    #plt.imshow(mx, cmap='jet', vmin=-1, vmax=1)\n",
    "    \n",
    "    plt.title(dates_inter[img_idx].strftime(\"%d/%m/%Y\"))\n",
    "    \n",
    "    plt.colorbar()\n",
    "    plt.scatter(point[1], point[0], s=100, c='black', marker='*')\n",
    "    \n",
    "    #plt.savefig('ndvi_plot.png', dpi=300)\n",
    "    \n",
    "    plt.show()\n",
    "    \n",
    "    print(ndvi_img_inter[img_idx].mean())"
   ]
  },
  {
   "cell_type": "code",
   "execution_count": 88,
   "metadata": {},
   "outputs": [
    {
     "data": {
      "image/png": "[encoded data removed]",
      "text/plain": [
       "<matplotlib.figure.Figure at 0x7fce3c574f50>"
      ]
     },
     "metadata": {},
     "output_type": "display_data"
    }
   ],
   "source": [
    "# get interpolated values for a given pixel\n",
    "\n",
    "if check_results:\n",
    "    \n",
    "    ndvi_values = [ndvi_img[point[0], point[1]] for ndvi_img in ndvi_img_inter]\n",
    "    \n",
    "    fig = plt.figure()\n",
    "    \n",
    "    plt.plot(dates_inter, ndvi_values, '-')\n",
    "    plt.plot(dates_inter, ndvi_values, 'o')\n",
    "    \n",
    "    \n",
    "    ndvi_values = np.array(ndvi_values)\n",
    "    dates_inter = np.array(dates_inter)\n",
    "\n",
    "    \n",
    "    #plt.vlines([datetime.datetime(2014, 1, 1, 0, 0), datetime.datetime(2015, 1, 1, 0, 0), datetime.datetime(2016, 1, 1, 0, 0), datetime.datetime(2017, 1, 1, 0, 0), datetime.datetime(2018, 1, 1, 0, 0)], -1, 1, colors='b', linestyle='--')\n",
    "    \n",
    "    #plt.vlines([datetime.datetime(2014, 4, 1, 0, 0), datetime.datetime(2015, 4, 1, 0, 0), datetime.datetime(2016, 4, 1, 0, 0), datetime.datetime(2017, 4, 1, 0, 0)], -1, 1, colors='g', linestyle='--')\n",
    "    #plt.vlines([datetime.datetime(2014, 9, 1, 0, 0), datetime.datetime(2015, 9, 1, 0, 0), datetime.datetime(2016, 9, 1, 0, 0), datetime.datetime(2017, 9, 1, 0, 0)], -1, 1, colors='r', linestyle='--')\n",
    "    \n",
    "    plt.ylim((-1, 1))\n",
    "    #plt.set_xlim([0, 5])\n",
    "\n",
    "    plt.xticks(rotation=45)\n",
    "    plt.xlabel('date')\n",
    "    plt.ylabel('ndvi')\n",
    "    #plt.title('Chlorophyll-a concentration (percentile 90)\\nAzores (' + str_area_title + ')')\n",
    "    #plt.rcParams[\"figure.figsize\"] = (12, 6) # (w, h)\n",
    "\n",
    "    #plt.savefig('ndvi_tm.png', dpi=300)\n",
    "    plt.show()\n",
    "    \n",
    "    \n",
    "    \n",
    "    \n",
    "    \n",
    "    "
   ]
  },
  {
   "cell_type": "markdown",
   "metadata": {},
   "source": [
    "#### Find start and end dates of growing season"
   ]
  },
  {
   "cell_type": "code",
   "execution_count": 89,
   "metadata": {},
   "outputs": [],
   "source": [
    "#\n",
    "# Input: ndvi time series and dates\n",
    "# Output: start and end dates and ndvi values of growing season\n",
    "#\n",
    "def find_start_end_date_season(dates_ts, ndvi_ts):\n",
    "    \n",
    "    # max value position \n",
    "    maxp = int(np.where(ndvi_ts == np.amax(ndvi_ts))[0])\n",
    "    \n",
    "    peaks, _ = scipy.signal.find_peaks(ndvi_values, height=-1)\n",
    "    maxp = peaks[0]\n",
    "    \n",
    "    #print(len(peaks))\n",
    "    \n",
    "    #if (maxp == 0):\n",
    "    #    return start_season_date, start_season_ndvi, end_season_date, end_season_ndvi\n",
    "    \n",
    "    # start of season\n",
    "        \n",
    "    # first half\n",
    "    x = [d.timetuple().tm_yday for d in dates_ts[0:maxp+1]]\n",
    "    y = ndvi_ts[0:maxp+1]\n",
    "    \n",
    "\n",
    "    # choose best fit (linear, square, cubic)\n",
    "    r2 = 0\n",
    "    #p1 = None\n",
    "    for d in [1,2]:\n",
    "    \n",
    "        coeffs_aux = np.polyfit(x=x, y=y, deg=d)\n",
    "        p1_aux = np.poly1d(coeffs_aux)\n",
    "\n",
    "        r2_aux = 1 - sum((y-p1_aux(x))**2) / sum((y-np.mean(y))**2)\n",
    "    \n",
    "        if r2_aux > r2:\n",
    "            coeffs = coeffs_aux\n",
    "            p1 = p1_aux\n",
    "            r2 = r2_aux\n",
    "\n",
    "    #if p1 is None:\n",
    "    #    return -9999, -9999, -9999, -9999\n",
    "            \n",
    "    # derivative\n",
    "    p2 = np.polyder(p1)\n",
    "    \n",
    "    \n",
    "    for vp, vpd, d, ddate in zip(y,p2(x),x,dates_ts):\n",
    "    \n",
    "        #print(d, vpd, vp)\n",
    "    \n",
    "        # if derivative positive and ndvi value positive\n",
    "        # get values and stop search\n",
    "        if vpd > 0 and vp > 0:\n",
    "        \n",
    "            #print(d, vpd, vp)\n",
    "        \n",
    "            start_season_ndvi = vp\n",
    "            start_season_date = ddate\n",
    "        \n",
    "            break\n",
    "            \n",
    "    #plt.figure()\n",
    "    #plt.plot(x, p1(x))\n",
    "    #plt.plot(x, p2(x))\n",
    "\n",
    "    # END OF SEASON\n",
    "    \n",
    "    x = [d.timetuple().tm_yday for d in dates_ts[maxp:]]\n",
    "    y = ndvi_ts[maxp:]\n",
    "    \n",
    "    \n",
    "    #x_fliped = np.flip(x, axis=None)\n",
    "    #y_fliped = np.flip(y, axis=None)\n",
    "    \n",
    "    x_fliped = x[::-1]\n",
    "    y_fliped = y[::-1]\n",
    "\n",
    "    # choose best fit\n",
    "    r2 = 0\n",
    "    #p1 = None\n",
    "    for d in [1,2]:\n",
    "    \n",
    "        coeffs_aux = np.polyfit(x=x, y=y_fliped, deg=d)\n",
    "        p1_aux = np.poly1d(coeffs_aux)\n",
    "\n",
    "        r2_aux = 1 - sum((y_fliped-p1_aux(x))**2) / sum((y_fliped-np.mean(y_fliped))**2)\n",
    "    \n",
    "        if r2_aux > r2:\n",
    "            coeffs = coeffs_aux\n",
    "            p1 = p1_aux\n",
    "            r2 = r2_aux\n",
    "\n",
    "    # derivative\n",
    "    p2 = np.polyder(p1)\n",
    "    \n",
    "    idx = 0\n",
    "    idx_fliped = 0\n",
    "    for vp, vpd, d, d_f in zip(y_fliped,p2(x),x,x_fliped):\n",
    "    \n",
    "        #print(d, vpd, vp)\n",
    "        \n",
    "        #print(p1(x))\n",
    "        \n",
    "        # if derivative positive and ndvi value positive\n",
    "        # get values and stop search\n",
    "        if vpd > 0 and vp > 0:\n",
    "        \n",
    "            #print(d, vpd, vp)\n",
    "        \n",
    "            d = d_f\n",
    "            \n",
    "            idx_fliped = idx\n",
    "            \n",
    "            break\n",
    "            \n",
    "        idx = idx + 1\n",
    "    \n",
    "    \n",
    "    \n",
    "        \n",
    "\n",
    "    idx_end = len(dates_ts) - (idx_fliped+1)\n",
    "        \n",
    "    end_season_date = dates_ts[idx_end]\n",
    "    end_season_ndvi = ndvi_ts[idx_end]\n",
    "\n",
    "    \n",
    "    #plt.plot(x, y, 'o')\n",
    "    #plt.plot(d, vp, 's')\n",
    "    #plt.figure()\n",
    "    #plt.plot(x, p1(x))\n",
    "    #plt.plot(x, p2(x))\n",
    "    \n",
    "    #print('poly')\n",
    "    #print(p1)\n",
    "    #print('derivative')\n",
    "    #print(p2(x))\n",
    "    #print('r2')\n",
    "\n",
    "\n",
    "    #print(idx_end)\n",
    "\n",
    "    \n",
    "    return start_season_date, start_season_ndvi, end_season_date, end_season_ndvi\n",
    "\n",
    "\n",
    "#print(start_season_date.strftime(\"%Y%j\"), start_season_ndvi)\n",
    "#print(end_season_date.strftime(\"%Y%j\"), end_season_ndvi)"
   ]
  },
  {
   "cell_type": "code",
   "execution_count": 90,
   "metadata": {},
   "outputs": [
    {
     "data": {
      "image/png": "[encoded data removed]",
      "text/plain": [
       "<matplotlib.figure.Figure at 0x7fce3c9570d0>"
      ]
     },
     "metadata": {},
     "output_type": "display_data"
    }
   ],
   "source": [
    "# get start and end date for a give pixel TS\n",
    "if check_results:\n",
    "    \n",
    "    \n",
    "    \n",
    "    ndvi_values = [ndvi_img[point[0], point[1]] for ndvi_img in ndvi_img_inter]\n",
    "    \n",
    "    \n",
    "    start_season_date, start_season_ndvi, end_season_date, end_season_ndvi = find_start_end_date_season(dates_inter, ndvi_values)\n",
    "    \n",
    "    \n",
    "    fig = plt.figure()\n",
    "    \n",
    "    plt.plot(dates_inter, ndvi_values, '-')\n",
    "    plt.plot(dates_inter, ndvi_values, 'o')\n",
    "    plt.plot(start_season_date, start_season_ndvi, 's')\n",
    "    plt.plot(end_season_date, end_season_ndvi, 's')\n",
    "    \n",
    "    ndvi_values = np.array(ndvi_values)\n",
    "    dates_inter = np.array(dates_inter)\n",
    "\n",
    "    \n",
    "    #plt.vlines([datetime.datetime(2014, 1, 1, 0, 0), datetime.datetime(2015, 1, 1, 0, 0), datetime.datetime(2016, 1, 1, 0, 0), datetime.datetime(2017, 1, 1, 0, 0), datetime.datetime(2018, 1, 1, 0, 0)], -1, 1, colors='b', linestyle='--')\n",
    "    \n",
    "    #plt.vlines([datetime.datetime(2014, 4, 1, 0, 0), datetime.datetime(2015, 4, 1, 0, 0), datetime.datetime(2016, 4, 1, 0, 0), datetime.datetime(2017, 4, 1, 0, 0)], -1, 1, colors='g', linestyle='--')\n",
    "    #plt.vlines([datetime.datetime(2014, 9, 1, 0, 0), datetime.datetime(2015, 9, 1, 0, 0), datetime.datetime(2016, 9, 1, 0, 0), datetime.datetime(2017, 9, 1, 0, 0)], -1, 1, colors='r', linestyle='--')\n",
    "    \n",
    "    plt.ylim((-1, 1))\n",
    "    #plt.set_xlim([0, 5])\n",
    "\n",
    "    plt.xticks(rotation=45)\n",
    "    plt.xlabel('date')\n",
    "    plt.ylabel('ndvi')\n",
    "    #plt.title('Chlorophyll-a concentration (percentile 90)\\nAzores (' + str_area_title + ')')\n",
    "    #plt.rcParams[\"figure.figsize\"] = (12, 6) # (w, h)\n",
    "\n",
    "    #plt.savefig('ndvi_tm.png', dpi=300)\n",
    "    plt.show()"
   ]
  },
  {
   "cell_type": "code",
   "execution_count": 91,
   "metadata": {},
   "outputs": [],
   "source": [
    "# compute start and end dates of growing season for all images\n",
    "\n",
    "start_date_img = np.full_like(ndvi_img_inter[0].data, -9999.0)\n",
    "end_date_img = np.full_like(ndvi_img_inter[0].data, -9999.0)\n",
    "\n",
    "for i in range(ndvi_img_inter[0].shape[0]):\n",
    "    for j in range(ndvi_img_inter[0].shape[1]):\n",
    "        \n",
    "        ndvi_tm = ma.array([img[i,j] for img in ndvi_img_inter])\n",
    "        \n",
    "        if (ndvi_tm.count() > 0):\n",
    "            \n",
    "            #print(i,j)\n",
    "            \n",
    "            start_season_date, start_season_ndvi, end_season_date, end_season_ndvi = find_start_end_date_season(dates_inter, ndvi_tm)\n",
    "            \n",
    "            start_date_img[i,j] = start_season_date.strftime(\"%Y%j\")\n",
    "            end_date_img[i,j] = end_season_date.strftime(\"%Y%j\")"
   ]
  },
  {
   "cell_type": "markdown",
   "metadata": {},
   "source": [
    "#### Check start and end dates of growing season"
   ]
  },
  {
   "cell_type": "code",
   "execution_count": 92,
   "metadata": {},
   "outputs": [
    {
     "data": {
      "image/png": "[encoded data removed]",
      "text/plain": [
       "<matplotlib.figure.Figure at 0x7fce3f0a3ed0>"
      ]
     },
     "metadata": {},
     "output_type": "display_data"
    },
    {
     "data": {
      "text/plain": [
       "numpy.ndarray"
      ]
     },
     "execution_count": 92,
     "metadata": {},
     "output_type": "execute_result"
    }
   ],
   "source": [
    "if check_results:\n",
    "    \n",
    "    import matplotlib\n",
    "    import matplotlib.pyplot as plt\n",
    "\n",
    "    fig = plt.figure()\n",
    "    plt.imshow(end_date_img)\n",
    "    \n",
    "    plt.show()\n",
    "    \n",
    "type(end_date_img)"
   ]
  },
  {
   "cell_type": "code",
   "execution_count": 93,
   "metadata": {},
   "outputs": [
    {
     "data": {
      "image/png": "[encoded data removed]",
      "text/plain": [
       "<matplotlib.figure.Figure at 0x7fce3ed83550>"
      ]
     },
     "metadata": {},
     "output_type": "display_data"
    }
   ],
   "source": [
    "# check results for a given pixel\n",
    "if check_results:\n",
    "    \n",
    "    ndvi_values = [ndvi_img[point[0], point[1]] for ndvi_img in ndvi_img_inter]\n",
    "    \n",
    "    fig = plt.figure()\n",
    "    \n",
    "    plt.plot(dates_inter, ndvi_values, '-')\n",
    "    plt.plot(dates_inter, ndvi_values, 'o')\n",
    "    #plt.plot( datetime.datetime.strptime(str(int(end_date_img[point[0], point[1]])), '%Y%j'), 0, 's')\n",
    "    #plt.plot( datetime.datetime.strptime(str(int(start_date_img[point[0], point[1]])), '%Y%j'), 0, 's')\n",
    "    \n",
    "    start_date_px = datetime.datetime.strptime(str(int(start_date_img[point[0], point[1]])), '%Y%j')\n",
    "    end_date_px = datetime.datetime.strptime(str(int(end_date_img[point[0], point[1]])), '%Y%j')\n",
    "    \n",
    "    plt.vlines([start_date_px], -1, 1, colors='g', linestyle='--')\n",
    "    plt.vlines([end_date_px], -1, 1, colors='r', linestyle='--')\n",
    "    \n",
    "    \n",
    "    ndvi_values = np.array(ndvi_values)\n",
    "    dates_inter = np.array(dates_inter)\n",
    "\n",
    "   \n",
    "    plt.ylim((-1, 1))\n",
    "    #plt.set_xlim([0, 5])\n",
    "\n",
    "    plt.xticks(rotation=45)\n",
    "    plt.xlabel('date')\n",
    "    plt.ylabel('ndvi')\n",
    "    #plt.title('Chlorophyll-a concentration (percentile 90)\\nAzores (' + str_area_title + ')')\n",
    "    #plt.rcParams[\"figure.figsize\"] = (12, 6) # (w, h)\n",
    "\n",
    "    #plt.savefig('ndvi_tm.png', dpi=300)\n",
    "    plt.show()"
   ]
  },
  {
   "cell_type": "markdown",
   "metadata": {},
   "source": [
    "#### Get NDVI differences"
   ]
  },
  {
   "cell_type": "code",
   "execution_count": 94,
   "metadata": {},
   "outputs": [],
   "source": [
    "def get_ndvi_diffs (matrix_img_list):\n",
    "    \n",
    "    dif_matrix_img_list = []\n",
    "    for i in range(len(matrix_img_list) - 1):\n",
    "        \n",
    "        diff = matrix_img_list[i+1] - matrix_img_list[i]\n",
    "        \n",
    "        dif_matrix_img_list.append(diff)\n",
    "        \n",
    "    return dif_matrix_img_list\n",
    "        \n",
    "dif_matrix_img_list = get_ndvi_diffs (ndvi_img_inter)"
   ]
  },
  {
   "cell_type": "code",
   "execution_count": 95,
   "metadata": {},
   "outputs": [
    {
     "data": {
      "image/png": "[encoded data removed]",
      "text/plain": [
       "<matplotlib.figure.Figure at 0x7fce3efd5ad0>"
      ]
     },
     "metadata": {},
     "output_type": "display_data"
    }
   ],
   "source": [
    "if check_results:\n",
    "    \n",
    "    ndvi_values = [ndvi_img[point[0], point[1]] for ndvi_img in dif_matrix_img_list]\n",
    "    \n",
    "    fig = plt.figure()\n",
    "    \n",
    "    plt.plot(dates_inter[:-1], ndvi_values, '-')\n",
    "    plt.plot(dates_inter[:-1], ndvi_values, 'o')\n",
    "    \n",
    "    plt.ylim((-1, 1))\n",
    "    #plt.set_xlim([0, 5])\n",
    "\n",
    "    plt.xticks(rotation=45)\n",
    "    plt.xlabel('date')\n",
    "    plt.ylabel('ndvi dif')\n",
    "    #plt.title('Chlorophyll-a concentration (percentile 90)\\nAzores (' + str_area_title + ')')\n",
    "    plt.rcParams[\"figure.figsize\"] = (12, 6) # (w, h)\n",
    "\n",
    "    #plt.savefig('ndvi_graph.png', dpi=300)\n",
    "    plt.show()"
   ]
  },
  {
   "cell_type": "markdown",
   "metadata": {},
   "source": [
    "Cumulative NDVI value for growing season"
   ]
  },
  {
   "cell_type": "code",
   "execution_count": 96,
   "metadata": {},
   "outputs": [],
   "source": [
    "def get_ndvi_cumulative (matrix_img_list):\n",
    "    \n",
    "    cumulative_matrix_img_list = []\n",
    "    \n",
    "    cum_ndvi = []\n",
    "    for idx,img_ndvi in enumerate(matrix_img_list):\n",
    "        if idx == 0:\n",
    "            cum_ndvi = img_ndvi\n",
    "        else:\n",
    "            cum_ndvi = cum_ndvi + img_ndvi\n",
    "        \n",
    "        cumulative_matrix_img_list.append(cum_ndvi)\n",
    "        \n",
    "    return cumulative_matrix_img_list\n",
    "        \n",
    "cumulative_matrix_img_list = get_ndvi_cumulative (ndvi_img_inter)"
   ]
  },
  {
   "cell_type": "code",
   "execution_count": 97,
   "metadata": {},
   "outputs": [
    {
     "data": {
      "image/png": "[encoded data removed]",
      "text/plain": [
       "<matplotlib.figure.Figure at 0x7fce3c5ec210>"
      ]
     },
     "metadata": {},
     "output_type": "display_data"
    }
   ],
   "source": [
    "if check_results:\n",
    "    \n",
    "    ndvi_values = [ndvi_img[point[0], point[1]] for ndvi_img in cumulative_matrix_img_list]\n",
    "    \n",
    "    fig = plt.figure()\n",
    "    \n",
    "    plt.plot(dates_inter, ndvi_values, '-')\n",
    "    plt.plot(dates_inter, ndvi_values, 'o')\n",
    "    \n",
    "    #plt.ylim((-1, 1))\n",
    "    #plt.set_xlim([0, 5])\n",
    "\n",
    "    plt.xticks(rotation=45)\n",
    "    plt.xlabel('date')\n",
    "    plt.ylabel('mg m^-3')\n",
    "    #plt.title('Chlorophyll-a concentration (percentile 90)\\nAzores (' + str_area_title + ')')\n",
    "    plt.rcParams[\"figure.figsize\"] = (12, 6) # (w, h)\n",
    "\n",
    "    #plt.savefig('ndvi_graph.png', dpi=300)\n",
    "    plt.show()"
   ]
  },
  {
   "cell_type": "markdown",
   "metadata": {},
   "source": [
    "Cumulative NDVI value for growing season"
   ]
  },
  {
   "cell_type": "code",
   "execution_count": 98,
   "metadata": {},
   "outputs": [
    {
     "data": {
      "text/plain": [
       "'\\ndef get_inverse_ndvi_cumulative (matrix_img_list):\\n    \\n    inv_cumulative_matrix_img_list = []\\n    \\n    inv_cum_ndvi = []\\n    for idx,img_ndvi in enumerate(reversed(matrix_img_list)):\\n        \\n        \\n        \\n        if idx == 0:\\n            inv_cum_ndvi = img_ndvi\\n        else:\\n            inv_cum_ndvi = inv_cum_ndvi + img_ndvi\\n            \\n        \\n        \\n        inv_cumulative_matrix_img_list.append(inv_cum_ndvi)\\n        \\n    return list(reversed(inv_cumulative_matrix_img_list))\\n        \\ninv_cumulative_matrix_img_list = get_inverse_ndvi_cumulative (ndvi_img_inter)\\n'"
      ]
     },
     "execution_count": 98,
     "metadata": {},
     "output_type": "execute_result"
    }
   ],
   "source": [
    "'''\n",
    "def get_inverse_ndvi_cumulative (matrix_img_list):\n",
    "    \n",
    "    inv_cumulative_matrix_img_list = []\n",
    "    \n",
    "    inv_cum_ndvi = []\n",
    "    for idx,img_ndvi in enumerate(reversed(matrix_img_list)):\n",
    "        \n",
    "        \n",
    "        \n",
    "        if idx == 0:\n",
    "            inv_cum_ndvi = img_ndvi\n",
    "        else:\n",
    "            inv_cum_ndvi = inv_cum_ndvi + img_ndvi\n",
    "            \n",
    "        \n",
    "        \n",
    "        inv_cumulative_matrix_img_list.append(inv_cum_ndvi)\n",
    "        \n",
    "    return list(reversed(inv_cumulative_matrix_img_list))\n",
    "        \n",
    "inv_cumulative_matrix_img_list = get_inverse_ndvi_cumulative (ndvi_img_inter)\n",
    "'''"
   ]
  },
  {
   "cell_type": "code",
   "execution_count": 99,
   "metadata": {},
   "outputs": [
    {
     "data": {
      "text/plain": [
       "'\\nif check_results:\\n    \\n    ndvi_values = [ndvi_img[point[0], point[1]] for ndvi_img in inv_cumulative_matrix_img_list]\\n    \\n    fig = plt.figure()\\n    \\n    plt.plot(dates_inter, ndvi_values, \\'-\\')\\n    plt.plot(dates_inter, ndvi_values, \\'o\\')\\n    \\n    #plt.ylim((-1, 1))\\n    #plt.set_xlim([0, 5])\\n\\n    plt.xticks(rotation=45)\\n    plt.xlabel(\\'date\\')\\n    plt.ylabel(\\'mg m^-3\\')\\n    #plt.title(\\'Chlorophyll-a concentration (percentile 90)\\nAzores (\\' + str_area_title + \\')\\')\\n    plt.rcParams[\"figure.figsize\"] = (12, 6) # (w, h)\\n\\n    #plt.savefig(\\'ndvi_graph.png\\', dpi=300)\\n    plt.show()\\n    \\n    print(ndvi_values)\\n'"
      ]
     },
     "execution_count": 99,
     "metadata": {},
     "output_type": "execute_result"
    }
   ],
   "source": [
    "'''\n",
    "if check_results:\n",
    "    \n",
    "    ndvi_values = [ndvi_img[point[0], point[1]] for ndvi_img in inv_cumulative_matrix_img_list]\n",
    "    \n",
    "    fig = plt.figure()\n",
    "    \n",
    "    plt.plot(dates_inter, ndvi_values, '-')\n",
    "    plt.plot(dates_inter, ndvi_values, 'o')\n",
    "    \n",
    "    #plt.ylim((-1, 1))\n",
    "    #plt.set_xlim([0, 5])\n",
    "\n",
    "    plt.xticks(rotation=45)\n",
    "    plt.xlabel('date')\n",
    "    plt.ylabel('mg m^-3')\n",
    "    #plt.title('Chlorophyll-a concentration (percentile 90)\\nAzores (' + str_area_title + ')')\n",
    "    plt.rcParams[\"figure.figsize\"] = (12, 6) # (w, h)\n",
    "\n",
    "    #plt.savefig('ndvi_graph.png', dpi=300)\n",
    "    plt.show()\n",
    "    \n",
    "    print(ndvi_values)\n",
    "'''"
   ]
  },
  {
   "cell_type": "code",
   "execution_count": 100,
   "metadata": {},
   "outputs": [
    {
     "data": {
      "text/plain": [
       "'\\nif check_results:\\n    \\n    ndvi_values = [ndvi_img[point[0], point[1]] for ndvi_img in inv_cumulative_matrix_img_list]\\n    \\n    fig = plt.figure()\\n    \\n    plt.plot(dates_inter, ndvi_values, \\'-\\')\\n    plt.plot(dates_inter, ndvi_values, \\'o\\')\\n    \\n    \\n    ndvi_values = [ndvi_img[point[0], point[1]] for ndvi_img in cumulative_matrix_img_list]\\n    \\n    \\n    \\n    plt.plot(dates_inter, ndvi_values, \\'-\\')\\n    plt.plot(dates_inter, ndvi_values, \\'o\\')\\n    \\n    #plt.ylim((-1, 1))\\n    #plt.set_xlim([0, 5])\\n\\n    plt.xticks(rotation=45)\\n    plt.xlabel(\\'date\\')\\n    plt.ylabel(\\'mg m^-3\\')\\n    #plt.title(\\'Chlorophyll-a concentration (percentile 90)\\nAzores (\\' + str_area_title + \\')\\')\\n    plt.rcParams[\"figure.figsize\"] = (12, 6) # (w, h)\\n\\n    #plt.savefig(\\'ndvi_graph.png\\', dpi=300)\\n    plt.show()\\n    \\n    print(ndvi_values)\\n    \\n'"
      ]
     },
     "execution_count": 100,
     "metadata": {},
     "output_type": "execute_result"
    }
   ],
   "source": [
    "'''\n",
    "if check_results:\n",
    "    \n",
    "    ndvi_values = [ndvi_img[point[0], point[1]] for ndvi_img in inv_cumulative_matrix_img_list]\n",
    "    \n",
    "    fig = plt.figure()\n",
    "    \n",
    "    plt.plot(dates_inter, ndvi_values, '-')\n",
    "    plt.plot(dates_inter, ndvi_values, 'o')\n",
    "    \n",
    "    \n",
    "    ndvi_values = [ndvi_img[point[0], point[1]] for ndvi_img in cumulative_matrix_img_list]\n",
    "    \n",
    "    \n",
    "    \n",
    "    plt.plot(dates_inter, ndvi_values, '-')\n",
    "    plt.plot(dates_inter, ndvi_values, 'o')\n",
    "    \n",
    "    #plt.ylim((-1, 1))\n",
    "    #plt.set_xlim([0, 5])\n",
    "\n",
    "    plt.xticks(rotation=45)\n",
    "    plt.xlabel('date')\n",
    "    plt.ylabel('mg m^-3')\n",
    "    #plt.title('Chlorophyll-a concentration (percentile 90)\\nAzores (' + str_area_title + ')')\n",
    "    plt.rcParams[\"figure.figsize\"] = (12, 6) # (w, h)\n",
    "\n",
    "    #plt.savefig('ndvi_graph.png', dpi=300)\n",
    "    plt.show()\n",
    "    \n",
    "    print(ndvi_values)\n",
    "    \n",
    "'''"
   ]
  },
  {
   "cell_type": "markdown",
   "metadata": {},
   "source": [
    "NDVI peak value"
   ]
  },
  {
   "cell_type": "code",
   "execution_count": 101,
   "metadata": {},
   "outputs": [],
   "source": [
    "def get_ndvi_peak (matrix_img_list):\n",
    "  \n",
    "    peak_ndvi = []\n",
    "    for idx,img_ndvi in enumerate(matrix_img_list):\n",
    "        if idx == 0:\n",
    "            peak_ndvi = img_ndvi\n",
    "        else:\n",
    "            peak_ndvi = np.where(peak_ndvi < img_ndvi, img_ndvi, peak_ndvi)\n",
    "        \n",
    "    return peak_ndvi\n",
    "        \n",
    "peak_matrix_img = get_ndvi_peak (ndvi_img_inter)"
   ]
  },
  {
   "cell_type": "code",
   "execution_count": 102,
   "metadata": {},
   "outputs": [
    {
     "data": {
      "image/png": "[encoded data removed]",
      "text/plain": [
       "<matplotlib.figure.Figure at 0x7fce3c5ec890>"
      ]
     },
     "metadata": {},
     "output_type": "display_data"
    },
    {
     "name": "stdout",
     "output_type": "stream",
     "text": [
      "0.941317\n",
      "-9999.0\n"
     ]
    }
   ],
   "source": [
    "if check_results:\n",
    "    import matplotlib\n",
    "    import matplotlib.pyplot as plt\n",
    "\n",
    "    fig = plt.figure()\n",
    "    plt.imshow(peak_matrix_img)\n",
    "    \n",
    "    plt.show()\n",
    "    \n",
    "    print(peak_matrix_img.max())\n",
    "    print(peak_matrix_img.min())"
   ]
  },
  {
   "cell_type": "markdown",
   "metadata": {},
   "source": [
    "#### Mask -9999 values"
   ]
  },
  {
   "cell_type": "code",
   "execution_count": 103,
   "metadata": {},
   "outputs": [
    {
     "data": {
      "text/plain": [
       "numpy.ma.core.MaskedArray"
      ]
     },
     "execution_count": 103,
     "metadata": {},
     "output_type": "execute_result"
    }
   ],
   "source": [
    "start_date_img_ma = ma.masked_array(start_date_img, mask = start_date_img < -9998, fill_value=-9999)\n",
    "\n",
    "type(start_date_img_ma)"
   ]
  },
  {
   "cell_type": "code",
   "execution_count": 104,
   "metadata": {},
   "outputs": [
    {
     "data": {
      "text/plain": [
       "numpy.ma.core.MaskedArray"
      ]
     },
     "execution_count": 104,
     "metadata": {},
     "output_type": "execute_result"
    }
   ],
   "source": [
    "end_date_img_ma = ma.masked_array(end_date_img, mask = end_date_img < -9998, fill_value=-9999)\n",
    "\n",
    "type(end_date_img_ma)"
   ]
  },
  {
   "cell_type": "code",
   "execution_count": 105,
   "metadata": {},
   "outputs": [
    {
     "data": {
      "text/plain": [
       "numpy.ma.core.MaskedArray"
      ]
     },
     "execution_count": 105,
     "metadata": {},
     "output_type": "execute_result"
    }
   ],
   "source": [
    "type(dif_matrix_img_list[0])"
   ]
  },
  {
   "cell_type": "code",
   "execution_count": 106,
   "metadata": {},
   "outputs": [
    {
     "data": {
      "text/plain": [
       "numpy.ma.core.MaskedArray"
      ]
     },
     "execution_count": 106,
     "metadata": {},
     "output_type": "execute_result"
    }
   ],
   "source": [
    "type(cumulative_matrix_img_list[0])"
   ]
  },
  {
   "cell_type": "code",
   "execution_count": 107,
   "metadata": {},
   "outputs": [
    {
     "data": {
      "text/plain": [
       "numpy.ma.core.MaskedArray"
      ]
     },
     "execution_count": 107,
     "metadata": {},
     "output_type": "execute_result"
    }
   ],
   "source": [
    "peak_matrix_img_ma = ma.masked_array(peak_matrix_img, mask = end_date_img < -9998)\n",
    "\n",
    "type(peak_matrix_img_ma[0])"
   ]
  },
  {
   "cell_type": "markdown",
   "metadata": {},
   "source": [
    "## Per Parcel"
   ]
  },
  {
   "cell_type": "code",
   "execution_count": 108,
   "metadata": {},
   "outputs": [
    {
     "data": {
      "text/html": [
       "<div>\n",
       "<style scoped>\n",
       "    .dataframe tbody tr th:only-of-type {\n",
       "        vertical-align: middle;\n",
       "    }\n",
       "\n",
       "    .dataframe tbody tr th {\n",
       "        vertical-align: top;\n",
       "    }\n",
       "\n",
       "    .dataframe thead th {\n",
       "        text-align: right;\n",
       "    }\n",
       "</style>\n",
       "<table border=\"1\" class=\"dataframe\">\n",
       "  <thead>\n",
       "    <tr style=\"text-align: right;\">\n",
       "      <th></th>\n",
       "      <th>start_date</th>\n",
       "      <th>end_date</th>\n",
       "      <th>start_growing_season</th>\n",
       "    </tr>\n",
       "  </thead>\n",
       "  <tbody>\n",
       "    <tr>\n",
       "      <th>0</th>\n",
       "      <td>2016-01-05</td>\n",
       "      <td>2016-12-30</td>\n",
       "      <td>2016098</td>\n",
       "    </tr>\n",
       "  </tbody>\n",
       "</table>\n",
       "</div>"
      ],
      "text/plain": [
       "   start_date    end_date start_growing_season\n",
       "0  2016-01-05  2016-12-30              2016098"
      ]
     },
     "execution_count": 108,
     "metadata": {},
     "output_type": "execute_result"
    }
   ],
   "source": [
    "#start_date_img_ma.mean()\n",
    "\n",
    "col_names = ['start_date', 'end_date', 'start_growing_season']\n",
    "start_date_parcel = pd.DataFrame(columns=col_names)\n",
    "start_date_parcel = start_date_parcel.append({'start_date': dates_inter[0], 'end_date': dates_inter[-1], 'start_growing_season': int(start_date_img_ma.mean())}, ignore_index=True)\n",
    "\n",
    "start_date_parcel"
   ]
  },
  {
   "cell_type": "code",
   "execution_count": 109,
   "metadata": {},
   "outputs": [
    {
     "data": {
      "text/html": [
       "<div>\n",
       "<style scoped>\n",
       "    .dataframe tbody tr th:only-of-type {\n",
       "        vertical-align: middle;\n",
       "    }\n",
       "\n",
       "    .dataframe tbody tr th {\n",
       "        vertical-align: top;\n",
       "    }\n",
       "\n",
       "    .dataframe thead th {\n",
       "        text-align: right;\n",
       "    }\n",
       "</style>\n",
       "<table border=\"1\" class=\"dataframe\">\n",
       "  <thead>\n",
       "    <tr style=\"text-align: right;\">\n",
       "      <th></th>\n",
       "      <th>start_date</th>\n",
       "      <th>end_date</th>\n",
       "      <th>end_growing_season</th>\n",
       "    </tr>\n",
       "  </thead>\n",
       "  <tbody>\n",
       "    <tr>\n",
       "      <th>0</th>\n",
       "      <td>2016-01-05</td>\n",
       "      <td>2016-12-30</td>\n",
       "      <td>2016194</td>\n",
       "    </tr>\n",
       "  </tbody>\n",
       "</table>\n",
       "</div>"
      ],
      "text/plain": [
       "   start_date    end_date end_growing_season\n",
       "0  2016-01-05  2016-12-30            2016194"
      ]
     },
     "execution_count": 109,
     "metadata": {},
     "output_type": "execute_result"
    }
   ],
   "source": [
    "#end_date_img_ma.mean()\n",
    "\n",
    "col_names = ['start_date', 'end_date', 'end_growing_season']\n",
    "end_date_parcel = pd.DataFrame(columns=col_names)\n",
    "end_date_parcel = end_date_parcel.append({'start_date': dates_inter[0], 'end_date': dates_inter[-1], 'end_growing_season': int(end_date_img_ma.mean())}, ignore_index=True)\n",
    "\n",
    "end_date_parcel"
   ]
  },
  {
   "cell_type": "code",
   "execution_count": 110,
   "metadata": {},
   "outputs": [
    {
     "data": {
      "text/html": [
       "<div>\n",
       "<style scoped>\n",
       "    .dataframe tbody tr th:only-of-type {\n",
       "        vertical-align: middle;\n",
       "    }\n",
       "\n",
       "    .dataframe tbody tr th {\n",
       "        vertical-align: top;\n",
       "    }\n",
       "\n",
       "    .dataframe thead th {\n",
       "        text-align: right;\n",
       "    }\n",
       "</style>\n",
       "<table border=\"1\" class=\"dataframe\">\n",
       "  <thead>\n",
       "    <tr style=\"text-align: right;\">\n",
       "      <th></th>\n",
       "      <th>start_date</th>\n",
       "      <th>end_date</th>\n",
       "      <th>dif_ndvi</th>\n",
       "    </tr>\n",
       "  </thead>\n",
       "  <tbody>\n",
       "    <tr>\n",
       "      <th>0</th>\n",
       "      <td>2016-01-05</td>\n",
       "      <td>2016-01-20</td>\n",
       "      <td>0.038123</td>\n",
       "    </tr>\n",
       "    <tr>\n",
       "      <th>1</th>\n",
       "      <td>2016-01-20</td>\n",
       "      <td>2016-02-04</td>\n",
       "      <td>0.039724</td>\n",
       "    </tr>\n",
       "    <tr>\n",
       "      <th>2</th>\n",
       "      <td>2016-02-04</td>\n",
       "      <td>2016-02-19</td>\n",
       "      <td>0.044502</td>\n",
       "    </tr>\n",
       "    <tr>\n",
       "      <th>3</th>\n",
       "      <td>2016-02-19</td>\n",
       "      <td>2016-03-05</td>\n",
       "      <td>0.052530</td>\n",
       "    </tr>\n",
       "    <tr>\n",
       "      <th>4</th>\n",
       "      <td>2016-03-05</td>\n",
       "      <td>2016-03-20</td>\n",
       "      <td>0.062837</td>\n",
       "    </tr>\n",
       "    <tr>\n",
       "      <th>5</th>\n",
       "      <td>2016-03-20</td>\n",
       "      <td>2016-04-04</td>\n",
       "      <td>0.073629</td>\n",
       "    </tr>\n",
       "    <tr>\n",
       "      <th>6</th>\n",
       "      <td>2016-04-04</td>\n",
       "      <td>2016-04-19</td>\n",
       "      <td>0.089985</td>\n",
       "    </tr>\n",
       "    <tr>\n",
       "      <th>7</th>\n",
       "      <td>2016-04-19</td>\n",
       "      <td>2016-05-04</td>\n",
       "      <td>0.126181</td>\n",
       "    </tr>\n",
       "    <tr>\n",
       "      <th>8</th>\n",
       "      <td>2016-05-04</td>\n",
       "      <td>2016-05-19</td>\n",
       "      <td>0.152853</td>\n",
       "    </tr>\n",
       "    <tr>\n",
       "      <th>9</th>\n",
       "      <td>2016-05-19</td>\n",
       "      <td>2016-06-03</td>\n",
       "      <td>0.069335</td>\n",
       "    </tr>\n",
       "    <tr>\n",
       "      <th>10</th>\n",
       "      <td>2016-06-03</td>\n",
       "      <td>2016-06-18</td>\n",
       "      <td>-0.022719</td>\n",
       "    </tr>\n",
       "    <tr>\n",
       "      <th>11</th>\n",
       "      <td>2016-06-18</td>\n",
       "      <td>2016-07-03</td>\n",
       "      <td>-0.095825</td>\n",
       "    </tr>\n",
       "    <tr>\n",
       "      <th>12</th>\n",
       "      <td>2016-07-03</td>\n",
       "      <td>2016-07-18</td>\n",
       "      <td>-0.238360</td>\n",
       "    </tr>\n",
       "    <tr>\n",
       "      <th>13</th>\n",
       "      <td>2016-07-18</td>\n",
       "      <td>2016-08-02</td>\n",
       "      <td>-0.395124</td>\n",
       "    </tr>\n",
       "    <tr>\n",
       "      <th>14</th>\n",
       "      <td>2016-08-02</td>\n",
       "      <td>2016-08-17</td>\n",
       "      <td>-0.322003</td>\n",
       "    </tr>\n",
       "    <tr>\n",
       "      <th>15</th>\n",
       "      <td>2016-08-17</td>\n",
       "      <td>2016-09-01</td>\n",
       "      <td>-0.135962</td>\n",
       "    </tr>\n",
       "    <tr>\n",
       "      <th>16</th>\n",
       "      <td>2016-09-01</td>\n",
       "      <td>2016-09-16</td>\n",
       "      <td>0.034021</td>\n",
       "    </tr>\n",
       "    <tr>\n",
       "      <th>17</th>\n",
       "      <td>2016-09-16</td>\n",
       "      <td>2016-10-01</td>\n",
       "      <td>0.127571</td>\n",
       "    </tr>\n",
       "    <tr>\n",
       "      <th>18</th>\n",
       "      <td>2016-10-01</td>\n",
       "      <td>2016-10-16</td>\n",
       "      <td>0.109529</td>\n",
       "    </tr>\n",
       "    <tr>\n",
       "      <th>19</th>\n",
       "      <td>2016-10-16</td>\n",
       "      <td>2016-10-31</td>\n",
       "      <td>0.103277</td>\n",
       "    </tr>\n",
       "    <tr>\n",
       "      <th>20</th>\n",
       "      <td>2016-10-31</td>\n",
       "      <td>2016-11-15</td>\n",
       "      <td>0.103745</td>\n",
       "    </tr>\n",
       "    <tr>\n",
       "      <th>21</th>\n",
       "      <td>2016-11-15</td>\n",
       "      <td>2016-11-30</td>\n",
       "      <td>0.085536</td>\n",
       "    </tr>\n",
       "    <tr>\n",
       "      <th>22</th>\n",
       "      <td>2016-11-30</td>\n",
       "      <td>2016-12-15</td>\n",
       "      <td>0.055221</td>\n",
       "    </tr>\n",
       "    <tr>\n",
       "      <th>23</th>\n",
       "      <td>2016-12-15</td>\n",
       "      <td>2016-12-30</td>\n",
       "      <td>0.037978</td>\n",
       "    </tr>\n",
       "  </tbody>\n",
       "</table>\n",
       "</div>"
      ],
      "text/plain": [
       "    start_date    end_date  dif_ndvi\n",
       "0   2016-01-05  2016-01-20  0.038123\n",
       "1   2016-01-20  2016-02-04  0.039724\n",
       "2   2016-02-04  2016-02-19  0.044502\n",
       "3   2016-02-19  2016-03-05  0.052530\n",
       "4   2016-03-05  2016-03-20  0.062837\n",
       "5   2016-03-20  2016-04-04  0.073629\n",
       "6   2016-04-04  2016-04-19  0.089985\n",
       "7   2016-04-19  2016-05-04  0.126181\n",
       "8   2016-05-04  2016-05-19  0.152853\n",
       "9   2016-05-19  2016-06-03  0.069335\n",
       "10  2016-06-03  2016-06-18 -0.022719\n",
       "11  2016-06-18  2016-07-03 -0.095825\n",
       "12  2016-07-03  2016-07-18 -0.238360\n",
       "13  2016-07-18  2016-08-02 -0.395124\n",
       "14  2016-08-02  2016-08-17 -0.322003\n",
       "15  2016-08-17  2016-09-01 -0.135962\n",
       "16  2016-09-01  2016-09-16  0.034021\n",
       "17  2016-09-16  2016-10-01  0.127571\n",
       "18  2016-10-01  2016-10-16  0.109529\n",
       "19  2016-10-16  2016-10-31  0.103277\n",
       "20  2016-10-31  2016-11-15  0.103745\n",
       "21  2016-11-15  2016-11-30  0.085536\n",
       "22  2016-11-30  2016-12-15  0.055221\n",
       "23  2016-12-15  2016-12-30  0.037978"
      ]
     },
     "execution_count": 110,
     "metadata": {},
     "output_type": "execute_result"
    }
   ],
   "source": [
    "#[mat.mean() for mat in dif_matrix_img_list]\n",
    "\n",
    "col_names = ['start_date', 'end_date', 'dif_ndvi']\n",
    "dif_ndvi_parcel = pd.DataFrame(columns=col_names)\n",
    "\n",
    "for idx in range(len(dates_inter)-1):\n",
    "    \n",
    "    dif_ndvi_parcel = dif_ndvi_parcel.append({'start_date': dates_inter[idx], 'end_date': dates_inter[idx+1], 'dif_ndvi': dif_matrix_img_list[idx].mean()}, ignore_index=True)\n",
    "\n",
    "dif_ndvi_parcel"
   ]
  },
  {
   "cell_type": "code",
   "execution_count": 111,
   "metadata": {},
   "outputs": [
    {
     "data": {
      "text/html": [
       "<div>\n",
       "<style scoped>\n",
       "    .dataframe tbody tr th:only-of-type {\n",
       "        vertical-align: middle;\n",
       "    }\n",
       "\n",
       "    .dataframe tbody tr th {\n",
       "        vertical-align: top;\n",
       "    }\n",
       "\n",
       "    .dataframe thead th {\n",
       "        text-align: right;\n",
       "    }\n",
       "</style>\n",
       "<table border=\"1\" class=\"dataframe\">\n",
       "  <thead>\n",
       "    <tr style=\"text-align: right;\">\n",
       "      <th></th>\n",
       "      <th>start_date</th>\n",
       "      <th>end_date</th>\n",
       "      <th>cumulative_ndvi</th>\n",
       "    </tr>\n",
       "  </thead>\n",
       "  <tbody>\n",
       "    <tr>\n",
       "      <th>0</th>\n",
       "      <td>2016-01-05</td>\n",
       "      <td>2016-01-05</td>\n",
       "      <td>-0.324062</td>\n",
       "    </tr>\n",
       "    <tr>\n",
       "      <th>1</th>\n",
       "      <td>2016-01-05</td>\n",
       "      <td>2016-01-20</td>\n",
       "      <td>-0.610000</td>\n",
       "    </tr>\n",
       "    <tr>\n",
       "      <th>2</th>\n",
       "      <td>2016-01-05</td>\n",
       "      <td>2016-02-04</td>\n",
       "      <td>-0.856215</td>\n",
       "    </tr>\n",
       "    <tr>\n",
       "      <th>3</th>\n",
       "      <td>2016-01-05</td>\n",
       "      <td>2016-02-19</td>\n",
       "      <td>-1.057927</td>\n",
       "    </tr>\n",
       "    <tr>\n",
       "      <th>4</th>\n",
       "      <td>2016-01-05</td>\n",
       "      <td>2016-03-05</td>\n",
       "      <td>-1.207109</td>\n",
       "    </tr>\n",
       "    <tr>\n",
       "      <th>5</th>\n",
       "      <td>2016-01-05</td>\n",
       "      <td>2016-03-20</td>\n",
       "      <td>-1.293455</td>\n",
       "    </tr>\n",
       "    <tr>\n",
       "      <th>6</th>\n",
       "      <td>2016-01-05</td>\n",
       "      <td>2016-04-04</td>\n",
       "      <td>-1.306171</td>\n",
       "    </tr>\n",
       "    <tr>\n",
       "      <th>7</th>\n",
       "      <td>2016-01-05</td>\n",
       "      <td>2016-04-19</td>\n",
       "      <td>-1.228902</td>\n",
       "    </tr>\n",
       "    <tr>\n",
       "      <th>8</th>\n",
       "      <td>2016-01-05</td>\n",
       "      <td>2016-05-04</td>\n",
       "      <td>-1.025452</td>\n",
       "    </tr>\n",
       "    <tr>\n",
       "      <th>9</th>\n",
       "      <td>2016-01-05</td>\n",
       "      <td>2016-05-19</td>\n",
       "      <td>-0.669149</td>\n",
       "    </tr>\n",
       "    <tr>\n",
       "      <th>10</th>\n",
       "      <td>2016-01-05</td>\n",
       "      <td>2016-06-03</td>\n",
       "      <td>-0.243512</td>\n",
       "    </tr>\n",
       "    <tr>\n",
       "      <th>11</th>\n",
       "      <td>2016-01-05</td>\n",
       "      <td>2016-06-18</td>\n",
       "      <td>0.159407</td>\n",
       "    </tr>\n",
       "    <tr>\n",
       "      <th>12</th>\n",
       "      <td>2016-01-05</td>\n",
       "      <td>2016-07-03</td>\n",
       "      <td>0.466501</td>\n",
       "    </tr>\n",
       "    <tr>\n",
       "      <th>13</th>\n",
       "      <td>2016-01-05</td>\n",
       "      <td>2016-07-18</td>\n",
       "      <td>0.535235</td>\n",
       "    </tr>\n",
       "    <tr>\n",
       "      <th>14</th>\n",
       "      <td>2016-01-05</td>\n",
       "      <td>2016-08-02</td>\n",
       "      <td>0.208845</td>\n",
       "    </tr>\n",
       "    <tr>\n",
       "      <th>15</th>\n",
       "      <td>2016-01-05</td>\n",
       "      <td>2016-08-17</td>\n",
       "      <td>-0.439548</td>\n",
       "    </tr>\n",
       "    <tr>\n",
       "      <th>16</th>\n",
       "      <td>2016-01-05</td>\n",
       "      <td>2016-09-01</td>\n",
       "      <td>-1.223902</td>\n",
       "    </tr>\n",
       "    <tr>\n",
       "      <th>17</th>\n",
       "      <td>2016-01-05</td>\n",
       "      <td>2016-09-16</td>\n",
       "      <td>-1.974237</td>\n",
       "    </tr>\n",
       "    <tr>\n",
       "      <th>18</th>\n",
       "      <td>2016-01-05</td>\n",
       "      <td>2016-10-01</td>\n",
       "      <td>-2.597000</td>\n",
       "    </tr>\n",
       "    <tr>\n",
       "      <th>19</th>\n",
       "      <td>2016-01-05</td>\n",
       "      <td>2016-10-16</td>\n",
       "      <td>-3.110234</td>\n",
       "    </tr>\n",
       "    <tr>\n",
       "      <th>20</th>\n",
       "      <td>2016-01-05</td>\n",
       "      <td>2016-10-31</td>\n",
       "      <td>-3.520191</td>\n",
       "    </tr>\n",
       "    <tr>\n",
       "      <th>21</th>\n",
       "      <td>2016-01-05</td>\n",
       "      <td>2016-11-15</td>\n",
       "      <td>-3.826404</td>\n",
       "    </tr>\n",
       "    <tr>\n",
       "      <th>22</th>\n",
       "      <td>2016-01-05</td>\n",
       "      <td>2016-11-30</td>\n",
       "      <td>-4.047080</td>\n",
       "    </tr>\n",
       "    <tr>\n",
       "      <th>23</th>\n",
       "      <td>2016-01-05</td>\n",
       "      <td>2016-12-15</td>\n",
       "      <td>-4.212536</td>\n",
       "    </tr>\n",
       "    <tr>\n",
       "      <th>24</th>\n",
       "      <td>2016-01-05</td>\n",
       "      <td>2016-12-30</td>\n",
       "      <td>-4.340013</td>\n",
       "    </tr>\n",
       "  </tbody>\n",
       "</table>\n",
       "</div>"
      ],
      "text/plain": [
       "    start_date    end_date  cumulative_ndvi\n",
       "0   2016-01-05  2016-01-05        -0.324062\n",
       "1   2016-01-05  2016-01-20        -0.610000\n",
       "2   2016-01-05  2016-02-04        -0.856215\n",
       "3   2016-01-05  2016-02-19        -1.057927\n",
       "4   2016-01-05  2016-03-05        -1.207109\n",
       "5   2016-01-05  2016-03-20        -1.293455\n",
       "6   2016-01-05  2016-04-04        -1.306171\n",
       "7   2016-01-05  2016-04-19        -1.228902\n",
       "8   2016-01-05  2016-05-04        -1.025452\n",
       "9   2016-01-05  2016-05-19        -0.669149\n",
       "10  2016-01-05  2016-06-03        -0.243512\n",
       "11  2016-01-05  2016-06-18         0.159407\n",
       "12  2016-01-05  2016-07-03         0.466501\n",
       "13  2016-01-05  2016-07-18         0.535235\n",
       "14  2016-01-05  2016-08-02         0.208845\n",
       "15  2016-01-05  2016-08-17        -0.439548\n",
       "16  2016-01-05  2016-09-01        -1.223902\n",
       "17  2016-01-05  2016-09-16        -1.974237\n",
       "18  2016-01-05  2016-10-01        -2.597000\n",
       "19  2016-01-05  2016-10-16        -3.110234\n",
       "20  2016-01-05  2016-10-31        -3.520191\n",
       "21  2016-01-05  2016-11-15        -3.826404\n",
       "22  2016-01-05  2016-11-30        -4.047080\n",
       "23  2016-01-05  2016-12-15        -4.212536\n",
       "24  2016-01-05  2016-12-30        -4.340013"
      ]
     },
     "execution_count": 111,
     "metadata": {},
     "output_type": "execute_result"
    }
   ],
   "source": [
    "#[mat.mean() for mat in cumulative_matrix_img_list]\n",
    "\n",
    "col_names = ['start_date', 'end_date', 'cumulative_ndvi']\n",
    "cumulative_ndvi_parcel = pd.DataFrame(columns=col_names)\n",
    "\n",
    "for idx in range(len(dates_inter)):\n",
    "    \n",
    "    cumulative_ndvi_parcel = cumulative_ndvi_parcel.append({'start_date': dates_inter[0], 'end_date': dates_inter[idx], 'cumulative_ndvi': cumulative_matrix_img_list[idx].mean()}, ignore_index=True)\n",
    "\n",
    "cumulative_ndvi_parcel"
   ]
  },
  {
   "cell_type": "code",
   "execution_count": 112,
   "metadata": {},
   "outputs": [
    {
     "data": {
      "text/html": [
       "<div>\n",
       "<style scoped>\n",
       "    .dataframe tbody tr th:only-of-type {\n",
       "        vertical-align: middle;\n",
       "    }\n",
       "\n",
       "    .dataframe tbody tr th {\n",
       "        vertical-align: top;\n",
       "    }\n",
       "\n",
       "    .dataframe thead th {\n",
       "        text-align: right;\n",
       "    }\n",
       "</style>\n",
       "<table border=\"1\" class=\"dataframe\">\n",
       "  <thead>\n",
       "    <tr style=\"text-align: right;\">\n",
       "      <th></th>\n",
       "      <th>start_date</th>\n",
       "      <th>end_date</th>\n",
       "      <th>peak_ndvi</th>\n",
       "    </tr>\n",
       "  </thead>\n",
       "  <tbody>\n",
       "    <tr>\n",
       "      <th>0</th>\n",
       "      <td>2016-01-05</td>\n",
       "      <td>2016-12-30</td>\n",
       "      <td>0.43896</td>\n",
       "    </tr>\n",
       "  </tbody>\n",
       "</table>\n",
       "</div>"
      ],
      "text/plain": [
       "   start_date    end_date  peak_ndvi\n",
       "0  2016-01-05  2016-12-30    0.43896"
      ]
     },
     "execution_count": 112,
     "metadata": {},
     "output_type": "execute_result"
    }
   ],
   "source": [
    "#peak_matrix_img_ma.mean()\n",
    "\n",
    "col_names = ['start_date', 'end_date', 'peak_ndvi']\n",
    "peak_ndvi_parcel = pd.DataFrame(columns=col_names)\n",
    "peak_ndvi_parcel = peak_ndvi_parcel.append({'start_date': dates_inter[0], 'end_date': dates_inter[-1], 'peak_ndvi': peak_matrix_img_ma.mean()}, ignore_index=True)\n",
    "\n",
    "peak_ndvi_parcel"
   ]
  },
  {
   "cell_type": "markdown",
   "metadata": {},
   "source": [
    "#### Export results"
   ]
  },
  {
   "cell_type": "code",
   "execution_count": 113,
   "metadata": {},
   "outputs": [],
   "source": [
    "# get metada data\n",
    "projection, geotransform, no_data_value, data_type = get_metadata(file_list[0])\n",
    "\n",
    "first_part = os.path.basename(file_list[0])[0:4]\n",
    "areaOfInterestName = nameOfRegion['value']"
   ]
  },
  {
   "cell_type": "markdown",
   "metadata": {},
   "source": [
    "##### Export to excel"
   ]
  },
  {
   "cell_type": "code",
   "execution_count": 114,
   "metadata": {},
   "outputs": [
    {
     "name": "stdout",
     "output_type": "stream",
     "text": [
      "LE07_ndviStats_P001_2016005_2016365.xlsx\n"
     ]
    }
   ],
   "source": [
    "var_name = 'ndviStats'\n",
    "\n",
    "start_date = dates_inter[0]\n",
    "end_date = dates_inter[-1]\n",
    "\n",
    "excel_output_name = '_'.join([first_part, var_name, areaOfInterestName, start_date.strftime(\"%Y%j\"), end_date.strftime(\"%Y%j\")]) + '.xlsx'\n",
    "    \n",
    "excel_output_name = os.path.join(output_folder, excel_output_name)\n",
    "\n",
    "print(excel_output_name)\n",
    "\n",
    "with pd.ExcelWriter(excel_output_name) as writer:  # doctest: +SKIP\n",
    "    start_date_parcel.to_excel(writer, sheet_name='start_growing_season')\n",
    "    end_date_parcel.to_excel(writer, sheet_name='end_growing_season')\n",
    "    dif_ndvi_parcel.to_excel(writer, sheet_name='dif_ndvi')\n",
    "    cumulative_ndvi_parcel.to_excel(writer, sheet_name='cumulative_ndvi')\n",
    "    peak_ndvi_parcel.to_excel(writer, sheet_name='peak_ndvi')\n"
   ]
  },
  {
   "cell_type": "markdown",
   "metadata": {},
   "source": [
    "difference ndvi"
   ]
  },
  {
   "cell_type": "code",
   "execution_count": 115,
   "metadata": {},
   "outputs": [
    {
     "name": "stdout",
     "output_type": "stream",
     "text": [
      "2016-01-05\n",
      "LE07_difNdvi_P001_2016005_2016020.tif\n",
      "2016-01-20\n",
      "LE07_difNdvi_P001_2016020_2016035.tif\n",
      "2016-02-04\n",
      "LE07_difNdvi_P001_2016035_2016050.tif\n",
      "2016-02-19\n",
      "LE07_difNdvi_P001_2016050_2016065.tif\n",
      "2016-03-05\n",
      "LE07_difNdvi_P001_2016065_2016080.tif\n",
      "2016-03-20\n",
      "LE07_difNdvi_P001_2016080_2016095.tif\n",
      "2016-04-04\n",
      "LE07_difNdvi_P001_2016095_2016110.tif\n",
      "2016-04-19\n",
      "LE07_difNdvi_P001_2016110_2016125.tif\n",
      "2016-05-04\n",
      "LE07_difNdvi_P001_2016125_2016140.tif\n",
      "2016-05-19\n",
      "LE07_difNdvi_P001_2016140_2016155.tif\n",
      "2016-06-03\n",
      "LE07_difNdvi_P001_2016155_2016170.tif\n",
      "2016-06-18\n",
      "LE07_difNdvi_P001_2016170_2016185.tif\n",
      "2016-07-03\n",
      "LE07_difNdvi_P001_2016185_2016200.tif\n",
      "2016-07-18\n",
      "LE07_difNdvi_P001_2016200_2016215.tif\n",
      "2016-08-02\n",
      "LE07_difNdvi_P001_2016215_2016230.tif\n",
      "2016-08-17\n",
      "LE07_difNdvi_P001_2016230_2016245.tif\n",
      "2016-09-01\n",
      "LE07_difNdvi_P001_2016245_2016260.tif\n",
      "2016-09-16\n",
      "LE07_difNdvi_P001_2016260_2016275.tif\n",
      "2016-10-01\n",
      "LE07_difNdvi_P001_2016275_2016290.tif\n",
      "2016-10-16\n",
      "LE07_difNdvi_P001_2016290_2016305.tif\n",
      "2016-10-31\n",
      "LE07_difNdvi_P001_2016305_2016320.tif\n",
      "2016-11-15\n",
      "LE07_difNdvi_P001_2016320_2016335.tif\n",
      "2016-11-30\n",
      "LE07_difNdvi_P001_2016335_2016350.tif\n",
      "2016-12-15\n",
      "LE07_difNdvi_P001_2016350_2016365.tif\n"
     ]
    }
   ],
   "source": [
    "\n",
    "var_name = 'difNdvi'\n",
    "\n",
    "for idx in range(len(dif_ndvi_parcel)):\n",
    "    \n",
    "    print(dif_ndvi_parcel['start_date'][idx])\n",
    "    \n",
    "    start_date = dif_ndvi_parcel['start_date'][idx]\n",
    "    end_date = dif_ndvi_parcel['end_date'][idx]\n",
    "    \n",
    "    dif_matrix_img = dif_matrix_img_list[idx]\n",
    "    \n",
    "    dif_ndvi_img_name = '_'.join([first_part, var_name, areaOfInterestName, start_date.strftime(\"%Y%j\"), end_date.strftime(\"%Y%j\")]) + '.tif'\n",
    "    \n",
    "    dif_ndvi_img_name = os.path.join(output_folder, dif_ndvi_img_name)\n",
    "    \n",
    "    print(dif_ndvi_img_name)\n",
    "    \n",
    "    write_output_image(dif_ndvi_img_name, dif_matrix_img, 'GTiff', data_type, None, projection, geotransform, no_data_value)\n",
    "    \n",
    "    write_properties_file(dif_ndvi_img_name, start_date, end_date, regionOfInterest['value'])\n"
   ]
  },
  {
   "cell_type": "markdown",
   "metadata": {},
   "source": [
    "Cumulative ndvi"
   ]
  },
  {
   "cell_type": "code",
   "execution_count": 116,
   "metadata": {},
   "outputs": [
    {
     "name": "stdout",
     "output_type": "stream",
     "text": [
      "2016-01-05\n",
      "LE07_cumulativeNdvi_P001_2016005_2016005.tif\n",
      "2016-01-05\n",
      "LE07_cumulativeNdvi_P001_2016005_2016020.tif\n",
      "2016-01-05\n",
      "LE07_cumulativeNdvi_P001_2016005_2016035.tif\n",
      "2016-01-05\n",
      "LE07_cumulativeNdvi_P001_2016005_2016050.tif\n",
      "2016-01-05\n",
      "LE07_cumulativeNdvi_P001_2016005_2016065.tif\n",
      "2016-01-05\n",
      "LE07_cumulativeNdvi_P001_2016005_2016080.tif\n",
      "2016-01-05\n",
      "LE07_cumulativeNdvi_P001_2016005_2016095.tif\n",
      "2016-01-05\n",
      "LE07_cumulativeNdvi_P001_2016005_2016110.tif\n",
      "2016-01-05\n",
      "LE07_cumulativeNdvi_P001_2016005_2016125.tif\n",
      "2016-01-05\n",
      "LE07_cumulativeNdvi_P001_2016005_2016140.tif\n",
      "2016-01-05\n",
      "LE07_cumulativeNdvi_P001_2016005_2016155.tif\n",
      "2016-01-05\n",
      "LE07_cumulativeNdvi_P001_2016005_2016170.tif\n",
      "2016-01-05\n",
      "LE07_cumulativeNdvi_P001_2016005_2016185.tif\n",
      "2016-01-05\n",
      "LE07_cumulativeNdvi_P001_2016005_2016200.tif\n",
      "2016-01-05\n",
      "LE07_cumulativeNdvi_P001_2016005_2016215.tif\n",
      "2016-01-05\n",
      "LE07_cumulativeNdvi_P001_2016005_2016230.tif\n",
      "2016-01-05\n",
      "LE07_cumulativeNdvi_P001_2016005_2016245.tif\n",
      "2016-01-05\n",
      "LE07_cumulativeNdvi_P001_2016005_2016260.tif\n",
      "2016-01-05\n",
      "LE07_cumulativeNdvi_P001_2016005_2016275.tif\n",
      "2016-01-05\n",
      "LE07_cumulativeNdvi_P001_2016005_2016290.tif\n",
      "2016-01-05\n",
      "LE07_cumulativeNdvi_P001_2016005_2016305.tif\n",
      "2016-01-05\n",
      "LE07_cumulativeNdvi_P001_2016005_2016320.tif\n",
      "2016-01-05\n",
      "LE07_cumulativeNdvi_P001_2016005_2016335.tif\n",
      "2016-01-05\n",
      "LE07_cumulativeNdvi_P001_2016005_2016350.tif\n",
      "2016-01-05\n",
      "LE07_cumulativeNdvi_P001_2016005_2016365.tif\n"
     ]
    }
   ],
   "source": [
    "var_name = 'cumulativeNdvi'\n",
    "\n",
    "for idx in range(len(cumulative_ndvi_parcel)):\n",
    "    \n",
    "    print(cumulative_ndvi_parcel['start_date'][idx])\n",
    "    \n",
    "    start_date = cumulative_ndvi_parcel['start_date'][idx]\n",
    "    end_date = cumulative_ndvi_parcel['end_date'][idx]\n",
    "    \n",
    "    cum_matrix_img = cumulative_matrix_img_list[idx]\n",
    "    \n",
    "    cum_ndvi_img_name = '_'.join([first_part, var_name, areaOfInterestName, start_date.strftime(\"%Y%j\"), end_date.strftime(\"%Y%j\")]) + '.tif'\n",
    "    \n",
    "    cum_ndvi_img_name = os.path.join(output_folder, cum_ndvi_img_name)\n",
    "    \n",
    "    print(cum_ndvi_img_name)\n",
    "    \n",
    "    write_output_image(cum_ndvi_img_name, cum_matrix_img, 'GTiff', data_type, None, projection, geotransform, no_data_value)\n",
    "    \n",
    "    write_properties_file(cum_ndvi_img_name, start_date, end_date, regionOfInterest['value'])"
   ]
  },
  {
   "cell_type": "markdown",
   "metadata": {},
   "source": [
    "Peak value"
   ]
  },
  {
   "cell_type": "code",
   "execution_count": 117,
   "metadata": {},
   "outputs": [
    {
     "name": "stdout",
     "output_type": "stream",
     "text": [
      "LE07_ndviPeak_P001_2016005_2016365.tif\n"
     ]
    }
   ],
   "source": [
    "#peak_matrix_img_ma\n",
    "#peak_ndvi_parcel\n",
    "\n",
    "var_name = 'ndviPeak'\n",
    "\n",
    "start_date = peak_ndvi_parcel['start_date'][0]\n",
    "end_date = peak_ndvi_parcel['end_date'][0]\n",
    "\n",
    "peak_ndvi_img_name = '_'.join([first_part, var_name, areaOfInterestName, start_date.strftime(\"%Y%j\"), end_date.strftime(\"%Y%j\")]) + '.tif'\n",
    "    \n",
    "peak_ndvi_img_name = os.path.join(output_folder, peak_ndvi_img_name)\n",
    "    \n",
    "print(peak_ndvi_img_name)\n",
    "\n",
    "write_output_image(peak_ndvi_img_name, peak_matrix_img, 'GTiff', data_type, None, projection, geotransform, no_data_value)\n",
    "\n",
    "write_properties_file(peak_ndvi_img_name, start_date, end_date, regionOfInterest['value'])"
   ]
  },
  {
   "cell_type": "markdown",
   "metadata": {},
   "source": [
    "start growing season date"
   ]
  },
  {
   "cell_type": "code",
   "execution_count": 118,
   "metadata": {},
   "outputs": [
    {
     "name": "stdout",
     "output_type": "stream",
     "text": [
      "LE07_startSeasonNdvi_P001_2016005_2016365.tif\n"
     ]
    }
   ],
   "source": [
    "#start_date_img_ma\n",
    "#start_date_parcel\n",
    "\n",
    "var_name = 'startSeasonNdvi'\n",
    "\n",
    "start_date = start_date_parcel['start_date'][0]\n",
    "end_date = start_date_parcel['end_date'][0]\n",
    "\n",
    "start_date_ndvi_img_name = '_'.join([first_part, var_name, areaOfInterestName, start_date.strftime(\"%Y%j\"), end_date.strftime(\"%Y%j\")]) + '.tif'\n",
    "    \n",
    "start_date_ndvi_img_name = os.path.join(output_folder, start_date_ndvi_img_name)\n",
    "    \n",
    "print(start_date_ndvi_img_name)\n",
    "\n",
    "write_output_image(start_date_ndvi_img_name, start_date_img_ma, 'GTiff', gdal.GDT_Int32, None, projection, geotransform, no_data_value)\n",
    "\n",
    "write_properties_file(start_date_ndvi_img_name, start_date, end_date, regionOfInterest['value'])"
   ]
  },
  {
   "cell_type": "markdown",
   "metadata": {},
   "source": [
    "end growing season date"
   ]
  },
  {
   "cell_type": "code",
   "execution_count": 119,
   "metadata": {},
   "outputs": [
    {
     "name": "stdout",
     "output_type": "stream",
     "text": [
      "LE07_endSeasonNdvi_P001_2016005_2016365.tif\n"
     ]
    }
   ],
   "source": [
    "#end_date_img_ma\n",
    "#end_date_parcel\n",
    "\n",
    "var_name = 'endSeasonNdvi'\n",
    "\n",
    "start_date = end_date_parcel['start_date'][0]\n",
    "end_date = end_date_parcel['end_date'][0]\n",
    "\n",
    "end_date_ndvi_img_name = '_'.join([first_part, var_name, areaOfInterestName, start_date.strftime(\"%Y%j\"), end_date.strftime(\"%Y%j\")]) + '.tif'\n",
    "    \n",
    "end_date_ndvi_img_name = os.path.join(output_folder, end_date_ndvi_img_name)\n",
    "    \n",
    "print(end_date_ndvi_img_name)\n",
    "\n",
    "write_output_image(end_date_ndvi_img_name, end_date_img_ma, 'GTiff', gdal.GDT_Int32, None, projection, geotransform, no_data_value)\n",
    "\n",
    "write_properties_file(end_date_ndvi_img_name, start_date, end_date, regionOfInterest['value'])"
   ]
  },
  {
   "cell_type": "markdown",
   "metadata": {},
   "source": [
    "#### Remove temporay files and folders"
   ]
  },
  {
   "cell_type": "code",
   "execution_count": null,
   "metadata": {},
   "outputs": [],
   "source": [
    "rm_cfolder(temp_folder)\n",
    "\n",
    "os.rmdir(temp_folder)"
   ]
  }
 ],
 "metadata": {
  "kernelspec": {
   "display_name": "Python 2",
   "language": "python",
   "name": "python2"
  },
  "language_info": {
   "codemirror_mode": {
    "name": "ipython",
    "version": 2
   },
   "file_extension": ".py",
   "mimetype": "text/x-python",
   "name": "python",
   "nbconvert_exporter": "python",
   "pygments_lexer": "ipython2",
   "version": "2.7.13"
  }
 },
 "nbformat": 4,
 "nbformat_minor": 2
}
