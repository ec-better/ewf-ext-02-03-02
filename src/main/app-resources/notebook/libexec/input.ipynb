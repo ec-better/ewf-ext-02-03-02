{
 "cells": [
  {
   "cell_type": "markdown",
   "metadata": {
    "slideshow": {
     "slide_type": "skip"
    }
   },
   "source": [
    "## ewf-ext-02-03-02 - NDVI growing season statistics time series per pixel"
   ]
  },
  {
   "cell_type": "markdown",
   "metadata": {},
   "source": [
    "NDVI growing season statistics time series per pixel"
   ]
  },
  {
   "cell_type": "markdown",
   "metadata": {},
   "source": [
    "---"
   ]
  },
  {
   "cell_type": "markdown",
   "metadata": {},
   "source": [
    "### <a name=\"service\">Service definition"
   ]
  },
  {
   "cell_type": "code",
   "execution_count": 124,
   "metadata": {
    "collapsed": true
   },
   "outputs": [],
   "source": [
    "service = dict([('title', 'NDVI growing season statistics time series per pixel'),\n",
    "                ('abstract', 'NDVI growing season statistics time series per pixel'),\n",
    "                ('id', 'ewf-ext-02-03-02')])"
   ]
  },
  {
   "cell_type": "markdown",
   "metadata": {},
   "source": [
    "### <a name=\"parameter\">Parameter Definition "
   ]
  },
  {
   "cell_type": "code",
   "execution_count": 125,
   "metadata": {},
   "outputs": [],
   "source": [
    "regionOfInterest = dict([('id', 'regionOfInterest'),\n",
    "                         ('value', 'POLYGON ((-8.864205 38.88616500000001, -8.864205 38.986165, -8.964205000000002 38.986165, -8.964205000000002 38.88616500000001, -8.864205 38.88616500000001))'),\n",
    "                         ('title', 'WKT Polygon for the Region of Interest'),\n",
    "                         ('abstract', 'Set the value of WKT Polygon')])"
   ]
  },
  {
   "cell_type": "code",
   "execution_count": 126,
   "metadata": {},
   "outputs": [],
   "source": [
    "nameOfRegion = dict([('id', 'nameOfRegion'),\n",
    "                     ('value', 'P001'),\n",
    "                     ('title', 'Name of Region'),\n",
    "                     ('abstract', 'Name of the region of interest'),\n",
    "                     ('minOccurs', '1')])"
   ]
  },
  {
   "cell_type": "markdown",
   "metadata": {},
   "source": [
    "### <a name=\"runtime\">Runtime parameter definition"
   ]
  },
  {
   "cell_type": "markdown",
   "metadata": {},
   "source": [
    "**Input identifiers**\n",
    "\n",
    "This is the NDVI stack of products' identifiers"
   ]
  },
  {
   "cell_type": "code",
   "execution_count": 217,
   "metadata": {
    "collapsed": true
   },
   "outputs": [],
   "source": [
    "# 2014, 2015, 2016, 2017\n",
    "#input_identifiers = ('LE07_L1TP_204033_20140311_20161117_01_T1_sr_NDVI.tif','LE07_L1TP_204033_20140428_20161116_01_T1_sr_NDVI.tif','LE07_L1TP_204033_20140514_20161115_01_T1_sr_NDVI.tif','LE07_L1TP_204033_20140530_20161115_01_T1_sr_NDVI.tif','LE07_L1TP_204033_20140615_20161113_01_T1_sr_NDVI.tif','LE07_L1TP_204033_20140701_20161112_01_T1_sr_NDVI.tif','LE07_L1TP_204033_20140717_20161112_01_T1_sr_NDVI.tif','LE07_L1TP_204033_20140818_20161111_01_T1_sr_NDVI.tif','LE07_L1TP_204033_20141208_20161030_01_T1_sr_NDVI.tif','LE07_L1TP_204033_20141224_20161030_01_T1_sr_NDVI.tif','LE07_L1TP_204033_20150109_20161030_01_T1_sr_NDVI.tif','LE07_L1TP_204033_20150125_20161029_01_T1_sr_NDVI.tif','LE07_L1TP_204033_20150314_20161028_01_T1_sr_NDVI.tif','LE07_L1TP_204033_20150330_20161028_01_T1_sr_NDVI.tif','LE07_L1TP_204033_20150517_20161026_01_T1_sr_NDVI.tif','LE07_L1TP_204033_20150602_20161025_01_T1_sr_NDVI.tif','LE07_L1TP_204033_20150618_20161025_01_T1_sr_NDVI.tif','LE07_L1TP_204033_20150704_20161024_01_T1_sr_NDVI.tif','LE07_L1TP_204033_20150720_20161027_01_T1_sr_NDVI.tif','LE07_L1TP_204033_20150805_20161023_01_T1_sr_NDVI.tif','LE07_L1TP_204033_20150821_20161022_01_T1_sr_NDVI.tif','LE07_L1TP_204033_20150922_20161019_01_T1_sr_NDVI.tif','LE07_L1TP_204033_20151008_20161018_01_T1_sr_NDVI.tif','LE07_L1TP_204033_20151109_20161017_01_T1_sr_NDVI.tif','LE07_L1TP_204033_20151227_20161016_01_T1_sr_NDVI.tif','LE07_L1TP_204033_20160112_20161015_01_T1_sr_NDVI.tif','LE07_L1TP_204033_20160229_20161014_01_T1_sr_NDVI.tif','LE07_L1TP_204033_20160401_20161013_01_T1_sr_NDVI.tif','LE07_L1TP_204033_20160503_20161011_01_T1_sr_NDVI.tif','LE07_L1TP_204033_20160519_20161010_01_T1_sr_NDVI.tif','LE07_L1TP_204033_20160620_20161209_01_T1_sr_NDVI.tif','LE07_L1TP_204033_20160706_20161009_01_T1_sr_NDVI.tif','LE07_L1TP_204033_20160722_20161010_01_T1_sr_NDVI.tif','LE07_L1TP_204033_20160807_20161008_01_T1_sr_NDVI.tif','LE07_L1TP_204033_20160823_20161007_01_T1_sr_NDVI.tif','LE07_L1TP_204033_20160908_20161006_01_T1_sr_NDVI.tif','LE07_L1TP_204033_20160924_20161023_01_T1_sr_NDVI.tif','LE07_L1TP_204033_20161026_20161121_01_T1_sr_NDVI.tif','LE07_L1TP_204033_20161127_20170118_01_T1_sr_NDVI.tif','LE07_L1TP_204033_20161229_20170219_01_T1_sr_NDVI.tif','LE07_L1TP_204033_20170114_20170209_01_T1_sr_NDVI.tif','LE07_L1TP_204033_20170319_20170414_01_T1_sr_NDVI.tif','LE07_L1TP_204033_20170404_20170430_01_T1_sr_NDVI.tif','LE07_L1TP_204033_20170420_20170516_01_T1_sr_NDVI.tif','LE07_L1TP_204033_20170506_20170601_01_T1_sr_NDVI.tif','LE07_L1TP_204033_20170522_20170617_01_T1_sr_NDVI.tif','LE07_L1TP_204033_20170607_20170703_01_T1_sr_NDVI.tif','LE07_L1TP_204033_20170623_20170719_01_T1_sr_NDVI.tif','LE07_L1TP_204033_20170709_20170804_01_T1_sr_NDVI.tif','LE07_L1TP_204033_20170725_20170820_01_T1_sr_NDVI.tif','LE07_L1TP_204033_20170810_20170905_01_T1_sr_NDVI.tif','LE07_L1TP_204033_20170826_20170921_01_T1_sr_NDVI.tif','LE07_L1TP_204033_20170911_20171007_01_T1_sr_NDVI.tif','LE07_L1TP_204033_20170927_20171023_01_T1_sr_NDVI.tif','LE07_L1TP_204033_20171013_20171110_01_T1_sr_NDVI.tif','LE07_L1TP_204033_20171029_20171124_01_T1_sr_NDVI.tif','LE07_L1TP_204033_20171114_20171210_01_T1_sr_NDVI.tif','LE07_L1TP_204033_20171130_20171226_01_T1_sr_NDVI.tif','LE07_L1TP_204033_20171216_20180111_01_T1_sr_NDVI.tif')\n",
    "\n",
    "# 2014\n",
    "#input_identifiers = ('LE07_L1TP_204033_20140311_20161117_01_T1_sr_NDVI.tif','LE07_L1TP_204033_20140428_20161116_01_T1_sr_NDVI.tif','LE07_L1TP_204033_20140514_20161115_01_T1_sr_NDVI.tif','LE07_L1TP_204033_20140530_20161115_01_T1_sr_NDVI.tif','LE07_L1TP_204033_20140615_20161113_01_T1_sr_NDVI.tif','LE07_L1TP_204033_20140701_20161112_01_T1_sr_NDVI.tif','LE07_L1TP_204033_20140717_20161112_01_T1_sr_NDVI.tif','LE07_L1TP_204033_20140818_20161111_01_T1_sr_NDVI.tif','LE07_L1TP_204033_20141208_20161030_01_T1_sr_NDVI.tif','LE07_L1TP_204033_20141224_20161030_01_T1_sr_NDVI.tif')\n",
    "\n",
    "# 2015\n",
    "#input_identifiers = ('LE07_L1TP_204033_20150109_20161030_01_T1_sr_NDVI.tif','LE07_L1TP_204033_20150125_20161029_01_T1_sr_NDVI.tif','LE07_L1TP_204033_20150314_20161028_01_T1_sr_NDVI.tif','LE07_L1TP_204033_20150330_20161028_01_T1_sr_NDVI.tif','LE07_L1TP_204033_20150517_20161026_01_T1_sr_NDVI.tif','LE07_L1TP_204033_20150602_20161025_01_T1_sr_NDVI.tif','LE07_L1TP_204033_20150618_20161025_01_T1_sr_NDVI.tif','LE07_L1TP_204033_20150704_20161024_01_T1_sr_NDVI.tif','LE07_L1TP_204033_20150720_20161027_01_T1_sr_NDVI.tif','LE07_L1TP_204033_20150805_20161023_01_T1_sr_NDVI.tif','LE07_L1TP_204033_20150821_20161022_01_T1_sr_NDVI.tif','LE07_L1TP_204033_20150922_20161019_01_T1_sr_NDVI.tif','LE07_L1TP_204033_20151008_20161018_01_T1_sr_NDVI.tif','LE07_L1TP_204033_20151109_20161017_01_T1_sr_NDVI.tif','LE07_L1TP_204033_20151227_20161016_01_T1_sr_NDVI.tif')\n",
    "\n",
    "# 2016\n",
    "#input_identifiers = ('LE07_L1TP_204033_20160112_20161015_01_T1_sr_NDVI.tif','LE07_L1TP_204033_20160229_20161014_01_T1_sr_NDVI.tif','LE07_L1TP_204033_20160401_20161013_01_T1_sr_NDVI.tif','LE07_L1TP_204033_20160503_20161011_01_T1_sr_NDVI.tif','LE07_L1TP_204033_20160519_20161010_01_T1_sr_NDVI.tif','LE07_L1TP_204033_20160620_20161209_01_T1_sr_NDVI.tif','LE07_L1TP_204033_20160706_20161009_01_T1_sr_NDVI.tif','LE07_L1TP_204033_20160722_20161010_01_T1_sr_NDVI.tif','LE07_L1TP_204033_20160807_20161008_01_T1_sr_NDVI.tif','LE07_L1TP_204033_20160823_20161007_01_T1_sr_NDVI.tif','LE07_L1TP_204033_20160908_20161006_01_T1_sr_NDVI.tif','LE07_L1TP_204033_20160924_20161023_01_T1_sr_NDVI.tif','LE07_L1TP_204033_20161026_20161121_01_T1_sr_NDVI.tif','LE07_L1TP_204033_20161127_20170118_01_T1_sr_NDVI.tif','LE07_L1TP_204033_20161229_20170219_01_T1_sr_NDVI.tif')\n",
    "\n",
    "# 2017\n",
    "#input_identifiers = ('LE07_L1TP_204033_20170114_20170209_01_T1_sr_NDVI.tif','LE07_L1TP_204033_20170319_20170414_01_T1_sr_NDVI.tif','LE07_L1TP_204033_20170404_20170430_01_T1_sr_NDVI.tif','LE07_L1TP_204033_20170420_20170516_01_T1_sr_NDVI.tif','LE07_L1TP_204033_20170506_20170601_01_T1_sr_NDVI.tif','LE07_L1TP_204033_20170522_20170617_01_T1_sr_NDVI.tif','LE07_L1TP_204033_20170607_20170703_01_T1_sr_NDVI.tif','LE07_L1TP_204033_20170623_20170719_01_T1_sr_NDVI.tif','LE07_L1TP_204033_20170709_20170804_01_T1_sr_NDVI.tif','LE07_L1TP_204033_20170725_20170820_01_T1_sr_NDVI.tif','LE07_L1TP_204033_20170810_20170905_01_T1_sr_NDVI.tif','LE07_L1TP_204033_20170826_20170921_01_T1_sr_NDVI.tif','LE07_L1TP_204033_20170911_20171007_01_T1_sr_NDVI.tif','LE07_L1TP_204033_20170927_20171023_01_T1_sr_NDVI.tif','LE07_L1TP_204033_20171013_20171110_01_T1_sr_NDVI.tif','LE07_L1TP_204033_20171029_20171124_01_T1_sr_NDVI.tif','LE07_L1TP_204033_20171114_20171210_01_T1_sr_NDVI.tif','LE07_L1TP_204033_20171130_20171226_01_T1_sr_NDVI.tif','LE07_L1TP_204033_20171216_20180111_01_T1_sr_NDVI.tif')\n",
    "\n",
    "\n",
    "#input_identifiers = ('LE07_L1TP_204033_20140311_20161117_01_T1_sr_P001_NDVI.tif','LE07_L1TP_204033_20140428_20161116_01_T1_sr_P001_NDVI.tif','LE07_L1TP_204033_20140514_20161115_01_T1_sr_P001_NDVI.tif','LE07_L1TP_204033_20140530_20161115_01_T1_sr_P001_NDVI.tif','LE07_L1TP_204033_20140615_20161113_01_T1_sr_P001_NDVI.tif','LE07_L1TP_204033_20140701_20161112_01_T1_sr_P001_NDVI.tif','LE07_L1TP_204033_20140717_20161112_01_T1_sr_P001_NDVI.tif','LE07_L1TP_204033_20140818_20161111_01_T1_sr_P001_NDVI.tif','LE07_L1TP_204033_20141208_20161030_01_T1_sr_P001_NDVI.tif','LE07_L1TP_204033_20141224_20161030_01_T1_sr_P001_NDVI.tif','LE07_L1TP_204033_20150109_20161030_01_T1_sr_P001_NDVI.tif','LE07_L1TP_204033_20150125_20161029_01_T1_sr_P001_NDVI.tif','LE07_L1TP_204033_20150314_20161028_01_T1_sr_P001_NDVI.tif','LE07_L1TP_204033_20150330_20161028_01_T1_sr_P001_NDVI.tif','LE07_L1TP_204033_20150517_20161026_01_T1_sr_P001_NDVI.tif','LE07_L1TP_204033_20150602_20161025_01_T1_sr_P001_NDVI.tif','LE07_L1TP_204033_20150618_20161025_01_T1_sr_P001_NDVI.tif','LE07_L1TP_204033_20150704_20161024_01_T1_sr_P001_NDVI.tif','LE07_L1TP_204033_20150720_20161027_01_T1_sr_P001_NDVI.tif','LE07_L1TP_204033_20150805_20161023_01_T1_sr_P001_NDVI.tif','LE07_L1TP_204033_20150821_20161022_01_T1_sr_P001_NDVI.tif','LE07_L1TP_204033_20150922_20161019_01_T1_sr_P001_NDVI.tif','LE07_L1TP_204033_20151008_20161018_01_T1_sr_P001_NDVI.tif','LE07_L1TP_204033_20151109_20161017_01_T1_sr_P001_NDVI.tif','LE07_L1TP_204033_20151227_20161016_01_T1_sr_P001_NDVI.tif','LE07_L1TP_204033_20160112_20161015_01_T1_sr_P001_NDVI.tif','LE07_L1TP_204033_20160229_20161014_01_T1_sr_P001_NDVI.tif','LE07_L1TP_204033_20160401_20161013_01_T1_sr_P001_NDVI.tif','LE07_L1TP_204033_20160503_20161011_01_T1_sr_P001_NDVI.tif','LE07_L1TP_204033_20160519_20161010_01_T1_sr_P001_NDVI.tif','LE07_L1TP_204033_20160620_20161209_01_T1_sr_P001_NDVI.tif','LE07_L1TP_204033_20160706_20161009_01_T1_sr_P001_NDVI.tif','LE07_L1TP_204033_20160722_20161010_01_T1_sr_P001_NDVI.tif','LE07_L1TP_204033_20160807_20161008_01_T1_sr_P001_NDVI.tif','LE07_L1TP_204033_20160823_20161007_01_T1_sr_P001_NDVI.tif','LE07_L1TP_204033_20160908_20161006_01_T1_sr_P001_NDVI.tif','LE07_L1TP_204033_20160924_20161023_01_T1_sr_P001_NDVI.tif','LE07_L1TP_204033_20161026_20161121_01_T1_sr_P001_NDVI.tif','LE07_L1TP_204033_20161127_20170118_01_T1_sr_P001_NDVI.tif','LE07_L1TP_204033_20161229_20170219_01_T1_sr_P001_NDVI.tif','LE07_L1TP_204033_20170114_20170209_01_T1_sr_P001_NDVI.tif','LE07_L1TP_204033_20170319_20170414_01_T1_sr_P001_NDVI.tif','LE07_L1TP_204033_20170404_20170430_01_T1_sr_P001_NDVI.tif','LE07_L1TP_204033_20170420_20170516_01_T1_sr_P001_NDVI.tif','LE07_L1TP_204033_20170506_20170601_01_T1_sr_P001_NDVI.tif','LE07_L1TP_204033_20170522_20170617_01_T1_sr_P001_NDVI.tif','LE07_L1TP_204033_20170607_20170703_01_T1_sr_P001_NDVI.tif','LE07_L1TP_204033_20170623_20170719_01_T1_sr_P001_NDVI.tif','LE07_L1TP_204033_20170709_20170804_01_T1_sr_P001_NDVI.tif','LE07_L1TP_204033_20170725_20170820_01_T1_sr_P001_NDVI.tif','LE07_L1TP_204033_20170810_20170905_01_T1_sr_P001_NDVI.tif','LE07_L1TP_204033_20170826_20170921_01_T1_sr_P001_NDVI.tif','LE07_L1TP_204033_20170911_20171007_01_T1_sr_P001_NDVI.tif','LE07_L1TP_204033_20170927_20171023_01_T1_sr_P001_NDVI.tif','LE07_L1TP_204033_20171013_20171110_01_T1_sr_P001_NDVI.tif','LE07_L1TP_204033_20171029_20171124_01_T1_sr_P001_NDVI.tif','LE07_L1TP_204033_20171114_20171210_01_T1_sr_P001_NDVI.tif','LE07_L1TP_204033_20171130_20171226_01_T1_sr_P001_NDVI.tif','LE07_L1TP_204033_20171216_20180111_01_T1_sr_P001_NDVI.tif')\n",
    "\n",
    "\n",
    "\n",
    "\n",
    "# 2014\n",
    "#input_identifiers = ('LE07_L1TP_204033_20140311_20161117_01_T1_sr_P001_NDVI.tif','LE07_L1TP_204033_20140428_20161116_01_T1_sr_P001_NDVI.tif','LE07_L1TP_204033_20140514_20161115_01_T1_sr_P001_NDVI.tif','LE07_L1TP_204033_20140530_20161115_01_T1_sr_P001_NDVI.tif','LE07_L1TP_204033_20140615_20161113_01_T1_sr_P001_NDVI.tif','LE07_L1TP_204033_20140701_20161112_01_T1_sr_P001_NDVI.tif','LE07_L1TP_204033_20140717_20161112_01_T1_sr_P001_NDVI.tif','LE07_L1TP_204033_20140818_20161111_01_T1_sr_P001_NDVI.tif','LE07_L1TP_204033_20141208_20161030_01_T1_sr_P001_NDVI.tif','LE07_L1TP_204033_20141224_20161030_01_T1_sr_P001_NDVI.tif')\n",
    "\n",
    "# 2015\n",
    "#input_identifiers = ('LE07_L1TP_204033_20150109_20161030_01_T1_sr_P001_NDVI.tif','LE07_L1TP_204033_20150125_20161029_01_T1_sr_P001_NDVI.tif','LE07_L1TP_204033_20150314_20161028_01_T1_sr_P001_NDVI.tif','LE07_L1TP_204033_20150330_20161028_01_T1_sr_P001_NDVI.tif','LE07_L1TP_204033_20150517_20161026_01_T1_sr_P001_NDVI.tif','LE07_L1TP_204033_20150602_20161025_01_T1_sr_P001_NDVI.tif','LE07_L1TP_204033_20150618_20161025_01_T1_sr_P001_NDVI.tif','LE07_L1TP_204033_20150704_20161024_01_T1_sr_P001_NDVI.tif','LE07_L1TP_204033_20150720_20161027_01_T1_sr_P001_NDVI.tif','LE07_L1TP_204033_20150805_20161023_01_T1_sr_P001_NDVI.tif','LE07_L1TP_204033_20150821_20161022_01_T1_sr_P001_NDVI.tif','LE07_L1TP_204033_20150922_20161019_01_T1_sr_P001_NDVI.tif','LE07_L1TP_204033_20151008_20161018_01_T1_sr_P001_NDVI.tif','LE07_L1TP_204033_20151109_20161017_01_T1_sr_P001_NDVI.tif','LE07_L1TP_204033_20151227_20161016_01_T1_sr_P001_NDVI.tif')\n",
    "\n",
    "# 2016\n",
    "#input_identifiers = ('LE07_L1TP_204033_20160112_20161015_01_T1_sr_P001_NDVI.tif','LE07_L1TP_204033_20160229_20161014_01_T1_sr_P001_NDVI.tif','LE07_L1TP_204033_20160401_20161013_01_T1_sr_P001_NDVI.tif','LE07_L1TP_204033_20160503_20161011_01_T1_sr_P001_NDVI.tif','LE07_L1TP_204033_20160519_20161010_01_T1_sr_P001_NDVI.tif','LE07_L1TP_204033_20160620_20161209_01_T1_sr_P001_NDVI.tif','LE07_L1TP_204033_20160706_20161009_01_T1_sr_P001_NDVI.tif','LE07_L1TP_204033_20160722_20161010_01_T1_sr_P001_NDVI.tif','LE07_L1TP_204033_20160807_20161008_01_T1_sr_P001_NDVI.tif','LE07_L1TP_204033_20160823_20161007_01_T1_sr_P001_NDVI.tif','LE07_L1TP_204033_20160908_20161006_01_T1_sr_P001_NDVI.tif','LE07_L1TP_204033_20160924_20161023_01_T1_sr_P001_NDVI.tif','LE07_L1TP_204033_20161026_20161121_01_T1_sr_P001_NDVI.tif','LE07_L1TP_204033_20161127_20170118_01_T1_sr_P001_NDVI.tif','LE07_L1TP_204033_20161229_20170219_01_T1_sr_P001_NDVI.tif')\n",
    "\n",
    "# 2017\n",
    "input_identifiers = ('LE07_L1TP_204033_20170114_20170209_01_T1_sr_P001_NDVI.tif','LE07_L1TP_204033_20170319_20170414_01_T1_sr_P001_NDVI.tif','LE07_L1TP_204033_20170404_20170430_01_T1_sr_P001_NDVI.tif','LE07_L1TP_204033_20170420_20170516_01_T1_sr_P001_NDVI.tif','LE07_L1TP_204033_20170506_20170601_01_T1_sr_P001_NDVI.tif','LE07_L1TP_204033_20170522_20170617_01_T1_sr_P001_NDVI.tif','LE07_L1TP_204033_20170607_20170703_01_T1_sr_P001_NDVI.tif','LE07_L1TP_204033_20170623_20170719_01_T1_sr_P001_NDVI.tif','LE07_L1TP_204033_20170709_20170804_01_T1_sr_P001_NDVI.tif','LE07_L1TP_204033_20170725_20170820_01_T1_sr_P001_NDVI.tif','LE07_L1TP_204033_20170810_20170905_01_T1_sr_P001_NDVI.tif','LE07_L1TP_204033_20170826_20170921_01_T1_sr_P001_NDVI.tif','LE07_L1TP_204033_20170911_20171007_01_T1_sr_P001_NDVI.tif','LE07_L1TP_204033_20170927_20171023_01_T1_sr_P001_NDVI.tif','LE07_L1TP_204033_20171013_20171110_01_T1_sr_P001_NDVI.tif','LE07_L1TP_204033_20171029_20171124_01_T1_sr_P001_NDVI.tif','LE07_L1TP_204033_20171114_20171210_01_T1_sr_P001_NDVI.tif','LE07_L1TP_204033_20171130_20171226_01_T1_sr_P001_NDVI.tif','LE07_L1TP_204033_20171216_20180111_01_T1_sr_P001_NDVI.tif')\n"
   ]
  },
  {
   "cell_type": "markdown",
   "metadata": {},
   "source": [
    "**Input references**\n",
    "\n",
    "This is the NDVI stack catalogue references"
   ]
  },
  {
   "cell_type": "code",
   "execution_count": 218,
   "metadata": {
    "collapsed": false,
    "slideshow": {
     "slide_type": "subslide"
    }
   },
   "outputs": [],
   "source": [
    "input_references = tuple(['https://catalog.terradue.com/modis/search?uid={0}'.format(pid) for pid in input_identifiers])"
   ]
  },
  {
   "cell_type": "markdown",
   "metadata": {
    "slideshow": {
     "slide_type": "slide"
    }
   },
   "source": [
    "**Data path**\n",
    "\n",
    "This path defines where the data is staged-in. "
   ]
  },
  {
   "cell_type": "code",
   "execution_count": 219,
   "metadata": {
    "collapsed": true
   },
   "outputs": [],
   "source": [
    "data_path = \"/workspace/dev/ewf-ext-02-03-01/src/main/app-resources/notebook/libexec\"\n",
    "data_path = \"/workspace/dev/ewf-ext-02-03-01/src/main/app-resources/notebook/libexec/parcel\""
   ]
  },
  {
   "cell_type": "markdown",
   "metadata": {},
   "source": [
    "**Aux folders**"
   ]
  },
  {
   "cell_type": "code",
   "execution_count": 220,
   "metadata": {},
   "outputs": [],
   "source": [
    "output_folder = ''"
   ]
  },
  {
   "cell_type": "code",
   "execution_count": 221,
   "metadata": {},
   "outputs": [],
   "source": [
    "temp_folder = 'temp'"
   ]
  },
  {
   "cell_type": "markdown",
   "metadata": {},
   "source": [
    "#### Import Modules"
   ]
  },
  {
   "cell_type": "code",
   "execution_count": 222,
   "metadata": {},
   "outputs": [],
   "source": [
    "import os\n",
    "import shutil\n",
    "\n",
    "import sys\n",
    "import string\n",
    "import numpy as np\n",
    "import numpy.ma as ma\n",
    "from osgeo import gdal, ogr, osr\n",
    "from shapely.wkt import loads\n",
    "\n",
    "import matplotlib\n",
    "import matplotlib.pyplot as plt\n",
    "\n",
    "import datetime\n",
    "\n",
    "import pdb\n",
    "\n",
    "\n",
    "sys.path.append(os.getcwd())\n",
    "from s2_whittaker_helpers import *\n",
    "from whittaker import ws2d, ws2doptv, ws2doptvp\n",
    "import array\n",
    "\n",
    "import pandas"
   ]
  },
  {
   "cell_type": "markdown",
   "metadata": {},
   "source": [
    "#### Auxiliary vars"
   ]
  },
  {
   "cell_type": "code",
   "execution_count": 223,
   "metadata": {},
   "outputs": [],
   "source": [
    "check_results = True"
   ]
  },
  {
   "cell_type": "markdown",
   "metadata": {},
   "source": [
    "#### Auxiliary methods"
   ]
  },
  {
   "cell_type": "code",
   "execution_count": 235,
   "metadata": {},
   "outputs": [],
   "source": [
    "# remove contents of a given folder\n",
    "# used to clean a temporary folder\n",
    "def rm_cfolder(folder):\n",
    "    #folder = '/path/to/folder'\n",
    "    for the_file in os.listdir(folder):\n",
    "        file_path = os.path.join(folder, the_file)\n",
    "        try:\n",
    "            if os.path.isfile(file_path):\n",
    "                os.unlink(file_path)\n",
    "            elif os.path.isdir(file_path): shutil.rmtree(file_path)\n",
    "        except Exception as e:\n",
    "            print(e)\n",
    "            \n",
    "def get_matrix_list(image_list, mask_value = None):\n",
    "    mat_list = []\n",
    "    for img in image_list:\n",
    "        dataset = gdal.Open(img)\n",
    "        product_array = dataset.GetRasterBand(1).ReadAsArray()\n",
    "        \n",
    "        if mask_value is not None:\n",
    "             product_array = ma.masked_values (product_array, mask_value)\n",
    "        \n",
    "        mat_list.append(product_array)\n",
    "        dataset = None\n",
    "    return mat_list\n",
    "\n",
    "\n",
    "\n",
    "def get_metadata(filepath):\n",
    "    ds = gdal.Open(filepath)\n",
    "    projection = ds.GetProjection()\n",
    "    geotransform = ds.GetGeoTransform()\n",
    "    no_data_value = ds.GetRasterBand(1).GetNoDataValue()\n",
    "    data_type = ds.GetRasterBand(1).DataType\n",
    "    return projection, geotransform, no_data_value, data_type\n",
    "\n",
    "def write_output_image(filepath, output_matrix, image_format, data_format, mask=None, output_projection=None, output_geotransform=None, no_data_value=None):\n",
    "    \n",
    "    driver = gdal.GetDriverByName(image_format)\n",
    "    out_rows = np.size(output_matrix, 0)\n",
    "    out_columns = np.size(output_matrix, 1)\n",
    "    \n",
    "    \n",
    "    if mask is not None and mask is not 0:\n",
    "        # TODO: check if output folder exists\n",
    "        output = driver.Create(filepath, out_columns, out_rows, 2, data_format)\n",
    "        mask_band = output.GetRasterBand(2)\n",
    "        mask_band.WriteArray(mask)\n",
    "        if no_data_value is not None:\n",
    "            output_matrix[mask > 0] = no_data_value\n",
    "    else:\n",
    "        output = driver.Create(filepath, out_columns, out_rows, 1, data_format)\n",
    "    \n",
    "    if output_projection is not None:\n",
    "        output.SetProjection(output_projection)\n",
    "    if output_geotransform is not None:\n",
    "        output.SetGeoTransform(output_geotransform)\n",
    "    \n",
    "    raster_band = output.GetRasterBand(1)\n",
    "    if no_data_value is not None:\n",
    "        raster_band.SetNoDataValue(no_data_value)\n",
    "    raster_band.WriteArray(output_matrix)\n",
    "    \n",
    "    gdal.Warp(filepath, output, format=\"GTiff\", outputBoundsSRS='EPSG:4326', xRes=output_geotransform[1], yRes=-output_geotransform[5], targetAlignedPixels=True)\n",
    "\n",
    "\n",
    "\n",
    "        \n",
    "        \n",
    "        \n",
    "def get_formatted_date(datetime_str):\n",
    "    date = datetime.datetime.strftime(datetime_str, '%Y-%m-%dT%H:%M:%SZ')\n",
    "    return date\n",
    "\n",
    "\n",
    "def write_properties_file(output_name, first_date, last_date, region_of_interest):\n",
    "    \n",
    "    title = 'Output %s' % output_name\n",
    "    \n",
    "    \n",
    "    first_date_str = datetime.datetime(year=first_date.year, month=first_date.month, day=first_date.day)\n",
    "    first_date_str = first_date_str + datetime.timedelta(days=0, hours=0, minutes=0, seconds=0)\n",
    "    first_date_str = get_formatted_date(first_date_str)\n",
    "    \n",
    "    last_date_str = datetime.datetime(year=last_date.year, month=last_date.month, day=last_date.day)\n",
    "    last_date_str = last_date_str + datetime.timedelta(days=0, hours=0, minutes=0, seconds=0)\n",
    "    last_date_str = get_formatted_date(last_date_str)\n",
    "    \n",
    "    if (first_date_str == last_date_str):\n",
    "        last_date_str = datetime.datetime(year=last_date.year, month=last_date.month, day=last_date.day)\n",
    "        last_date_str = last_date_str + datetime.timedelta(days=0, hours=23, minutes=59, seconds=59)\n",
    "        last_date_str = get_formatted_date(last_date_str)\n",
    "    \n",
    "    \n",
    "    with open(output_name + '.properties', 'wb') as file:\n",
    "        file.write('title=%s\\n' % title)\n",
    "        file.write('date=%s/%s\\n' % (first_date, last_date))\n",
    "        file.write('geometry=%s' % (region_of_interest))\n",
    "        \n",
    "        \n",
    "        \n",
    "def ndvi_filter (ts_ndvi_dates, ts_ndvi):\n",
    "    \n",
    "    \n",
    "    dates_a = np.array(ts_ndvi_dates)\n",
    "    ndvi_values_a = np.array(ts_ndvi, dtype='double')\n",
    "    \n",
    "    # remove no values\n",
    "    dates_a = dates_a[ndvi_values_a > -9998]\n",
    "    ndvi_values_a = ndvi_values_a[ndvi_values_a > -9998]\n",
    "    \n",
    "    \n",
    "    dates_jul = [d.strftime('%Y%j') for d in dates_a]\n",
    "\n",
    "    dates_jul2 = [str(a) for a in range(int(str(ts_ndvi_dates[0].year) + '001'), int(str(ts_ndvi_dates[0].year) + '001')+365)]\n",
    "\n",
    "    indate = dates_jul2[4]\n",
    "\n",
    "    ##### create weights\n",
    "    w = np.array((ndvi_values_a!=-9999)*1,dtype='double')\n",
    "\n",
    "    lrange = np.linspace(-1,1,11)\n",
    "\n",
    "    # apply whittaker filter with V-curve\n",
    "    z, lopt = ws2doptv(ndvi_values_a,w,array.array('d',lrange)) # In the original script the function is ws2d_vc, which is defined in modis.py.\n",
    "\n",
    "\n",
    "    ### Temporal interpolation\n",
    "\n",
    "    # little helper objects for managing dates (rtres = raw tem. resolution, stres = desired output temporal resolution)\n",
    "    #dhelper = DateHelper(rawdates=dates, rtres=8, stres=10)\n",
    "\n",
    "    dhelper = DateHelper(rawdates=dates_jul2, rtres=1, stres=15, start=indate)\n",
    "    # daily vector\n",
    "    dvec = dhelper.getDV(nd=-9999)\n",
    "\n",
    "    # target date index \n",
    "    dix = dhelper.getDIX()\n",
    "\n",
    "\n",
    "    # shift observations to midpoint of acquisition (these positions are set to 0 instead of nodata)\n",
    "    for d in dates_jul:\n",
    "        dvec[dhelper.daily.index((fromjulian(d) + datetime.timedelta(1)).strftime('%Y%j'))] = 0\n",
    "\n",
    "    dvec[ dvec != -9999 ] = z\n",
    "\n",
    "    w = np.array((dvec != -9999) * 1,dtype='double')\n",
    "\n",
    "    dvec =  ws2d(dvec,0.0001,w)\n",
    "\n",
    "    z_int = np.array(dvec)[dix]\n",
    "\n",
    "    # plot\n",
    "\n",
    "    xax1 = [fromjulian(x) for x in dates_jul]\n",
    "    xax2 = [fromjulian(x) for x in dhelper.target]\n",
    "\n",
    "    #plt.close()\n",
    "    #plt.figure(figsize=(15,8))\n",
    "    ##plt.ylim(0,1)\n",
    "    #plt.plot(xax1, ndvi_values_a, label='y')\n",
    "    #plt.plot(xax1, z, 'rs', label='z', alpha=0.7)\n",
    "    #plt.plot(xax2, z_int, 'go--', label='z_int', alpha=0.5)\n",
    "\n",
    "\n",
    "   \n",
    "    #plt.xlim((datetime.datetime(dates[0].year, 1, 1, 0, 0), datetime.datetime(dates[0].year, 12, 31, 0, 0)))\n",
    "    #plt.ylim((-1, 1))\n",
    "\n",
    "    #plt.legend()\n",
    "\n",
    "    #plt.savefig('ndvi_' + str(dates[0].year) + '.png', dpi=300)\n",
    "\n",
    "    #plt.show()\n",
    "    \n",
    "    return xax2, z_int\n",
    "\n",
    "\n",
    "\n",
    "def get_formatted_date(datetime_str):\n",
    "    date = datetime.datetime.strftime(datetime_str, '%Y-%m-%dT%H:%M:%SZ')\n",
    " \n",
    "    return date\n",
    "\n",
    "\n",
    "def write_properties_file(output_name, first_date, last_date, region_of_interest):\n",
    "    \n",
    "    title = 'Output %s' % output_name\n",
    "    \n",
    "    \n",
    "    first_date_str = datetime.datetime(year=first_date.year, month=first_date.month, day=first_date.day)\n",
    "    first_date_str = first_date_str + datetime.timedelta(days=0, hours=0, minutes=0, seconds=0)\n",
    "    first_date_str = get_formatted_date(first_date_str)\n",
    "    \n",
    "    last_date_str = datetime.datetime(year=last_date.year, month=last_date.month, day=last_date.day)\n",
    "    last_date_str = last_date_str + datetime.timedelta(days=0, hours=0, minutes=0, seconds=0)\n",
    "    last_date_str = get_formatted_date(last_date_str)\n",
    "    \n",
    "    if (first_date_str == last_date_str):\n",
    "        last_date_str = datetime.datetime(year=last_date.year, month=last_date.month, day=last_date.day)\n",
    "        last_date_str = last_date_str + datetime.timedelta(days=0, hours=23, minutes=59, seconds=59)\n",
    "        last_date_str = get_formatted_date(last_date_str)\n",
    "\n",
    "    \n",
    "    with open(output_name + '.properties', 'wb') as file:\n",
    "        file.write('title=%s\\n' % title)\n",
    "        file.write('date=%s/%s\\n' % (first_date_str, last_date_str))\n",
    "        file.write('geometry=%s' % (region_of_interest))"
   ]
  },
  {
   "cell_type": "markdown",
   "metadata": {},
   "source": [
    "#### Auxiliary folders"
   ]
  },
  {
   "cell_type": "code",
   "execution_count": 236,
   "metadata": {},
   "outputs": [],
   "source": [
    "#Create folders\n",
    "#if not os.path.isdir(data_path):\n",
    "#    os.mkdir(data_path)\n",
    "\n",
    "if len(output_folder) > 0:\n",
    "    if not os.path.isdir(output_folder):\n",
    "        os.mkdir(output_folder)\n",
    "\n",
    "if not os.path.isdir(temp_folder):\n",
    "    os.mkdir(temp_folder)"
   ]
  },
  {
   "cell_type": "markdown",
   "metadata": {},
   "source": [
    "### Workflow"
   ]
  },
  {
   "cell_type": "markdown",
   "metadata": {},
   "source": [
    "#### Load NDVI images"
   ]
  },
  {
   "cell_type": "code",
   "execution_count": 237,
   "metadata": {},
   "outputs": [],
   "source": [
    "file_list = [os.path.join(data_path, file_name.split('/')[-1]) for file_name in input_identifiers]\n",
    "\n",
    "img_mat_list = get_matrix_list(file_list, -9999.0)"
   ]
  },
  {
   "cell_type": "markdown",
   "metadata": {},
   "source": [
    "#### Get image NDVI dates"
   ]
  },
  {
   "cell_type": "code",
   "execution_count": 238,
   "metadata": {},
   "outputs": [
    {
     "name": "stdout",
     "output_type": "stream",
     "text": [
      "[datetime.datetime(2017, 1, 14, 0, 0), datetime.datetime(2017, 3, 19, 0, 0), datetime.datetime(2017, 4, 4, 0, 0), datetime.datetime(2017, 4, 20, 0, 0), datetime.datetime(2017, 5, 6, 0, 0), datetime.datetime(2017, 5, 22, 0, 0), datetime.datetime(2017, 6, 7, 0, 0), datetime.datetime(2017, 6, 23, 0, 0), datetime.datetime(2017, 7, 9, 0, 0), datetime.datetime(2017, 7, 25, 0, 0), datetime.datetime(2017, 8, 10, 0, 0), datetime.datetime(2017, 8, 26, 0, 0), datetime.datetime(2017, 9, 11, 0, 0), datetime.datetime(2017, 9, 27, 0, 0), datetime.datetime(2017, 10, 13, 0, 0), datetime.datetime(2017, 10, 29, 0, 0), datetime.datetime(2017, 11, 14, 0, 0), datetime.datetime(2017, 11, 30, 0, 0), datetime.datetime(2017, 12, 16, 0, 0)]\n"
     ]
    }
   ],
   "source": [
    "#dt = datetime.strptime(ind[17:25], \"%Y%m%y\")\n",
    "\n",
    "dates_str = [ind[17:25] for ind in input_identifiers]\n",
    "\n",
    "dates = [datetime.datetime.strptime(ind[17:25], \"%Y%m%d\") for ind in input_identifiers]\n",
    "\n",
    "print(dates)"
   ]
  },
  {
   "cell_type": "markdown",
   "metadata": {},
   "source": [
    "#### Check a NDVI image and a pixel"
   ]
  },
  {
   "cell_type": "code",
   "execution_count": 239,
   "metadata": {},
   "outputs": [],
   "source": [
    "if check_results:\n",
    "    # image index\n",
    "    img_idx = -1\n",
    "    \n",
    "    # point of interest\n",
    "    point = [10, 10]\n",
    "    point = [0,8]\n",
    "    #point = [17, 13]"
   ]
  },
  {
   "cell_type": "code",
   "execution_count": 240,
   "metadata": {},
   "outputs": [
    {
     "data": {
      "image/png": "[encoded data removed]",
      "text/plain": [
       "<Figure size 432x288 with 2 Axes>"
      ]
     },
     "metadata": {
      "needs_background": "light"
     },
     "output_type": "display_data"
    }
   ],
   "source": [
    "# Image\n",
    "if check_results:\n",
    "\n",
    "    fig = plt.figure()\n",
    "    \n",
    "    plt.imshow(img_mat_list[img_idx], cmap='jet', vmin=-1, vmax=1)\n",
    "    \n",
    "    plt.title(dates[img_idx].strftime(\"%d/%m/%Y\"))\n",
    "    \n",
    "    plt.colorbar()\n",
    "    plt.scatter(point[1], point[0], s=100, c='black', marker='*')\n",
    "    \n",
    "    #plt.savefig('ndvi_plot.png', dpi=300)\n",
    "    \n",
    "    plt.show()"
   ]
  },
  {
   "cell_type": "code",
   "execution_count": 241,
   "metadata": {},
   "outputs": [
    {
     "data": {
      "image/png": "[encoded data removed]",
      "text/plain": [
       "<Figure size 432x288 with 1 Axes>"
      ]
     },
     "metadata": {
      "needs_background": "light"
     },
     "output_type": "display_data"
    }
   ],
   "source": [
    "# Pixel time series\n",
    "if check_results:\n",
    "    \n",
    "    ndvi_values = [ndvi_img[point[0], point[1]] for ndvi_img in img_mat_list]\n",
    "    \n",
    "    fig = plt.figure()\n",
    "    \n",
    "    plt.plot(dates, ndvi_values, '-')\n",
    "    plt.plot(dates, ndvi_values, 'o')\n",
    "    \n",
    "    #plt.vlines([datetime.datetime(2014, 1, 1, 0, 0), datetime.datetime(2015, 1, 1, 0, 0), datetime.datetime(2016, 1, 1, 0, 0), datetime.datetime(2017, 1, 1, 0, 0), datetime.datetime(2018, 1, 1, 0, 0)], -1, 1, colors='b', linestyle='--')\n",
    "    \n",
    "    #plt.vlines([datetime.datetime(2014, 4, 1, 0, 0), datetime.datetime(2015, 4, 1, 0, 0), datetime.datetime(2016, 4, 1, 0, 0), datetime.datetime(2017, 4, 1, 0, 0)], -1, 1, colors='g', linestyle='--')\n",
    "    #plt.vlines([datetime.datetime(2014, 9, 1, 0, 0), datetime.datetime(2015, 9, 1, 0, 0), datetime.datetime(2016, 9, 1, 0, 0), datetime.datetime(2017, 9, 1, 0, 0)], -1, 1, colors='r', linestyle='--')\n",
    "    \n",
    "    plt.ylim((-1, 1))\n",
    "    #plt.set_xlim([0, 5])\n",
    "\n",
    "    plt.xticks(rotation=45)\n",
    "    plt.xlabel('date')\n",
    "    plt.ylabel('ndvi')\n",
    "    #plt.rcParams[\"figure.figsize\"] = (12, 6) # (w, h)\n",
    "\n",
    "    #plt.savefig('ndvi_tm.png', dpi=300)\n",
    "    plt.show()\n",
    "\n"
   ]
  },
  {
   "cell_type": "markdown",
   "metadata": {},
   "source": [
    "#### Smooth and gap fill"
   ]
  },
  {
   "cell_type": "code",
   "execution_count": 242,
   "metadata": {},
   "outputs": [
    {
     "name": "stderr",
     "output_type": "stream",
     "text": [
      "/home/vacc/.conda/envs/vacc-env2/lib/python2.7/site-packages/ipykernel_launcher.py:106: UserWarning: Warning: converting a masked element to nan.\n",
      "/home/vacc/.conda/envs/vacc-env2/lib/python2.7/site-packages/ipykernel_launcher.py:109: RuntimeWarning: invalid value encountered in greater\n",
      "/home/vacc/.conda/envs/vacc-env2/lib/python2.7/site-packages/ipykernel_launcher.py:110: RuntimeWarning: invalid value encountered in greater\n"
     ]
    }
   ],
   "source": [
    "if check_results:\n",
    "    # filter ndvi TM of a pixel\n",
    "    dates_inter, ndvi_inter = ndvi_filter (dates, ndvi_values)\n",
    "\n"
   ]
  },
  {
   "cell_type": "code",
   "execution_count": 243,
   "metadata": {},
   "outputs": [
    {
     "data": {
      "image/png": "[encoded data removed]",
      "text/plain": [
       "<Figure size 1080x576 with 1 Axes>"
      ]
     },
     "metadata": {
      "needs_background": "light"
     },
     "output_type": "display_data"
    },
    {
     "name": "stdout",
     "output_type": "stream",
     "text": [
      "0.6147294\n",
      "-0.81600696\n"
     ]
    }
   ],
   "source": [
    "if check_results:\n",
    "    \n",
    "    plt.figure(figsize=(15,8))\n",
    "    plt.ylim(0,1)\n",
    "    plt.plot(dates, ndvi_values, label='y')\n",
    "    #plt.plot(xax1, z, 'rs', label='z', alpha=0.7)\n",
    "    plt.plot(dates_inter, ndvi_inter, 'go--', label='z_int', alpha=0.5)\n",
    "\n",
    "    plt.xticks(rotation=45)\n",
    "    plt.xlabel('time')\n",
    "    plt.ylabel('ndvi')\n",
    "   \n",
    "    plt.xlim((datetime.datetime(dates[0].year, 1, 1, 0, 0), datetime.datetime(dates[0].year, 12, 31, 0, 0)))\n",
    "    plt.ylim((-1, 1))\n",
    "\n",
    "    plt.legend()\n",
    "\n",
    "    #plt.savefig('ndvi_' + str(dates[0].year) + '.png', dpi=300)\n",
    "\n",
    "    plt.show()\n",
    "    \n",
    "    print(max(ndvi_values))\n",
    "    print(min(ndvi_values))"
   ]
  },
  {
   "cell_type": "code",
   "execution_count": 186,
   "metadata": {},
   "outputs": [],
   "source": [
    "# create an empty list of images to store interpolated ndvi data\n",
    "\n",
    "ndvi_img_inter = []\n",
    "\n",
    "for i in range(25):\n",
    "    ndvi_img_inter.append(np.full_like(img_mat_list[0].data, -9999.0))\n"
   ]
  },
  {
   "cell_type": "code",
   "execution_count": 187,
   "metadata": {},
   "outputs": [
    {
     "name": "stderr",
     "output_type": "stream",
     "text": [
      "/home/vacc/.conda/envs/vacc-env2/lib/python2.7/site-packages/ipykernel_launcher.py:106: UserWarning: Warning: converting a masked element to nan.\n"
     ]
    }
   ],
   "source": [
    "# interpolate ndvi for each pixel\n",
    "dates_inter = []\n",
    "\n",
    "for i in range(img_mat_list[0].shape[0]):\n",
    "    for j in range(img_mat_list[0].shape[1]):\n",
    "        \n",
    "        ndvi_tm = [img[i,j] for img in img_mat_list]\n",
    "        \n",
    "        dates_inter, ndvi_inter = ndvi_filter (dates, ndvi_tm)\n",
    "\n",
    "        ndvi_inter[np.isnan(ndvi_inter)] = -9999.0\n",
    "        \n",
    "        for idx,ndvi_inter in enumerate(ndvi_inter):\n",
    "            ndvi_img_inter[idx][i,j] = ndvi_inter\n",
    "\n",
    "\n",
    "\n",
    "# mask NaN values\n",
    "for idx in range(len(ndvi_img_inter)):\n",
    "    \n",
    "    ndvi_img_inter[idx] = ma.masked_values (ndvi_img_inter[idx], -9999.0)\n",
    "        \n",
    "        #print(ndvi_inter)\n",
    "        \n"
   ]
  },
  {
   "cell_type": "code",
   "execution_count": 188,
   "metadata": {},
   "outputs": [
    {
     "data": {
      "image/png": "[encoded data removed]",
      "text/plain": [
       "<Figure size 432x288 with 2 Axes>"
      ]
     },
     "metadata": {
      "needs_background": "light"
     },
     "output_type": "display_data"
    }
   ],
   "source": [
    "if check_results:\n",
    "    \n",
    "    #point = [10, 10]\n",
    "    #point = [15, 10]\n",
    "\n",
    "\n",
    "    #fig = plt.figure()\n",
    "    #plt.imshow(img_mat_list[0])\n",
    "    #plt.show()\n",
    "    \n",
    "    fig = plt.figure()\n",
    "    \n",
    "    img_idx = 17\n",
    "    \n",
    "    plt.imshow(ndvi_img_inter[img_idx], cmap='jet', vmin=-1, vmax=1)\n",
    "    \n",
    "    plt.title(dates_inter[img_idx].strftime(\"%d/%m/%Y\"))\n",
    "    \n",
    "    plt.colorbar()\n",
    "    plt.scatter(point[1], point[0], s=100, c='black', marker='*')\n",
    "    \n",
    "    #plt.savefig('ndvi_plot.png', dpi=300)\n",
    "    \n",
    "    plt.show()"
   ]
  },
  {
   "cell_type": "code",
   "execution_count": 189,
   "metadata": {},
   "outputs": [
    {
     "data": {
      "image/png": "[encoded data removed]",
      "text/plain": [
       "<Figure size 432x288 with 1 Axes>"
      ]
     },
     "metadata": {
      "needs_background": "light"
     },
     "output_type": "display_data"
    }
   ],
   "source": [
    "# get interpolated values for a given pixel\n",
    "\n",
    "if check_results:\n",
    "    \n",
    "    ndvi_values = [ndvi_img[point[0], point[1]] for ndvi_img in ndvi_img_inter]\n",
    "    \n",
    "    fig = plt.figure()\n",
    "    \n",
    "    plt.plot(dates_inter, ndvi_values, '-')\n",
    "    plt.plot(dates_inter, ndvi_values, 'o')\n",
    "    \n",
    "    \n",
    "    ndvi_values = np.array(ndvi_values)\n",
    "    dates_inter = np.array(dates_inter)\n",
    "\n",
    "    \n",
    "    #plt.vlines([datetime.datetime(2014, 1, 1, 0, 0), datetime.datetime(2015, 1, 1, 0, 0), datetime.datetime(2016, 1, 1, 0, 0), datetime.datetime(2017, 1, 1, 0, 0), datetime.datetime(2018, 1, 1, 0, 0)], -1, 1, colors='b', linestyle='--')\n",
    "    \n",
    "    #plt.vlines([datetime.datetime(2014, 4, 1, 0, 0), datetime.datetime(2015, 4, 1, 0, 0), datetime.datetime(2016, 4, 1, 0, 0), datetime.datetime(2017, 4, 1, 0, 0)], -1, 1, colors='g', linestyle='--')\n",
    "    #plt.vlines([datetime.datetime(2014, 9, 1, 0, 0), datetime.datetime(2015, 9, 1, 0, 0), datetime.datetime(2016, 9, 1, 0, 0), datetime.datetime(2017, 9, 1, 0, 0)], -1, 1, colors='r', linestyle='--')\n",
    "    \n",
    "    plt.ylim((-1, 1))\n",
    "    #plt.set_xlim([0, 5])\n",
    "\n",
    "    plt.xticks(rotation=45)\n",
    "    plt.xlabel('date')\n",
    "    plt.ylabel('ndvi')\n",
    "    #plt.title('Chlorophyll-a concentration (percentile 90)\\nAzores (' + str_area_title + ')')\n",
    "    #plt.rcParams[\"figure.figsize\"] = (12, 6) # (w, h)\n",
    "\n",
    "    #plt.savefig('ndvi_tm.png', dpi=300)\n",
    "    plt.show()\n",
    "    \n",
    "    \n",
    "    \n",
    "    \n",
    "    \n",
    "    "
   ]
  },
  {
   "cell_type": "markdown",
   "metadata": {},
   "source": [
    "#### Find start and end dates of growing season"
   ]
  },
  {
   "cell_type": "code",
   "execution_count": 194,
   "metadata": {},
   "outputs": [],
   "source": [
    "#\n",
    "# Input: ndvi time series and dates\n",
    "# Output: start and end dates and ndvi values of growing season\n",
    "#\n",
    "def find_start_end_date_season(dates_ts, ndvi_ts):\n",
    "    \n",
    "    # max value position \n",
    "    maxp = int(np.where(ndvi_ts == np.amax(ndvi_ts))[0])\n",
    "    \n",
    "    # start of season\n",
    "        \n",
    "    # first half\n",
    "    x = [d.timetuple().tm_yday for d in dates_ts[0:maxp+1]]\n",
    "    y = ndvi_ts[0:maxp+1]\n",
    "    \n",
    "\n",
    "    # choose best fit (linear, square, cubic)\n",
    "    r2 = 0\n",
    "    #p1 = None\n",
    "    for d in [1,2,3]:\n",
    "    \n",
    "        coeffs_aux = np.polyfit(x=x, y=y, deg=d)\n",
    "        p1_aux = np.poly1d(coeffs_aux)\n",
    "\n",
    "        r2_aux = 1 - sum((y-p1_aux(x))**2) / sum((y-np.mean(y))**2)\n",
    "    \n",
    "        if r2_aux > r2:\n",
    "            coeffs = coeffs_aux\n",
    "            p1 = p1_aux\n",
    "            r2 = r2_aux\n",
    "\n",
    "    #if p1 is None:\n",
    "    #    return -9999, -9999, -9999, -9999\n",
    "            \n",
    "    # derivative\n",
    "    p2 = np.polyder(p1)\n",
    "    \n",
    "    \n",
    "    for vp, vpd, d, ddate in zip(y,p2(x),x,dates_ts):\n",
    "    \n",
    "        #print(d, vpd, vp)\n",
    "    \n",
    "        # if derivative positive and ndvi value positive\n",
    "        # get values and stop search\n",
    "        if vpd > 0 and vp > 0:\n",
    "        \n",
    "            #print(d, vpd, vp)\n",
    "        \n",
    "            start_season_ndvi = vp\n",
    "            start_season_date = ddate\n",
    "        \n",
    "            break\n",
    "            \n",
    "\n",
    "    # END OF SEASON\n",
    "    \n",
    "    x = [d.timetuple().tm_yday for d in dates_ts[maxp:]]\n",
    "    y = ndvi_ts[maxp:]\n",
    "    \n",
    "    \n",
    "    x_fliped = np.flip(x)\n",
    "    y_fliped = np.flip(y)\n",
    "\n",
    "    # choose best fit\n",
    "    r2 = 0\n",
    "    #p1 = None\n",
    "    for d in [1,2,3]:\n",
    "    \n",
    "        coeffs_aux = np.polyfit(x=x, y=y_fliped, deg=d)\n",
    "        p1_aux = np.poly1d(coeffs_aux)\n",
    "\n",
    "        r2_aux = 1 - sum((y_fliped-p1_aux(x))**2) / sum((y_fliped-np.mean(y_fliped))**2)\n",
    "    \n",
    "        if r2_aux > r2:\n",
    "            coeffs = coeffs_aux\n",
    "            p1 = p1_aux\n",
    "            r2 = r2_aux\n",
    "\n",
    "    # derivative\n",
    "    p2 = np.polyder(p1)\n",
    "    \n",
    "    idx = 0\n",
    "    idx_fliped = 0\n",
    "    for vp, vpd, d, d_f in zip(y_fliped,p2(x),x,x_fliped):\n",
    "    \n",
    "        #print(d, vpd, vp)\n",
    "        \n",
    "        # if derivative positive and ndvi value positive\n",
    "        # get values and stop search\n",
    "        if vpd > 0 and vp > 0:\n",
    "        \n",
    "            #print(d, vpd, vp)\n",
    "        \n",
    "            d = d_f\n",
    "            \n",
    "            idx_fliped = idx\n",
    "            \n",
    "            break\n",
    "            \n",
    "        idx = idx + 1\n",
    "    \n",
    "    \n",
    "    \n",
    "        \n",
    "\n",
    "    idx_end = len(dates_ts) - (idx_fliped+1)\n",
    "        \n",
    "    end_season_date = dates_ts[idx_end]\n",
    "    end_season_ndvi = ndvi_ts[idx_end]\n",
    "\n",
    "    \n",
    "    #plt.plot(x, y, 'o')\n",
    "    #plt.plot(d, vp, 's')\n",
    "    #plt.plot(x, p1(x))\n",
    "    #plt.plot(x, p2(x))\n",
    "    \n",
    "    #print('poly')\n",
    "    #print(p1)\n",
    "    #print('derivative')\n",
    "    #print(p2(x))\n",
    "    #print('r2')\n",
    "\n",
    "\n",
    "    #print(idx_end)\n",
    "\n",
    "    \n",
    "    return start_season_date, start_season_ndvi, end_season_date, end_season_ndvi\n",
    "\n",
    "\n",
    "#print(start_season_date.strftime(\"%Y%j\"), start_season_ndvi)\n",
    "#print(end_season_date.strftime(\"%Y%j\"), end_season_ndvi)"
   ]
  },
  {
   "cell_type": "code",
   "execution_count": 195,
   "metadata": {},
   "outputs": [
    {
     "name": "stderr",
     "output_type": "stream",
     "text": [
      "/home/vacc/.conda/envs/vacc-env2/lib/python2.7/site-packages/ipykernel_launcher.py:69: RankWarning: Polyfit may be poorly conditioned\n",
      "/home/vacc/.conda/envs/vacc-env2/lib/python2.7/site-packages/ipykernel_launcher.py:72: RuntimeWarning: divide by zero encountered in double_scalars\n",
      "/home/vacc/.conda/envs/vacc-env2/lib/python2.7/site-packages/ipykernel_launcher.py:69: RankWarning: Polyfit may be poorly conditioned\n",
      "/home/vacc/.conda/envs/vacc-env2/lib/python2.7/site-packages/ipykernel_launcher.py:69: RankWarning: Polyfit may be poorly conditioned\n",
      "/home/vacc/.conda/envs/vacc-env2/lib/python2.7/site-packages/ipykernel_launcher.py:72: RuntimeWarning: invalid value encountered in double_scalars\n"
     ]
    },
    {
     "data": {
      "image/png": "[encoded data removed]",
      "text/plain": [
       "<Figure size 432x288 with 1 Axes>"
      ]
     },
     "metadata": {
      "needs_background": "light"
     },
     "output_type": "display_data"
    }
   ],
   "source": [
    "# get start and end date for a give pixel TS\n",
    "if check_results:\n",
    "    \n",
    "    \n",
    "    \n",
    "    ndvi_values = [ndvi_img[point[0], point[1]] for ndvi_img in ndvi_img_inter]\n",
    "    \n",
    "    \n",
    "    start_season_date, start_season_ndvi, end_season_date, end_season_ndvi = find_start_end_date_season(dates_inter, ndvi_values)\n",
    "    \n",
    "    \n",
    "    fig = plt.figure()\n",
    "    \n",
    "    plt.plot(dates_inter, ndvi_values, '-')\n",
    "    plt.plot(dates_inter, ndvi_values, 'o')\n",
    "    plt.plot(start_season_date, start_season_ndvi, 's')\n",
    "    plt.plot(end_season_date, end_season_ndvi, 's')\n",
    "    \n",
    "    ndvi_values = np.array(ndvi_values)\n",
    "    dates_inter = np.array(dates_inter)\n",
    "\n",
    "    \n",
    "    #plt.vlines([datetime.datetime(2014, 1, 1, 0, 0), datetime.datetime(2015, 1, 1, 0, 0), datetime.datetime(2016, 1, 1, 0, 0), datetime.datetime(2017, 1, 1, 0, 0), datetime.datetime(2018, 1, 1, 0, 0)], -1, 1, colors='b', linestyle='--')\n",
    "    \n",
    "    #plt.vlines([datetime.datetime(2014, 4, 1, 0, 0), datetime.datetime(2015, 4, 1, 0, 0), datetime.datetime(2016, 4, 1, 0, 0), datetime.datetime(2017, 4, 1, 0, 0)], -1, 1, colors='g', linestyle='--')\n",
    "    #plt.vlines([datetime.datetime(2014, 9, 1, 0, 0), datetime.datetime(2015, 9, 1, 0, 0), datetime.datetime(2016, 9, 1, 0, 0), datetime.datetime(2017, 9, 1, 0, 0)], -1, 1, colors='r', linestyle='--')\n",
    "    \n",
    "    plt.ylim((-1, 1))\n",
    "    #plt.set_xlim([0, 5])\n",
    "\n",
    "    plt.xticks(rotation=45)\n",
    "    plt.xlabel('date')\n",
    "    plt.ylabel('ndvi')\n",
    "    #plt.title('Chlorophyll-a concentration (percentile 90)\\nAzores (' + str_area_title + ')')\n",
    "    #plt.rcParams[\"figure.figsize\"] = (12, 6) # (w, h)\n",
    "\n",
    "    #plt.savefig('ndvi_tm.png', dpi=300)\n",
    "    plt.show()"
   ]
  },
  {
   "cell_type": "code",
   "execution_count": 152,
   "metadata": {},
   "outputs": [
    {
     "name": "stdout",
     "output_type": "stream",
     "text": [
      "(0, 8)\n",
      "(1, 7)\n",
      "(1, 8)\n",
      "(1, 9)\n",
      "(2, 7)\n",
      "(2, 8)\n",
      "(2, 9)\n",
      "(2, 10)\n",
      "(3, 6)\n",
      "(3, 7)\n",
      "(3, 8)\n",
      "(3, 9)\n",
      "(3, 10)\n",
      "(3, 11)\n",
      "(4, 5)\n",
      "(4, 6)\n",
      "(4, 7)\n",
      "(4, 8)\n",
      "(4, 9)\n",
      "(4, 10)\n",
      "(4, 11)\n",
      "(4, 12)\n",
      "(5, 4)\n",
      "(5, 5)\n",
      "(5, 6)\n",
      "(5, 7)\n",
      "(5, 8)\n",
      "(5, 9)\n",
      "(5, 10)\n",
      "(5, 11)\n",
      "(5, 12)\n",
      "(5, 13)\n",
      "(6, 4)\n",
      "(6, 5)\n",
      "(6, 6)\n",
      "(6, 7)\n",
      "(6, 8)\n",
      "(6, 9)\n",
      "(6, 10)\n",
      "(6, 11)\n",
      "(6, 12)\n",
      "(6, 13)\n",
      "(6, 14)\n",
      "(7, 3)\n",
      "(7, 4)\n",
      "(7, 5)\n",
      "(7, 6)\n",
      "(7, 7)\n",
      "(7, 8)\n",
      "(7, 9)\n",
      "(7, 10)\n",
      "(7, 11)\n",
      "(7, 12)\n",
      "(7, 13)\n",
      "(7, 14)\n",
      "(7, 15)\n",
      "(8, 2)\n",
      "(8, 3)\n",
      "(8, 4)\n",
      "(8, 5)\n",
      "(8, 6)\n",
      "(8, 7)\n",
      "(8, 8)\n",
      "(8, 9)\n",
      "(8, 10)\n",
      "(8, 11)\n",
      "(8, 12)\n",
      "(8, 13)\n",
      "(8, 14)\n",
      "(8, 15)\n",
      "(8, 16)\n",
      "(8, 17)\n",
      "(9, 2)\n",
      "(9, 3)\n",
      "(9, 4)\n",
      "(9, 5)\n",
      "(9, 6)\n",
      "(9, 7)\n",
      "(9, 8)\n",
      "(9, 9)\n",
      "(9, 10)\n",
      "(9, 11)\n",
      "(9, 12)\n",
      "(9, 13)\n",
      "(9, 14)\n",
      "(9, 15)\n",
      "(9, 16)\n",
      "(9, 17)\n",
      "(9, 18)\n",
      "(10, 1)\n",
      "(10, 2)\n",
      "(10, 3)\n",
      "(10, 4)\n",
      "(10, 5)\n",
      "(10, 6)\n",
      "(10, 7)\n",
      "(10, 8)\n",
      "(10, 9)\n",
      "(10, 10)\n",
      "(10, 11)\n",
      "(10, 12)\n",
      "(10, 13)\n",
      "(10, 14)\n",
      "(10, 15)\n",
      "(10, 16)\n",
      "(10, 17)\n",
      "(10, 18)\n",
      "(10, 19)\n",
      "(11, 1)\n",
      "(11, 2)\n",
      "(11, 3)\n",
      "(11, 4)\n",
      "(11, 5)\n",
      "(11, 6)\n",
      "(11, 7)\n",
      "(11, 8)\n",
      "(11, 9)\n",
      "(11, 10)\n",
      "(11, 11)\n",
      "(11, 12)\n",
      "(11, 13)\n",
      "(11, 14)\n",
      "(11, 15)\n",
      "(11, 16)\n",
      "(11, 17)\n",
      "(11, 18)\n",
      "(11, 19)\n",
      "(11, 20)\n",
      "(12, 3)\n",
      "(12, 4)\n",
      "(12, 5)\n",
      "(12, 6)\n",
      "(12, 7)\n",
      "(12, 8)\n",
      "(12, 9)\n",
      "(12, 10)\n",
      "(12, 11)\n",
      "(12, 12)\n",
      "(12, 13)\n",
      "(12, 14)\n",
      "(12, 15)\n",
      "(12, 16)\n",
      "(12, 17)\n",
      "(12, 18)\n",
      "(12, 19)\n",
      "(12, 20)\n",
      "(13, 4)\n",
      "(13, 5)\n",
      "(13, 6)\n",
      "(13, 7)\n",
      "(13, 8)\n",
      "(13, 9)\n",
      "(13, 10)\n",
      "(13, 11)\n",
      "(13, 12)\n",
      "(13, 13)\n",
      "(13, 14)\n",
      "(13, 15)\n",
      "(13, 16)\n",
      "(13, 17)\n",
      "(13, 18)\n",
      "(13, 19)\n",
      "(13, 20)\n",
      "(14, 5)\n",
      "(14, 6)\n",
      "(14, 7)\n",
      "(14, 8)\n",
      "(14, 9)\n",
      "(14, 10)\n",
      "(14, 11)\n",
      "(14, 12)\n",
      "(14, 13)\n",
      "(14, 14)\n",
      "(14, 15)\n",
      "(14, 16)\n",
      "(14, 17)\n",
      "(14, 18)\n",
      "(14, 19)\n",
      "(15, 6)\n",
      "(15, 7)\n",
      "(15, 8)\n",
      "(15, 9)\n",
      "(15, 10)\n",
      "(15, 11)\n",
      "(15, 12)\n",
      "(15, 13)\n",
      "(15, 14)\n",
      "(15, 15)\n",
      "(15, 16)\n",
      "(15, 17)\n",
      "(15, 18)\n",
      "(16, 7)\n",
      "(16, 8)\n",
      "(16, 9)\n",
      "(16, 10)\n",
      "(16, 11)\n",
      "(16, 12)\n",
      "(16, 13)\n",
      "(16, 14)\n",
      "(16, 15)\n",
      "(16, 16)\n",
      "(16, 17)\n",
      "(17, 8)\n",
      "(17, 9)\n",
      "(17, 10)\n",
      "(17, 11)\n",
      "(17, 12)\n",
      "(17, 13)\n"
     ]
    },
    {
     "name": "stderr",
     "output_type": "stream",
     "text": [
      "/home/vacc/.conda/envs/vacc-env2/lib/python2.7/site-packages/ipykernel_launcher.py:70: RankWarning: Polyfit may be poorly conditioned\n",
      "/home/vacc/.conda/envs/vacc-env2/lib/python2.7/site-packages/ipykernel_launcher.py:73: RuntimeWarning: divide by zero encountered in double_scalars\n",
      "/home/vacc/.conda/envs/vacc-env2/lib/python2.7/site-packages/ipykernel_launcher.py:70: RankWarning: Polyfit may be poorly conditioned\n",
      "/home/vacc/.conda/envs/vacc-env2/lib/python2.7/site-packages/ipykernel_launcher.py:70: RankWarning: Polyfit may be poorly conditioned\n",
      "/home/vacc/.conda/envs/vacc-env2/lib/python2.7/site-packages/ipykernel_launcher.py:73: RuntimeWarning: invalid value encountered in double_scalars\n"
     ]
    },
    {
     "ename": "TypeError",
     "evalue": "len() of unsized object",
     "output_type": "error",
     "traceback": [
      "\u001b[0;31m\u001b[0m",
      "\u001b[0;31mTypeError\u001b[0mTraceback (most recent call last)",
      "\u001b[0;32m<ipython-input-152-5284eb84ea4b>\u001b[0m in \u001b[0;36m<module>\u001b[0;34m()\u001b[0m\n\u001b[1;32m     13\u001b[0m             \u001b[0;32mprint\u001b[0m\u001b[0;34m(\u001b[0m\u001b[0mi\u001b[0m\u001b[0;34m,\u001b[0m\u001b[0mj\u001b[0m\u001b[0;34m)\u001b[0m\u001b[0;34m\u001b[0m\u001b[0m\n\u001b[1;32m     14\u001b[0m \u001b[0;34m\u001b[0m\u001b[0m\n\u001b[0;32m---> 15\u001b[0;31m             \u001b[0mstart_season_date\u001b[0m\u001b[0;34m,\u001b[0m \u001b[0mstart_season_ndvi\u001b[0m\u001b[0;34m,\u001b[0m \u001b[0mend_season_date\u001b[0m\u001b[0;34m,\u001b[0m \u001b[0mend_season_ndvi\u001b[0m \u001b[0;34m=\u001b[0m \u001b[0mfind_start_end_date_season\u001b[0m\u001b[0;34m(\u001b[0m\u001b[0mdates_inter\u001b[0m\u001b[0;34m,\u001b[0m \u001b[0mndvi_tm\u001b[0m\u001b[0;34m)\u001b[0m\u001b[0;34m\u001b[0m\u001b[0m\n\u001b[0m\u001b[1;32m     16\u001b[0m \u001b[0;34m\u001b[0m\u001b[0m\n\u001b[1;32m     17\u001b[0m             \u001b[0mstart_date_img\u001b[0m\u001b[0;34m[\u001b[0m\u001b[0mi\u001b[0m\u001b[0;34m,\u001b[0m\u001b[0mj\u001b[0m\u001b[0;34m]\u001b[0m \u001b[0;34m=\u001b[0m \u001b[0mstart_season_date\u001b[0m\u001b[0;34m.\u001b[0m\u001b[0mstrftime\u001b[0m\u001b[0;34m(\u001b[0m\u001b[0;34m\"%Y%j\"\u001b[0m\u001b[0;34m)\u001b[0m\u001b[0;34m\u001b[0m\u001b[0m\n",
      "\u001b[0;32m<ipython-input-147-ad6d10bf18ec>\u001b[0m in \u001b[0;36mfind_start_end_date_season\u001b[0;34m(dates_ts, ndvi_ts)\u001b[0m\n\u001b[1;32m     79\u001b[0m \u001b[0;34m\u001b[0m\u001b[0m\n\u001b[1;32m     80\u001b[0m     \u001b[0;31m# derivative\u001b[0m\u001b[0;34m\u001b[0m\u001b[0;34m\u001b[0m\u001b[0m\n\u001b[0;32m---> 81\u001b[0;31m     \u001b[0mp2\u001b[0m \u001b[0;34m=\u001b[0m \u001b[0mnp\u001b[0m\u001b[0;34m.\u001b[0m\u001b[0mpolyder\u001b[0m\u001b[0;34m(\u001b[0m\u001b[0mp1\u001b[0m\u001b[0;34m)\u001b[0m\u001b[0;34m\u001b[0m\u001b[0m\n\u001b[0m\u001b[1;32m     82\u001b[0m \u001b[0;34m\u001b[0m\u001b[0m\n\u001b[1;32m     83\u001b[0m     \u001b[0midx\u001b[0m \u001b[0;34m=\u001b[0m \u001b[0;36m0\u001b[0m\u001b[0;34m\u001b[0m\u001b[0m\n",
      "\u001b[0;32m/home/vacc/.conda/envs/vacc-env2/lib/python2.7/site-packages/numpy/lib/polynomial.pyc\u001b[0m in \u001b[0;36mpolyder\u001b[0;34m(p, m)\u001b[0m\n\u001b[1;32m    414\u001b[0m     \u001b[0mtruepoly\u001b[0m \u001b[0;34m=\u001b[0m \u001b[0misinstance\u001b[0m\u001b[0;34m(\u001b[0m\u001b[0mp\u001b[0m\u001b[0;34m,\u001b[0m \u001b[0mpoly1d\u001b[0m\u001b[0;34m)\u001b[0m\u001b[0;34m\u001b[0m\u001b[0m\n\u001b[1;32m    415\u001b[0m     \u001b[0mp\u001b[0m \u001b[0;34m=\u001b[0m \u001b[0mNX\u001b[0m\u001b[0;34m.\u001b[0m\u001b[0masarray\u001b[0m\u001b[0;34m(\u001b[0m\u001b[0mp\u001b[0m\u001b[0;34m)\u001b[0m\u001b[0;34m\u001b[0m\u001b[0m\n\u001b[0;32m--> 416\u001b[0;31m     \u001b[0mn\u001b[0m \u001b[0;34m=\u001b[0m \u001b[0mlen\u001b[0m\u001b[0;34m(\u001b[0m\u001b[0mp\u001b[0m\u001b[0;34m)\u001b[0m \u001b[0;34m-\u001b[0m \u001b[0;36m1\u001b[0m\u001b[0;34m\u001b[0m\u001b[0m\n\u001b[0m\u001b[1;32m    417\u001b[0m     \u001b[0my\u001b[0m \u001b[0;34m=\u001b[0m \u001b[0mp\u001b[0m\u001b[0;34m[\u001b[0m\u001b[0;34m:\u001b[0m\u001b[0;34m-\u001b[0m\u001b[0;36m1\u001b[0m\u001b[0;34m]\u001b[0m \u001b[0;34m*\u001b[0m \u001b[0mNX\u001b[0m\u001b[0;34m.\u001b[0m\u001b[0marange\u001b[0m\u001b[0;34m(\u001b[0m\u001b[0mn\u001b[0m\u001b[0;34m,\u001b[0m \u001b[0;36m0\u001b[0m\u001b[0;34m,\u001b[0m \u001b[0;34m-\u001b[0m\u001b[0;36m1\u001b[0m\u001b[0;34m)\u001b[0m\u001b[0;34m\u001b[0m\u001b[0m\n\u001b[1;32m    418\u001b[0m     \u001b[0;32mif\u001b[0m \u001b[0mm\u001b[0m \u001b[0;34m==\u001b[0m \u001b[0;36m0\u001b[0m\u001b[0;34m:\u001b[0m\u001b[0;34m\u001b[0m\u001b[0m\n",
      "\u001b[0;31mTypeError\u001b[0m: len() of unsized object"
     ]
    }
   ],
   "source": [
    "# compute start and end dates of growing season for all images\n",
    "\n",
    "start_date_img = np.full_like(ndvi_img_inter[0].data, -9999.0)\n",
    "end_date_img = np.full_like(ndvi_img_inter[0].data, -9999.0)\n",
    "\n",
    "for i in range(ndvi_img_inter[0].shape[0]):\n",
    "    for j in range(ndvi_img_inter[0].shape[1]):\n",
    "        \n",
    "        ndvi_tm = ma.array([img[i,j] for img in ndvi_img_inter])\n",
    "        \n",
    "        if (ndvi_tm.count() > 0):\n",
    "            \n",
    "            print(i,j)\n",
    "            \n",
    "            start_season_date, start_season_ndvi, end_season_date, end_season_ndvi = find_start_end_date_season(dates_inter, ndvi_tm)\n",
    "            \n",
    "            start_date_img[i,j] = start_season_date.strftime(\"%Y%j\")\n",
    "            end_date_img[i,j] = end_season_date.strftime(\"%Y%j\")"
   ]
  },
  {
   "cell_type": "markdown",
   "metadata": {},
   "source": [
    "#### Check start and end dates of growing season"
   ]
  },
  {
   "cell_type": "code",
   "execution_count": null,
   "metadata": {},
   "outputs": [],
   "source": [
    "if check_results:\n",
    "    \n",
    "    import matplotlib\n",
    "    import matplotlib.pyplot as plt\n",
    "\n",
    "    fig = plt.figure()\n",
    "    plt.imshow(end_date_img)\n",
    "    \n",
    "    plt.show()\n",
    "    \n",
    "type(end_date_img)"
   ]
  },
  {
   "cell_type": "code",
   "execution_count": null,
   "metadata": {},
   "outputs": [],
   "source": [
    "# check results for a given pixel\n",
    "if check_results:\n",
    "    \n",
    "    ndvi_values = [ndvi_img[point[0], point[1]] for ndvi_img in ndvi_img_inter]\n",
    "    \n",
    "    fig = plt.figure()\n",
    "    \n",
    "    plt.plot(dates_inter, ndvi_values, '-')\n",
    "    plt.plot(dates_inter, ndvi_values, 'o')\n",
    "    #plt.plot( datetime.datetime.strptime(str(int(end_date_img[point[0], point[1]])), '%Y%j'), 0, 's')\n",
    "    #plt.plot( datetime.datetime.strptime(str(int(start_date_img[point[0], point[1]])), '%Y%j'), 0, 's')\n",
    "    \n",
    "    start_date_px = datetime.datetime.strptime(str(int(start_date_img[point[0], point[1]])), '%Y%j')\n",
    "    end_date_px = datetime.datetime.strptime(str(int(end_date_img[point[0], point[1]])), '%Y%j')\n",
    "    \n",
    "    plt.vlines([start_date_px], -1, 1, colors='g', linestyle='--')\n",
    "    plt.vlines([end_date_px], -1, 1, colors='r', linestyle='--')\n",
    "    \n",
    "    \n",
    "    ndvi_values = np.array(ndvi_values)\n",
    "    dates_inter = np.array(dates_inter)\n",
    "\n",
    "   \n",
    "    plt.ylim((-1, 1))\n",
    "    #plt.set_xlim([0, 5])\n",
    "\n",
    "    plt.xticks(rotation=45)\n",
    "    plt.xlabel('date')\n",
    "    plt.ylabel('ndvi')\n",
    "    #plt.title('Chlorophyll-a concentration (percentile 90)\\nAzores (' + str_area_title + ')')\n",
    "    #plt.rcParams[\"figure.figsize\"] = (12, 6) # (w, h)\n",
    "\n",
    "    #plt.savefig('ndvi_tm.png', dpi=300)\n",
    "    plt.show()"
   ]
  },
  {
   "cell_type": "markdown",
   "metadata": {},
   "source": [
    "#### Get NDVI differences"
   ]
  },
  {
   "cell_type": "code",
   "execution_count": null,
   "metadata": {},
   "outputs": [],
   "source": [
    "def get_ndvi_diffs (matrix_img_list):\n",
    "    \n",
    "    dif_matrix_img_list = []\n",
    "    for i in range(len(matrix_img_list) - 1):\n",
    "        \n",
    "        diff = matrix_img_list[i+1] - matrix_img_list[i]\n",
    "        \n",
    "        dif_matrix_img_list.append(diff)\n",
    "        \n",
    "    return dif_matrix_img_list\n",
    "        \n",
    "dif_matrix_img_list = get_ndvi_diffs (ndvi_img_inter)"
   ]
  },
  {
   "cell_type": "code",
   "execution_count": null,
   "metadata": {},
   "outputs": [],
   "source": [
    "if check_results:\n",
    "    \n",
    "    ndvi_values = [ndvi_img[point[0], point[1]] for ndvi_img in dif_matrix_img_list]\n",
    "    \n",
    "    fig = plt.figure()\n",
    "    \n",
    "    plt.plot(dates_inter[:-1], ndvi_values, '-')\n",
    "    plt.plot(dates_inter[:-1], ndvi_values, 'o')\n",
    "    \n",
    "    plt.ylim((-1, 1))\n",
    "    #plt.set_xlim([0, 5])\n",
    "\n",
    "    plt.xticks(rotation=45)\n",
    "    plt.xlabel('date')\n",
    "    plt.ylabel('ndvi dif')\n",
    "    #plt.title('Chlorophyll-a concentration (percentile 90)\\nAzores (' + str_area_title + ')')\n",
    "    plt.rcParams[\"figure.figsize\"] = (12, 6) # (w, h)\n",
    "\n",
    "    #plt.savefig('ndvi_graph.png', dpi=300)\n",
    "    plt.show()"
   ]
  },
  {
   "cell_type": "markdown",
   "metadata": {},
   "source": [
    "Cumulative NDVI value for growing season"
   ]
  },
  {
   "cell_type": "code",
   "execution_count": null,
   "metadata": {},
   "outputs": [],
   "source": [
    "\n",
    "def get_ndvi_cumulative (matrix_img_list):\n",
    "    \n",
    "    cumulative_matrix_img_list = []\n",
    "    \n",
    "    cum_ndvi = []\n",
    "    for idx,img_ndvi in enumerate(matrix_img_list):\n",
    "        if idx == 0:\n",
    "            cum_ndvi = img_ndvi\n",
    "        else:\n",
    "            cum_ndvi = cum_ndvi + img_ndvi\n",
    "        \n",
    "        cumulative_matrix_img_list.append(cum_ndvi)\n",
    "        \n",
    "    return cumulative_matrix_img_list\n",
    "        \n",
    "cumulative_matrix_img_list = get_ndvi_cumulative (ndvi_img_inter)"
   ]
  },
  {
   "cell_type": "code",
   "execution_count": null,
   "metadata": {},
   "outputs": [],
   "source": [
    "if check_results:\n",
    "    \n",
    "    ndvi_values = [ndvi_img[point[0], point[1]] for ndvi_img in cumulative_matrix_img_list]\n",
    "    \n",
    "    fig = plt.figure()\n",
    "    \n",
    "    plt.plot(dates_inter, ndvi_values, '-')\n",
    "    plt.plot(dates_inter, ndvi_values, 'o')\n",
    "    \n",
    "    #plt.ylim((-1, 1))\n",
    "    #plt.set_xlim([0, 5])\n",
    "\n",
    "    plt.xticks(rotation=45)\n",
    "    plt.xlabel('date')\n",
    "    plt.ylabel('mg m^-3')\n",
    "    #plt.title('Chlorophyll-a concentration (percentile 90)\\nAzores (' + str_area_title + ')')\n",
    "    plt.rcParams[\"figure.figsize\"] = (12, 6) # (w, h)\n",
    "\n",
    "    #plt.savefig('ndvi_graph.png', dpi=300)\n",
    "    plt.show()"
   ]
  },
  {
   "cell_type": "markdown",
   "metadata": {},
   "source": [
    "Cumulative NDVI value for growing season"
   ]
  },
  {
   "cell_type": "code",
   "execution_count": null,
   "metadata": {},
   "outputs": [],
   "source": [
    "'''\n",
    "def get_inverse_ndvi_cumulative (matrix_img_list):\n",
    "    \n",
    "    inv_cumulative_matrix_img_list = []\n",
    "    \n",
    "    inv_cum_ndvi = []\n",
    "    for idx,img_ndvi in enumerate(reversed(matrix_img_list)):\n",
    "        \n",
    "        \n",
    "        \n",
    "        if idx == 0:\n",
    "            inv_cum_ndvi = img_ndvi\n",
    "        else:\n",
    "            inv_cum_ndvi = inv_cum_ndvi + img_ndvi\n",
    "            \n",
    "        \n",
    "        \n",
    "        inv_cumulative_matrix_img_list.append(inv_cum_ndvi)\n",
    "        \n",
    "    return list(reversed(inv_cumulative_matrix_img_list))\n",
    "        \n",
    "inv_cumulative_matrix_img_list = get_inverse_ndvi_cumulative (ndvi_img_inter)\n",
    "'''"
   ]
  },
  {
   "cell_type": "code",
   "execution_count": null,
   "metadata": {},
   "outputs": [],
   "source": [
    "'''\n",
    "if check_results:\n",
    "    \n",
    "    ndvi_values = [ndvi_img[point[0], point[1]] for ndvi_img in inv_cumulative_matrix_img_list]\n",
    "    \n",
    "    fig = plt.figure()\n",
    "    \n",
    "    plt.plot(dates_inter, ndvi_values, '-')\n",
    "    plt.plot(dates_inter, ndvi_values, 'o')\n",
    "    \n",
    "    #plt.ylim((-1, 1))\n",
    "    #plt.set_xlim([0, 5])\n",
    "\n",
    "    plt.xticks(rotation=45)\n",
    "    plt.xlabel('date')\n",
    "    plt.ylabel('mg m^-3')\n",
    "    #plt.title('Chlorophyll-a concentration (percentile 90)\\nAzores (' + str_area_title + ')')\n",
    "    plt.rcParams[\"figure.figsize\"] = (12, 6) # (w, h)\n",
    "\n",
    "    #plt.savefig('ndvi_graph.png', dpi=300)\n",
    "    plt.show()\n",
    "    \n",
    "    print(ndvi_values)\n",
    "'''"
   ]
  },
  {
   "cell_type": "code",
   "execution_count": null,
   "metadata": {},
   "outputs": [],
   "source": [
    "'''\n",
    "if check_results:\n",
    "    \n",
    "    ndvi_values = [ndvi_img[point[0], point[1]] for ndvi_img in inv_cumulative_matrix_img_list]\n",
    "    \n",
    "    fig = plt.figure()\n",
    "    \n",
    "    plt.plot(dates_inter, ndvi_values, '-')\n",
    "    plt.plot(dates_inter, ndvi_values, 'o')\n",
    "    \n",
    "    \n",
    "    ndvi_values = [ndvi_img[point[0], point[1]] for ndvi_img in cumulative_matrix_img_list]\n",
    "    \n",
    "    \n",
    "    \n",
    "    plt.plot(dates_inter, ndvi_values, '-')\n",
    "    plt.plot(dates_inter, ndvi_values, 'o')\n",
    "    \n",
    "    #plt.ylim((-1, 1))\n",
    "    #plt.set_xlim([0, 5])\n",
    "\n",
    "    plt.xticks(rotation=45)\n",
    "    plt.xlabel('date')\n",
    "    plt.ylabel('mg m^-3')\n",
    "    #plt.title('Chlorophyll-a concentration (percentile 90)\\nAzores (' + str_area_title + ')')\n",
    "    plt.rcParams[\"figure.figsize\"] = (12, 6) # (w, h)\n",
    "\n",
    "    #plt.savefig('ndvi_graph.png', dpi=300)\n",
    "    plt.show()\n",
    "    \n",
    "    print(ndvi_values)\n",
    "    \n",
    "'''"
   ]
  },
  {
   "cell_type": "markdown",
   "metadata": {},
   "source": [
    "NDVI peak value"
   ]
  },
  {
   "cell_type": "code",
   "execution_count": null,
   "metadata": {},
   "outputs": [],
   "source": [
    "def get_ndvi_peak (matrix_img_list):\n",
    "  \n",
    "    peak_ndvi = []\n",
    "    for idx,img_ndvi in enumerate(matrix_img_list):\n",
    "        if idx == 0:\n",
    "            peak_ndvi = img_ndvi\n",
    "        else:\n",
    "            peak_ndvi = np.where(peak_ndvi < img_ndvi, img_ndvi, peak_ndvi)\n",
    "        \n",
    "    return peak_ndvi\n",
    "        \n",
    "peak_matrix_img = get_ndvi_peak (ndvi_img_inter)"
   ]
  },
  {
   "cell_type": "code",
   "execution_count": null,
   "metadata": {},
   "outputs": [],
   "source": [
    "if check_results:\n",
    "    import matplotlib\n",
    "    import matplotlib.pyplot as plt\n",
    "\n",
    "    fig = plt.figure()\n",
    "    plt.imshow(peak_matrix_img)\n",
    "    \n",
    "    plt.show()\n",
    "    \n",
    "    print(peak_matrix_img.max())\n",
    "    print(peak_matrix_img.min())"
   ]
  },
  {
   "cell_type": "markdown",
   "metadata": {},
   "source": [
    "#### Mask -9999 values"
   ]
  },
  {
   "cell_type": "code",
   "execution_count": null,
   "metadata": {},
   "outputs": [],
   "source": [
    "start_date_img_ma = ma.masked_array(start_date_img, mask = start_date_img < -9998, fill_value=-9999)\n",
    "\n",
    "type(start_date_img_ma)"
   ]
  },
  {
   "cell_type": "code",
   "execution_count": null,
   "metadata": {},
   "outputs": [],
   "source": [
    "end_date_img_ma = ma.masked_array(end_date_img, mask = end_date_img < -9998, fill_value=-9999)\n",
    "\n",
    "type(end_date_img_ma)"
   ]
  },
  {
   "cell_type": "code",
   "execution_count": null,
   "metadata": {},
   "outputs": [],
   "source": [
    "type(dif_matrix_img_list[0])"
   ]
  },
  {
   "cell_type": "code",
   "execution_count": 123,
   "metadata": {},
   "outputs": [
    {
     "ename": "NameError",
     "evalue": "name 'cumulative_matrix_img_list' is not defined",
     "output_type": "error",
     "traceback": [
      "\u001b[0;31m\u001b[0m",
      "\u001b[0;31mNameError\u001b[0mTraceback (most recent call last)",
      "\u001b[0;32m<ipython-input-123-371ac71b558c>\u001b[0m in \u001b[0;36m<module>\u001b[0;34m()\u001b[0m\n\u001b[0;32m----> 1\u001b[0;31m \u001b[0mtype\u001b[0m\u001b[0;34m(\u001b[0m\u001b[0mcumulative_matrix_img_list\u001b[0m\u001b[0;34m[\u001b[0m\u001b[0;36m0\u001b[0m\u001b[0;34m]\u001b[0m\u001b[0;34m)\u001b[0m\u001b[0;34m\u001b[0m\u001b[0m\n\u001b[0m",
      "\u001b[0;31mNameError\u001b[0m: name 'cumulative_matrix_img_list' is not defined"
     ]
    }
   ],
   "source": [
    "type(cumulative_matrix_img_list[0])"
   ]
  },
  {
   "cell_type": "code",
   "execution_count": null,
   "metadata": {},
   "outputs": [],
   "source": [
    "peak_matrix_img_ma = ma.masked_array(peak_matrix_img, mask = end_date_img < -9998)\n",
    "\n",
    "type(peak_matrix_img_ma[0])"
   ]
  },
  {
   "cell_type": "markdown",
   "metadata": {},
   "source": [
    "## Per Parcel"
   ]
  },
  {
   "cell_type": "code",
   "execution_count": null,
   "metadata": {},
   "outputs": [],
   "source": [
    "#start_date_img_ma.mean()\n",
    "\n",
    "col_names = ['start_date', 'end_date', 'start_growing_season']\n",
    "start_date_parcel = pd.DataFrame(columns=col_names)\n",
    "start_date_parcel = start_date_parcel.append({'start_date': dates_inter[0], 'end_date': dates_inter[-1], 'start_growing_season': int(start_date_img_ma.mean())}, ignore_index=True)\n",
    "\n",
    "start_date_parcel"
   ]
  },
  {
   "cell_type": "code",
   "execution_count": null,
   "metadata": {},
   "outputs": [],
   "source": [
    "#end_date_img_ma.mean()\n",
    "\n",
    "col_names = ['start_date', 'end_date', 'end_growing_season']\n",
    "end_date_parcel = pd.DataFrame(columns=col_names)\n",
    "end_date_parcel = end_date_parcel.append({'start_date': dates_inter[0], 'end_date': dates_inter[-1], 'end_growing_season': int(end_date_img_ma.mean())}, ignore_index=True)\n",
    "\n",
    "end_date_parcel"
   ]
  },
  {
   "cell_type": "code",
   "execution_count": null,
   "metadata": {},
   "outputs": [],
   "source": [
    "#[mat.mean() for mat in dif_matrix_img_list]\n",
    "\n",
    "col_names = ['start_date', 'end_date', 'dif_ndvi']\n",
    "dif_ndvi_parcel = pd.DataFrame(columns=col_names)\n",
    "\n",
    "for idx in range(len(dates_inter)-1):\n",
    "    \n",
    "    dif_ndvi_parcel = dif_ndvi_parcel.append({'start_date': dates_inter[idx], 'end_date': dates_inter[idx+1], 'dif_ndvi': dif_matrix_img_list[idx].mean()}, ignore_index=True)\n",
    "\n",
    "dif_ndvi_parcel"
   ]
  },
  {
   "cell_type": "code",
   "execution_count": null,
   "metadata": {},
   "outputs": [],
   "source": [
    "#[mat.mean() for mat in cumulative_matrix_img_list]\n",
    "\n",
    "col_names = ['start_date', 'end_date', 'cumulative_ndvi']\n",
    "cumulative_ndvi_parcel = pd.DataFrame(columns=col_names)\n",
    "\n",
    "for idx in range(len(dates_inter)):\n",
    "    \n",
    "    cumulative_ndvi_parcel = cumulative_ndvi_parcel.append({'start_date': dates_inter[0], 'end_date': dates_inter[idx], 'cumulative_ndvi': cumulative_matrix_img_list[idx].mean()}, ignore_index=True)\n",
    "\n",
    "cumulative_ndvi_parcel"
   ]
  },
  {
   "cell_type": "code",
   "execution_count": null,
   "metadata": {},
   "outputs": [],
   "source": [
    "#peak_matrix_img_ma.mean()\n",
    "\n",
    "col_names = ['start_date', 'end_date', 'peak_ndvi']\n",
    "peak_ndvi_parcel = pd.DataFrame(columns=col_names)\n",
    "peak_ndvi_parcel = peak_ndvi_parcel.append({'start_date': dates_inter[0], 'end_date': dates_inter[-1], 'peak_ndvi': peak_matrix_img_ma.mean()}, ignore_index=True)\n",
    "\n",
    "peak_ndvi_parcel"
   ]
  },
  {
   "cell_type": "markdown",
   "metadata": {},
   "source": [
    "#### Export results"
   ]
  },
  {
   "cell_type": "code",
   "execution_count": null,
   "metadata": {},
   "outputs": [],
   "source": [
    "# get metada data\n",
    "projection, geotransform, no_data_value, data_type = get_metadata(file_list[0])\n",
    "\n",
    "first_part = input_identifiers[0][0:4]\n",
    "areaOfInterestName = nameOfRegion['value']"
   ]
  },
  {
   "cell_type": "markdown",
   "metadata": {},
   "source": [
    "##### Export to excel"
   ]
  },
  {
   "cell_type": "code",
   "execution_count": null,
   "metadata": {},
   "outputs": [],
   "source": [
    "var_name = 'ndviStats'\n",
    "\n",
    "start_date = dates_inter[0]\n",
    "end_date = dates_inter[-1]\n",
    "\n",
    "excel_output_name = '_'.join([first_part, var_name, areaOfInterestName, start_date.strftime(\"%Y%j\"), end_date.strftime(\"%Y%j\")]) + '.xlsx'\n",
    "    \n",
    "excel_output_name = os.path.join(output_folder, excel_output_name)\n",
    "\n",
    "print(excel_output_name)\n",
    "\n",
    "with pd.ExcelWriter(excel_output_name) as writer:  # doctest: +SKIP\n",
    "    start_date_parcel.to_excel(writer, sheet_name='start_growing_season')\n",
    "    end_date_parcel.to_excel(writer, sheet_name='end_growing_season')\n",
    "    dif_ndvi_parcel.to_excel(writer, sheet_name='dif_ndvi')\n",
    "    cumulative_ndvi_parcel.to_excel(writer, sheet_name='cumulative_ndvi')\n",
    "    peak_ndvi_parcel.to_excel(writer, sheet_name='peak_ndvi')\n"
   ]
  },
  {
   "cell_type": "markdown",
   "metadata": {},
   "source": [
    "difference ndvi"
   ]
  },
  {
   "cell_type": "code",
   "execution_count": null,
   "metadata": {},
   "outputs": [],
   "source": [
    "\n",
    "var_name = 'difNdvi'\n",
    "\n",
    "for idx in range(len(dif_ndvi_parcel)):\n",
    "    \n",
    "    print(dif_ndvi_parcel['start_date'][idx])\n",
    "    \n",
    "    start_date = dif_ndvi_parcel['start_date'][idx]\n",
    "    end_date = dif_ndvi_parcel['end_date'][idx]\n",
    "    \n",
    "    dif_matrix_img = dif_matrix_img_list[idx]\n",
    "    \n",
    "    dif_ndvi_img_name = '_'.join([first_part, var_name, areaOfInterestName, start_date.strftime(\"%Y%j\"), end_date.strftime(\"%Y%j\")]) + '.tif'\n",
    "    \n",
    "    dif_ndvi_img_name = os.path.join(output_folder, dif_ndvi_img_name)\n",
    "    \n",
    "    print(dif_ndvi_img_name)\n",
    "    \n",
    "    write_output_image(dif_ndvi_img_name, dif_matrix_img, 'GTiff', data_type, None, projection, geotransform, no_data_value)\n",
    "    \n",
    "    write_properties_file(dif_ndvi_img_name, start_date, end_date, regionOfInterest['value'])\n"
   ]
  },
  {
   "cell_type": "markdown",
   "metadata": {},
   "source": [
    "Cumulative ndvi"
   ]
  },
  {
   "cell_type": "code",
   "execution_count": null,
   "metadata": {},
   "outputs": [],
   "source": [
    "var_name = 'cumulativeNdvi'\n",
    "\n",
    "for idx in range(len(cumulative_ndvi_parcel)):\n",
    "    \n",
    "    print(cumulative_ndvi_parcel['start_date'][idx])\n",
    "    \n",
    "    start_date = cumulative_ndvi_parcel['start_date'][idx]\n",
    "    end_date = cumulative_ndvi_parcel['end_date'][idx]\n",
    "    \n",
    "    cum_matrix_img = cumulative_matrix_img_list[idx]\n",
    "    \n",
    "    cum_ndvi_img_name = '_'.join([first_part, var_name, areaOfInterestName, start_date.strftime(\"%Y%j\"), end_date.strftime(\"%Y%j\")]) + '.tif'\n",
    "    \n",
    "    cum_ndvi_img_name = os.path.join(output_folder, cum_ndvi_img_name)\n",
    "    \n",
    "    print(cum_ndvi_img_name)\n",
    "    \n",
    "    write_output_image(cum_ndvi_img_name, cum_matrix_img, 'GTiff', data_type, None, projection, geotransform, no_data_value)\n",
    "    \n",
    "    write_properties_file(cum_ndvi_img_name, start_date, end_date, regionOfInterest['value'])"
   ]
  },
  {
   "cell_type": "markdown",
   "metadata": {},
   "source": [
    "Peak value"
   ]
  },
  {
   "cell_type": "code",
   "execution_count": null,
   "metadata": {},
   "outputs": [],
   "source": [
    "#peak_matrix_img_ma\n",
    "#peak_ndvi_parcel\n",
    "\n",
    "var_name = 'ndviPeak'\n",
    "\n",
    "start_date = peak_ndvi_parcel['start_date'][0]\n",
    "end_date = peak_ndvi_parcel['end_date'][0]\n",
    "\n",
    "peak_ndvi_img_name = '_'.join([first_part, var_name, areaOfInterestName, start_date.strftime(\"%Y%j\"), end_date.strftime(\"%Y%j\")]) + '.tif'\n",
    "    \n",
    "peak_ndvi_img_name = os.path.join(output_folder, peak_ndvi_img_name)\n",
    "    \n",
    "print(peak_ndvi_img_name)\n",
    "\n",
    "write_output_image(peak_ndvi_img_name, peak_matrix_img, 'GTiff', data_type, None, projection, geotransform, no_data_value)\n",
    "\n",
    "write_properties_file(peak_ndvi_img_name, start_date, end_date, regionOfInterest['value'])"
   ]
  },
  {
   "cell_type": "markdown",
   "metadata": {},
   "source": [
    "start growing season date"
   ]
  },
  {
   "cell_type": "code",
   "execution_count": null,
   "metadata": {},
   "outputs": [],
   "source": [
    "#start_date_img_ma\n",
    "#start_date_parcel\n",
    "\n",
    "var_name = 'startSeasonNdvi'\n",
    "\n",
    "start_date = start_date_parcel['start_date'][0]\n",
    "end_date = start_date_parcel['end_date'][0]\n",
    "\n",
    "start_date_ndvi_img_name = '_'.join([first_part, var_name, areaOfInterestName, start_date.strftime(\"%Y%j\"), end_date.strftime(\"%Y%j\")]) + '.tif'\n",
    "    \n",
    "start_date_ndvi_img_name = os.path.join(output_folder, start_date_ndvi_img_name)\n",
    "    \n",
    "print(start_date_ndvi_img_name)\n",
    "\n",
    "write_output_image(start_date_ndvi_img_name, start_date_img_ma, 'GTiff', gdal.GDT_Int32, None, projection, geotransform, no_data_value)\n",
    "\n",
    "write_properties_file(start_date_ndvi_img_name, start_date, end_date, regionOfInterest['value'])"
   ]
  },
  {
   "cell_type": "markdown",
   "metadata": {},
   "source": [
    "end growing season date"
   ]
  },
  {
   "cell_type": "code",
   "execution_count": null,
   "metadata": {},
   "outputs": [],
   "source": [
    "#end_date_img_ma\n",
    "#end_date_parcel\n",
    "\n",
    "var_name = 'endSeasonNdvi'\n",
    "\n",
    "start_date = end_date_parcel['start_date'][0]\n",
    "end_date = end_date_parcel['end_date'][0]\n",
    "\n",
    "end_date_ndvi_img_name = '_'.join([first_part, var_name, areaOfInterestName, start_date.strftime(\"%Y%j\"), end_date.strftime(\"%Y%j\")]) + '.tif'\n",
    "    \n",
    "end_date_ndvi_img_name = os.path.join(output_folder, end_date_ndvi_img_name)\n",
    "    \n",
    "print(end_date_ndvi_img_name)\n",
    "\n",
    "write_output_image(end_date_ndvi_img_name, end_date_img_ma, 'GTiff', gdal.GDT_Int32, None, projection, geotransform, no_data_value)\n",
    "\n",
    "write_properties_file(end_date_ndvi_img_name, start_date, end_date, regionOfInterest['value'])"
   ]
  },
  {
   "cell_type": "markdown",
   "metadata": {},
   "source": [
    "#### Remove temporay files and folders"
   ]
  },
  {
   "cell_type": "code",
   "execution_count": null,
   "metadata": {},
   "outputs": [],
   "source": [
    "rm_cfolder(temp_folder)\n",
    "\n",
    "os.rmdir(temp_folder)"
   ]
  }
 ],
 "metadata": {
  "kernelspec": {
   "display_name": "vacc-env2",
   "language": "python",
   "name": "vacc-env2"
  },
  "language_info": {
   "codemirror_mode": {
    "name": "ipython",
    "version": 2
   },
   "file_extension": ".py",
   "mimetype": "text/x-python",
   "name": "python",
   "nbconvert_exporter": "python",
   "pygments_lexer": "ipython2",
   "version": "2.7.15"
  }
 },
 "nbformat": 4,
 "nbformat_minor": 2
}
